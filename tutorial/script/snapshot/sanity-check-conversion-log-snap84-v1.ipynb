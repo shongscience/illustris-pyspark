{
 "cells": [
  {
   "cell_type": "markdown",
   "metadata": {},
   "source": [
    "# Cross Check up for hdf5 vs. hdfs parquets\n",
    "\n",
    "- tba \n"
   ]
  },
  {
   "cell_type": "code",
   "execution_count": 29,
   "metadata": {
    "execution": {
     "iopub.execute_input": "2025-07-04T06:38:07.232645Z",
     "iopub.status.busy": "2025-07-04T06:38:07.232306Z",
     "iopub.status.idle": "2025-07-04T06:38:07.235990Z",
     "shell.execute_reply": "2025-07-04T06:38:07.235459Z",
     "shell.execute_reply.started": "2025-07-04T06:38:07.232620Z"
    },
    "tags": []
   },
   "outputs": [],
   "source": [
    "# basic packages\n",
    "import sys\n",
    "import numpy as np\n",
    "import pandas as pd\n",
    "import matplotlib.pyplot as plt\n",
    "from scipy.spatial import cKDTree\n",
    "\n",
    "import glob\n",
    "#import databricks.koalas as ks\n",
    "\n",
    "# the default `sequence` option merges all partitions into a single catastrophic one : what?\n",
    "#ks.set_option('compute.default_index_type', 'distributed') \n"
   ]
  },
  {
   "cell_type": "markdown",
   "metadata": {},
   "source": [
    "## Read data "
   ]
  },
  {
   "cell_type": "code",
   "execution_count": 30,
   "metadata": {
    "execution": {
     "iopub.execute_input": "2025-07-04T06:38:07.942585Z",
     "iopub.status.busy": "2025-07-04T06:38:07.942281Z",
     "iopub.status.idle": "2025-07-04T06:38:07.952892Z",
     "shell.execute_reply": "2025-07-04T06:38:07.952401Z",
     "shell.execute_reply.started": "2025-07-04T06:38:07.942560Z"
    },
    "tags": []
   },
   "outputs": [
    {
     "name": "stdout",
     "output_type": "stream",
     "text": [
      "/home/shong/work/illustris/script/snapshot\n"
     ]
    }
   ],
   "source": [
    "workdir = !pwd\n",
    "print(workdir[0])"
   ]
  },
  {
   "cell_type": "markdown",
   "metadata": {
    "execution": {
     "iopub.execute_input": "2025-07-04T05:46:25.140250Z",
     "iopub.status.busy": "2025-07-04T05:46:25.139956Z",
     "iopub.status.idle": "2025-07-04T05:46:25.142818Z",
     "shell.execute_reply": "2025-07-04T05:46:25.142271Z",
     "shell.execute_reply.started": "2025-07-04T05:46:25.140225Z"
    },
    "tags": []
   },
   "source": [
    "#### Original HDF5 Path"
   ]
  },
  {
   "cell_type": "code",
   "execution_count": 31,
   "metadata": {
    "execution": {
     "iopub.execute_input": "2025-07-04T06:38:08.625800Z",
     "iopub.status.busy": "2025-07-04T06:38:08.625506Z",
     "iopub.status.idle": "2025-07-04T06:38:08.628583Z",
     "shell.execute_reply": "2025-07-04T06:38:08.628025Z",
     "shell.execute_reply.started": "2025-07-04T06:38:08.625774Z"
    },
    "tags": []
   },
   "outputs": [],
   "source": [
    "h5dir = '/mnt/data/shong/tempdata/tng50snap84/raw/'"
   ]
  },
  {
   "cell_type": "code",
   "execution_count": 32,
   "metadata": {
    "execution": {
     "iopub.execute_input": "2025-07-04T06:38:09.029521Z",
     "iopub.status.busy": "2025-07-04T06:38:09.029236Z",
     "iopub.status.idle": "2025-07-04T06:38:09.034272Z",
     "shell.execute_reply": "2025-07-04T06:38:09.033708Z",
     "shell.execute_reply.started": "2025-07-04T06:38:09.029498Z"
    },
    "tags": []
   },
   "outputs": [],
   "source": [
    "h5list = sorted(glob.glob(h5dir+'snap*.hdf5'))"
   ]
  },
  {
   "cell_type": "code",
   "execution_count": 33,
   "metadata": {
    "execution": {
     "iopub.execute_input": "2025-07-04T06:38:09.649792Z",
     "iopub.status.busy": "2025-07-04T06:38:09.649502Z",
     "iopub.status.idle": "2025-07-04T06:38:09.652910Z",
     "shell.execute_reply": "2025-07-04T06:38:09.652387Z",
     "shell.execute_reply.started": "2025-07-04T06:38:09.649768Z"
    },
    "tags": []
   },
   "outputs": [
    {
     "name": "stdout",
     "output_type": "stream",
     "text": [
      "680\n"
     ]
    }
   ],
   "source": [
    "numh5list = len(h5list)\n",
    "print(numh5list)"
   ]
  },
  {
   "cell_type": "code",
   "execution_count": 34,
   "metadata": {
    "execution": {
     "iopub.execute_input": "2025-07-04T06:38:09.958474Z",
     "iopub.status.busy": "2025-07-04T06:38:09.958189Z",
     "iopub.status.idle": "2025-07-04T06:38:09.962184Z",
     "shell.execute_reply": "2025-07-04T06:38:09.961722Z",
     "shell.execute_reply.started": "2025-07-04T06:38:09.958450Z"
    },
    "tags": []
   },
   "outputs": [
    {
     "data": {
      "text/plain": [
       "['/mnt/data/shong/tempdata/tng50snap84/raw/snap_084.0.hdf5',\n",
       " '/mnt/data/shong/tempdata/tng50snap84/raw/snap_084.1.hdf5',\n",
       " '/mnt/data/shong/tempdata/tng50snap84/raw/snap_084.10.hdf5',\n",
       " '/mnt/data/shong/tempdata/tng50snap84/raw/snap_084.100.hdf5',\n",
       " '/mnt/data/shong/tempdata/tng50snap84/raw/snap_084.101.hdf5']"
      ]
     },
     "execution_count": 34,
     "metadata": {},
     "output_type": "execute_result"
    }
   ],
   "source": [
    "h5list[:5]"
   ]
  },
  {
   "cell_type": "code",
   "execution_count": 35,
   "metadata": {
    "execution": {
     "iopub.execute_input": "2025-07-04T06:38:10.518569Z",
     "iopub.status.busy": "2025-07-04T06:38:10.518253Z",
     "iopub.status.idle": "2025-07-04T06:38:10.522449Z",
     "shell.execute_reply": "2025-07-04T06:38:10.521943Z",
     "shell.execute_reply.started": "2025-07-04T06:38:10.518543Z"
    },
    "tags": []
   },
   "outputs": [
    {
     "data": {
      "text/plain": [
       "['/mnt/data/shong/tempdata/tng50snap84/raw/snap_084.95.hdf5',\n",
       " '/mnt/data/shong/tempdata/tng50snap84/raw/snap_084.96.hdf5',\n",
       " '/mnt/data/shong/tempdata/tng50snap84/raw/snap_084.97.hdf5',\n",
       " '/mnt/data/shong/tempdata/tng50snap84/raw/snap_084.98.hdf5',\n",
       " '/mnt/data/shong/tempdata/tng50snap84/raw/snap_084.99.hdf5']"
      ]
     },
     "execution_count": 35,
     "metadata": {},
     "output_type": "execute_result"
    }
   ],
   "source": [
    "h5list[-5:]"
   ]
  },
  {
   "cell_type": "markdown",
   "metadata": {},
   "source": [
    "> Apparently, no issue in original files. "
   ]
  },
  {
   "cell_type": "markdown",
   "metadata": {
    "execution": {
     "iopub.execute_input": "2025-07-04T05:46:58.673314Z",
     "iopub.status.busy": "2025-07-04T05:46:58.673017Z",
     "iopub.status.idle": "2025-07-04T05:46:58.675985Z",
     "shell.execute_reply": "2025-07-04T05:46:58.675361Z",
     "shell.execute_reply.started": "2025-07-04T05:46:58.673288Z"
    },
    "tags": []
   },
   "source": [
    "#### HDFS Parquet Path"
   ]
  },
  {
   "cell_type": "code",
   "execution_count": 36,
   "metadata": {
    "execution": {
     "iopub.execute_input": "2025-07-04T06:38:12.050687Z",
     "iopub.status.busy": "2025-07-04T06:38:12.050381Z",
     "iopub.status.idle": "2025-07-04T06:38:13.311045Z",
     "shell.execute_reply": "2025-07-04T06:38:13.310382Z",
     "shell.execute_reply.started": "2025-07-04T06:38:12.050661Z"
    },
    "tags": []
   },
   "outputs": [],
   "source": [
    "alldmfiles = !hdfs dfs -du -s -h /common/data/illustris/tng50/snapshot84/dm/*"
   ]
  },
  {
   "cell_type": "code",
   "execution_count": 37,
   "metadata": {
    "execution": {
     "iopub.execute_input": "2025-07-04T06:38:13.312179Z",
     "iopub.status.busy": "2025-07-04T06:38:13.312002Z",
     "iopub.status.idle": "2025-07-04T06:38:13.314816Z",
     "shell.execute_reply": "2025-07-04T06:38:13.314533Z",
     "shell.execute_reply.started": "2025-07-04T06:38:13.312160Z"
    },
    "tags": []
   },
   "outputs": [
    {
     "data": {
      "text/plain": [
       "['857.4 M  2.5 G  /common/data/illustris/tng50/snapshot84/dm/snap_084.0_dm.parquet.snappy',\n",
       " '837.9 M  2.5 G  /common/data/illustris/tng50/snapshot84/dm/snap_084.100_dm.parquet.snappy',\n",
       " '820.4 M  2.4 G  /common/data/illustris/tng50/snapshot84/dm/snap_084.101_dm.parquet.snappy']"
      ]
     },
     "execution_count": 37,
     "metadata": {},
     "output_type": "execute_result"
    }
   ],
   "source": [
    "alldmfiles[:3]"
   ]
  },
  {
   "cell_type": "code",
   "execution_count": 38,
   "metadata": {
    "execution": {
     "iopub.execute_input": "2025-07-04T06:38:13.376130Z",
     "iopub.status.busy": "2025-07-04T06:38:13.375908Z",
     "iopub.status.idle": "2025-07-04T06:38:13.379453Z",
     "shell.execute_reply": "2025-07-04T06:38:13.378925Z",
     "shell.execute_reply.started": "2025-07-04T06:38:13.376109Z"
    },
    "tags": []
   },
   "outputs": [
    {
     "data": {
      "text/plain": [
       "680"
      ]
     },
     "execution_count": 38,
     "metadata": {},
     "output_type": "execute_result"
    }
   ],
   "source": [
    "len(alldmfiles)"
   ]
  },
  {
   "cell_type": "code",
   "execution_count": 39,
   "metadata": {
    "execution": {
     "iopub.execute_input": "2025-07-04T06:38:14.129511Z",
     "iopub.status.busy": "2025-07-04T06:38:14.129216Z",
     "iopub.status.idle": "2025-07-04T06:38:15.345480Z",
     "shell.execute_reply": "2025-07-04T06:38:15.344800Z",
     "shell.execute_reply.started": "2025-07-04T06:38:14.129486Z"
    },
    "tags": []
   },
   "outputs": [],
   "source": [
    "allgasfiles = !hdfs dfs -du -s -h /common/data/illustris/tng50/snapshot84/gas/*"
   ]
  },
  {
   "cell_type": "code",
   "execution_count": 40,
   "metadata": {
    "execution": {
     "iopub.execute_input": "2025-07-04T06:38:15.346610Z",
     "iopub.status.busy": "2025-07-04T06:38:15.346439Z",
     "iopub.status.idle": "2025-07-04T06:38:15.349695Z",
     "shell.execute_reply": "2025-07-04T06:38:15.349314Z",
     "shell.execute_reply.started": "2025-07-04T06:38:15.346590Z"
    },
    "tags": []
   },
   "outputs": [
    {
     "data": {
      "text/plain": [
       "['2.3 G  7.0 G  /common/data/illustris/tng50/snapshot84/gas/snap_084.0_gas.parquet.snappy',\n",
       " '2.4 G  7.3 G  /common/data/illustris/tng50/snapshot84/gas/snap_084.100_gas.parquet.snappy',\n",
       " '2.4 G  7.2 G  /common/data/illustris/tng50/snapshot84/gas/snap_084.101_gas.parquet.snappy']"
      ]
     },
     "execution_count": 40,
     "metadata": {},
     "output_type": "execute_result"
    }
   ],
   "source": [
    "allgasfiles[:3]"
   ]
  },
  {
   "cell_type": "code",
   "execution_count": 41,
   "metadata": {
    "execution": {
     "iopub.execute_input": "2025-07-04T06:38:15.350616Z",
     "iopub.status.busy": "2025-07-04T06:38:15.350469Z",
     "iopub.status.idle": "2025-07-04T06:38:15.369696Z",
     "shell.execute_reply": "2025-07-04T06:38:15.369172Z",
     "shell.execute_reply.started": "2025-07-04T06:38:15.350606Z"
    },
    "tags": []
   },
   "outputs": [
    {
     "data": {
      "text/plain": [
       "680"
      ]
     },
     "execution_count": 41,
     "metadata": {},
     "output_type": "execute_result"
    }
   ],
   "source": [
    "len(allgasfiles)"
   ]
  },
  {
   "cell_type": "code",
   "execution_count": 42,
   "metadata": {
    "execution": {
     "iopub.execute_input": "2025-07-04T06:38:15.591899Z",
     "iopub.status.busy": "2025-07-04T06:38:15.591596Z",
     "iopub.status.idle": "2025-07-04T06:38:16.838179Z",
     "shell.execute_reply": "2025-07-04T06:38:16.837498Z",
     "shell.execute_reply.started": "2025-07-04T06:38:15.591873Z"
    },
    "tags": []
   },
   "outputs": [],
   "source": [
    "allstarfiles = !hdfs dfs -du -s -h /common/data/illustris/tng50/snapshot84/star/*"
   ]
  },
  {
   "cell_type": "code",
   "execution_count": 43,
   "metadata": {
    "execution": {
     "iopub.execute_input": "2025-07-04T06:38:16.839305Z",
     "iopub.status.busy": "2025-07-04T06:38:16.839136Z",
     "iopub.status.idle": "2025-07-04T06:38:16.842420Z",
     "shell.execute_reply": "2025-07-04T06:38:16.842047Z",
     "shell.execute_reply.started": "2025-07-04T06:38:16.839286Z"
    },
    "tags": []
   },
   "outputs": [
    {
     "data": {
      "text/plain": [
       "['353.9 M  1.0 G     /common/data/illustris/tng50/snapshot84/star/snap_084.0_star.parquet.snappy',\n",
       " '272.9 M  818.8 M   /common/data/illustris/tng50/snapshot84/star/snap_084.100_star.parquet.snappy',\n",
       " '350.9 M  1.0 G     /common/data/illustris/tng50/snapshot84/star/snap_084.101_star.parquet.snappy']"
      ]
     },
     "execution_count": 43,
     "metadata": {},
     "output_type": "execute_result"
    }
   ],
   "source": [
    "allstarfiles[:3]"
   ]
  },
  {
   "cell_type": "code",
   "execution_count": 44,
   "metadata": {
    "execution": {
     "iopub.execute_input": "2025-07-04T06:38:17.344385Z",
     "iopub.status.busy": "2025-07-04T06:38:17.344076Z",
     "iopub.status.idle": "2025-07-04T06:38:17.348087Z",
     "shell.execute_reply": "2025-07-04T06:38:17.347550Z",
     "shell.execute_reply.started": "2025-07-04T06:38:17.344360Z"
    },
    "tags": []
   },
   "outputs": [
    {
     "data": {
      "text/plain": [
       "680"
      ]
     },
     "execution_count": 44,
     "metadata": {},
     "output_type": "execute_result"
    }
   ],
   "source": [
    "len(allstarfiles)"
   ]
  },
  {
   "cell_type": "code",
   "execution_count": 45,
   "metadata": {
    "execution": {
     "iopub.execute_input": "2025-07-04T06:38:18.253956Z",
     "iopub.status.busy": "2025-07-04T06:38:18.253654Z",
     "iopub.status.idle": "2025-07-04T06:38:19.455526Z",
     "shell.execute_reply": "2025-07-04T06:38:19.455045Z",
     "shell.execute_reply.started": "2025-07-04T06:38:18.253931Z"
    },
    "tags": []
   },
   "outputs": [],
   "source": [
    "allbhfiles = !hdfs dfs -du -s -h /common/data/illustris/tng50/snapshot84/bh/*"
   ]
  },
  {
   "cell_type": "code",
   "execution_count": 46,
   "metadata": {
    "execution": {
     "iopub.execute_input": "2025-07-04T06:38:19.456379Z",
     "iopub.status.busy": "2025-07-04T06:38:19.456249Z",
     "iopub.status.idle": "2025-07-04T06:38:19.459744Z",
     "shell.execute_reply": "2025-07-04T06:38:19.459287Z",
     "shell.execute_reply.started": "2025-07-04T06:38:19.456364Z"
    },
    "tags": []
   },
   "outputs": [
    {
     "data": {
      "text/plain": [
       "['52.8 K   158.3 K  /common/data/illustris/tng50/snapshot84/bh/snap_084.0_bh.parquet.snappy',\n",
       " '59.1 K   177.2 K  /common/data/illustris/tng50/snapshot84/bh/snap_084.100_bh.parquet.snappy',\n",
       " '21.4 K   64.1 K   /common/data/illustris/tng50/snapshot84/bh/snap_084.101_bh.parquet.snappy']"
      ]
     },
     "execution_count": 46,
     "metadata": {},
     "output_type": "execute_result"
    }
   ],
   "source": [
    "allbhfiles[:3]"
   ]
  },
  {
   "cell_type": "code",
   "execution_count": 47,
   "metadata": {
    "execution": {
     "iopub.execute_input": "2025-07-04T06:38:19.892176Z",
     "iopub.status.busy": "2025-07-04T06:38:19.891873Z",
     "iopub.status.idle": "2025-07-04T06:38:19.895707Z",
     "shell.execute_reply": "2025-07-04T06:38:19.895160Z",
     "shell.execute_reply.started": "2025-07-04T06:38:19.892151Z"
    },
    "tags": []
   },
   "outputs": [
    {
     "data": {
      "text/plain": [
       "678"
      ]
     },
     "execution_count": 47,
     "metadata": {},
     "output_type": "execute_result"
    }
   ],
   "source": [
    "len(allbhfiles)"
   ]
  },
  {
   "cell_type": "markdown",
   "metadata": {},
   "source": [
    "### Cross Check "
   ]
  },
  {
   "cell_type": "code",
   "execution_count": 48,
   "metadata": {
    "execution": {
     "iopub.execute_input": "2025-07-04T06:38:21.766641Z",
     "iopub.status.busy": "2025-07-04T06:38:21.766351Z",
     "iopub.status.idle": "2025-07-04T06:38:21.772247Z",
     "shell.execute_reply": "2025-07-04T06:38:21.771616Z",
     "shell.execute_reply.started": "2025-07-04T06:38:21.766617Z"
    },
    "tags": []
   },
   "outputs": [],
   "source": [
    "import re\n",
    "\n",
    "# Step 1: Extract unique identifiers from h5list\n",
    "h5_ids = set(\n",
    "    re.search(r'snap_084\\.\\d+', path).group()\n",
    "    for path in h5list\n",
    ")\n",
    "\n",
    "# Step 2: Extract from alldmfiles (skip size info, extract only filename)\n",
    "dm_ids = set(\n",
    "    re.search(r'snap_084\\.\\d+', path).group()\n",
    "    for path in alldmfiles\n",
    ")"
   ]
  },
  {
   "cell_type": "code",
   "execution_count": 49,
   "metadata": {
    "execution": {
     "iopub.execute_input": "2025-07-04T06:38:22.515132Z",
     "iopub.status.busy": "2025-07-04T06:38:22.514831Z",
     "iopub.status.idle": "2025-07-04T06:38:22.518764Z",
     "shell.execute_reply": "2025-07-04T06:38:22.518179Z",
     "shell.execute_reply.started": "2025-07-04T06:38:22.515106Z"
    },
    "tags": []
   },
   "outputs": [
    {
     "name": "stdout",
     "output_type": "stream",
     "text": [
      "Missing file(s): set()\n"
     ]
    }
   ],
   "source": [
    "# Step 3: Identify missing ID(s)\n",
    "missing_ids = h5_ids - dm_ids\n",
    "\n",
    "# Print results\n",
    "print(\"Missing file(s):\", missing_ids)"
   ]
  },
  {
   "cell_type": "code",
   "execution_count": 50,
   "metadata": {
    "execution": {
     "iopub.execute_input": "2025-07-04T06:38:23.431534Z",
     "iopub.status.busy": "2025-07-04T06:38:23.431237Z",
     "iopub.status.idle": "2025-07-04T06:38:23.436468Z",
     "shell.execute_reply": "2025-07-04T06:38:23.435881Z",
     "shell.execute_reply.started": "2025-07-04T06:38:23.431509Z"
    },
    "tags": []
   },
   "outputs": [
    {
     "name": "stdout",
     "output_type": "stream",
     "text": [
      "Missing file(s): set()\n"
     ]
    }
   ],
   "source": [
    "star_ids = set(\n",
    "    re.search(r'snap_084\\.\\d+', path).group()\n",
    "    for path in allstarfiles\n",
    ")\n",
    "\n",
    "# Step 3: Identify missing ID(s)\n",
    "missing_ids = h5_ids - star_ids\n",
    "\n",
    "# Print results\n",
    "print(\"Missing file(s):\", missing_ids)"
   ]
  },
  {
   "cell_type": "code",
   "execution_count": 51,
   "metadata": {
    "execution": {
     "iopub.execute_input": "2025-07-04T06:38:24.165832Z",
     "iopub.status.busy": "2025-07-04T06:38:24.165535Z",
     "iopub.status.idle": "2025-07-04T06:38:24.170804Z",
     "shell.execute_reply": "2025-07-04T06:38:24.170232Z",
     "shell.execute_reply.started": "2025-07-04T06:38:24.165808Z"
    },
    "tags": []
   },
   "outputs": [
    {
     "name": "stdout",
     "output_type": "stream",
     "text": [
      "Missing file(s): set()\n"
     ]
    }
   ],
   "source": [
    "gas_ids = set(\n",
    "    re.search(r'snap_084\\.\\d+', path).group()\n",
    "    for path in allgasfiles\n",
    ")\n",
    "\n",
    "# Step 3: Identify missing ID(s)\n",
    "missing_ids = h5_ids - gas_ids\n",
    "\n",
    "# Print results\n",
    "print(\"Missing file(s):\", missing_ids)"
   ]
  },
  {
   "cell_type": "code",
   "execution_count": 52,
   "metadata": {
    "execution": {
     "iopub.execute_input": "2025-07-04T06:38:24.765739Z",
     "iopub.status.busy": "2025-07-04T06:38:24.765499Z",
     "iopub.status.idle": "2025-07-04T06:38:24.769322Z",
     "shell.execute_reply": "2025-07-04T06:38:24.769025Z",
     "shell.execute_reply.started": "2025-07-04T06:38:24.765720Z"
    },
    "tags": []
   },
   "outputs": [
    {
     "name": "stdout",
     "output_type": "stream",
     "text": [
      "Missing file(s): {'snap_084.295', 'snap_084.520'}\n"
     ]
    }
   ],
   "source": [
    "bh_ids = set(\n",
    "    re.search(r'snap_084\\.\\d+', path).group()\n",
    "    for path in allbhfiles\n",
    ")\n",
    "\n",
    "# Step 3: Identify missing ID(s)\n",
    "missing_ids = h5_ids - bh_ids\n",
    "\n",
    "# Print results\n",
    "print(\"Missing file(s):\", missing_ids)"
   ]
  },
  {
   "cell_type": "code",
   "execution_count": null,
   "metadata": {},
   "outputs": [],
   "source": []
  },
  {
   "cell_type": "code",
   "execution_count": null,
   "metadata": {},
   "outputs": [],
   "source": []
  },
  {
   "cell_type": "code",
   "execution_count": null,
   "metadata": {},
   "outputs": [],
   "source": []
  },
  {
   "cell_type": "code",
   "execution_count": null,
   "metadata": {},
   "outputs": [],
   "source": []
  },
  {
   "cell_type": "code",
   "execution_count": null,
   "metadata": {},
   "outputs": [],
   "source": []
  }
 ],
 "metadata": {
  "kernelspec": {
   "display_name": "Python 3",
   "language": "python",
   "name": "python3"
  },
  "language_info": {
   "codemirror_mode": {
    "name": "ipython",
    "version": 3
   },
   "file_extension": ".py",
   "mimetype": "text/x-python",
   "name": "python",
   "nbconvert_exporter": "python",
   "pygments_lexer": "ipython3",
   "version": "3.8.10"
  }
 },
 "nbformat": 4,
 "nbformat_minor": 4
}
