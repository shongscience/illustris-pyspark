{
 "cells": [
  {
   "cell_type": "markdown",
   "metadata": {},
   "source": [
    "# TNG300 Group Catalog : HDF5 to Parquet"
   ]
  },
  {
   "cell_type": "markdown",
   "metadata": {
    "tags": []
   },
   "source": [
    "## Import Basic Libraries"
   ]
  },
  {
   "cell_type": "code",
   "execution_count": 1,
   "metadata": {
    "execution": {
     "iopub.execute_input": "2025-06-16T07:21:28.705851Z",
     "iopub.status.busy": "2025-06-16T07:21:28.705602Z",
     "iopub.status.idle": "2025-06-16T07:21:29.094622Z",
     "shell.execute_reply": "2025-06-16T07:21:29.094182Z",
     "shell.execute_reply.started": "2025-06-16T07:21:28.705829Z"
    },
    "tags": []
   },
   "outputs": [],
   "source": [
    "import numpy as np\n",
    "import pandas as pd\n",
    "import glob\n",
    "import sys\n",
    "import h5py\n",
    "#from netCDF4 import Dataset\n",
    "from datetime import datetime\n",
    "from tqdm.notebook import tqdm\n",
    "import matplotlib.pyplot as plt\n",
    "from scipy.spatial import cKDTree\n",
    "\n",
    "import pyarrow as pa\n",
    "import pyarrow.parquet as pq\n",
    "\n",
    "from functools import reduce\n",
    "import operator\n",
    "import gc"
   ]
  },
  {
   "cell_type": "code",
   "execution_count": 2,
   "metadata": {
    "execution": {
     "iopub.execute_input": "2025-06-16T07:21:29.095673Z",
     "iopub.status.busy": "2025-06-16T07:21:29.095330Z",
     "iopub.status.idle": "2025-06-16T07:21:29.098180Z",
     "shell.execute_reply": "2025-06-16T07:21:29.097818Z",
     "shell.execute_reply.started": "2025-06-16T07:21:29.095654Z"
    },
    "tags": []
   },
   "outputs": [],
   "source": [
    "# plot settings\n",
    "plt.rc('font', family='serif') \n",
    "#plt.rc('font', serif='Times New Roman') \n",
    "plt.rcParams.update({'font.size': 16})\n",
    "plt.rcParams['mathtext.fontset'] = 'stix'"
   ]
  },
  {
   "cell_type": "markdown",
   "metadata": {},
   "source": [
    "## Define SparkSession and sparkContext"
   ]
  },
  {
   "cell_type": "code",
   "execution_count": 3,
   "metadata": {
    "execution": {
     "iopub.execute_input": "2025-06-16T07:21:29.847557Z",
     "iopub.status.busy": "2025-06-16T07:21:29.847254Z",
     "iopub.status.idle": "2025-06-16T07:21:59.319578Z",
     "shell.execute_reply": "2025-06-16T07:21:59.319045Z",
     "shell.execute_reply.started": "2025-06-16T07:21:29.847531Z"
    },
    "tags": []
   },
   "outputs": [],
   "source": [
    "# PySpark packages\n",
    "from pyspark import SparkContext   \n",
    "from pyspark.sql import SparkSession\n",
    "\n",
    "import pyspark.sql.functions as F\n",
    "import pyspark.sql.types as T\n",
    "from pyspark import Row\n",
    "from pyspark.sql.window import Window as W\n",
    "\n",
    "\n",
    "spark = SparkSession.builder \\\n",
    "    .master(\"yarn\") \\\n",
    "    .appName(\"spark-shell\") \\\n",
    "    .config(\"spark.driver.maxResultSize\", \"32g\") \\\n",
    "    .config(\"spark.driver.memory\", \"32g\") \\\n",
    "    .config(\"spark.executor.memory\", \"7g\") \\\n",
    "    .config(\"spark.executor.cores\", \"1\") \\\n",
    "    .config(\"spark.executor.instances\", \"200\") \\\n",
    "    .getOrCreate()\n",
    "\n",
    "\n",
    "sc = spark.sparkContext\n",
    "sc.setCheckpointDir(\"hdfs://spark00:54310/tmp/checkpoints\")\n",
    "\n",
    "spark.conf.set(\"spark.sql.debug.maxToStringFields\", 500)\n",
    "spark.conf.set(\"spark.sql.execution.arrow.pyspark.enabled\", \"true\")"
   ]
  },
  {
   "cell_type": "code",
   "execution_count": 4,
   "metadata": {
    "execution": {
     "iopub.execute_input": "2025-06-13T04:55:23.475536Z",
     "iopub.status.busy": "2025-06-13T04:55:23.475357Z",
     "iopub.status.idle": "2025-06-13T04:55:23.491664Z",
     "shell.execute_reply": "2025-06-13T04:55:23.491382Z",
     "shell.execute_reply.started": "2025-06-13T04:55:23.475515Z"
    },
    "tags": []
   },
   "outputs": [
    {
     "data": {
      "text/plain": [
       "[('spark.driver.memory', '32g'),\n",
       " ('spark.driver.appUIAddress', 'http://spark00:4040'),\n",
       " ('spark.ui.proxyBase', '/proxy/application_1742867806927_0005'),\n",
       " ('spark.app.id', 'application_1742867806927_0005'),\n",
       " ('spark.driver.maxResultSize', '32g'),\n",
       " ('spark.app.submitTime', '1749790492276'),\n",
       " ('spark.org.apache.hadoop.yarn.server.webproxy.amfilter.AmIpFilter.param.PROXY_URI_BASES',\n",
       "  'http://spark18:8088/proxy/application_1742867806927_0005'),\n",
       " ('spark.master', 'yarn'),\n",
       " ('spark.executor.id', 'driver'),\n",
       " ('spark.submit.deployMode', 'client')]"
      ]
     },
     "execution_count": 4,
     "metadata": {},
     "output_type": "execute_result"
    }
   ],
   "source": [
    "sc.getConf().getAll()[:10]"
   ]
  },
  {
   "cell_type": "markdown",
   "metadata": {},
   "source": [
    "## Read h5 files "
   ]
  },
  {
   "cell_type": "markdown",
   "metadata": {},
   "source": [
    "> Examples to handle group catalog, merger tree and snapshot data can be found at  https://www.tng-project.org/data/docs/scripts/"
   ]
  },
  {
   "cell_type": "code",
   "execution_count": 5,
   "metadata": {
    "execution": {
     "iopub.execute_input": "2025-06-13T05:01:47.078053Z",
     "iopub.status.busy": "2025-06-13T05:01:47.077755Z",
     "iopub.status.idle": "2025-06-13T05:01:47.080875Z",
     "shell.execute_reply": "2025-06-13T05:01:47.080322Z",
     "shell.execute_reply.started": "2025-06-13T05:01:47.078027Z"
    },
    "tags": []
   },
   "outputs": [],
   "source": [
    "h5dir = '/mnt/data/shong/tempdata/tng50snap84/raw/'"
   ]
  },
  {
   "cell_type": "code",
   "execution_count": 8,
   "metadata": {
    "execution": {
     "iopub.execute_input": "2025-06-13T05:02:30.253232Z",
     "iopub.status.busy": "2025-06-13T05:02:30.252938Z",
     "iopub.status.idle": "2025-06-13T05:02:30.257996Z",
     "shell.execute_reply": "2025-06-13T05:02:30.257462Z",
     "shell.execute_reply.started": "2025-06-13T05:02:30.253207Z"
    },
    "tags": []
   },
   "outputs": [],
   "source": [
    "h5list = sorted(glob.glob(h5dir+'snap*.hdf5'))"
   ]
  },
  {
   "cell_type": "code",
   "execution_count": 9,
   "metadata": {
    "execution": {
     "iopub.execute_input": "2025-06-13T05:02:31.044587Z",
     "iopub.status.busy": "2025-06-13T05:02:31.044264Z",
     "iopub.status.idle": "2025-06-13T05:02:31.048252Z",
     "shell.execute_reply": "2025-06-13T05:02:31.047818Z",
     "shell.execute_reply.started": "2025-06-13T05:02:31.044562Z"
    },
    "tags": []
   },
   "outputs": [
    {
     "data": {
      "text/plain": [
       "['/mnt/data/shong/tempdata/tng50snap84/raw/snap_084.0.hdf5',\n",
       " '/mnt/data/shong/tempdata/tng50snap84/raw/snap_084.1.hdf5',\n",
       " '/mnt/data/shong/tempdata/tng50snap84/raw/snap_084.10.hdf5']"
      ]
     },
     "execution_count": 9,
     "metadata": {},
     "output_type": "execute_result"
    }
   ],
   "source": [
    "h5list[:3]"
   ]
  },
  {
   "cell_type": "code",
   "execution_count": 10,
   "metadata": {
    "execution": {
     "iopub.execute_input": "2025-06-13T05:02:32.907793Z",
     "iopub.status.busy": "2025-06-13T05:02:32.907492Z",
     "iopub.status.idle": "2025-06-13T05:02:32.911208Z",
     "shell.execute_reply": "2025-06-13T05:02:32.910649Z",
     "shell.execute_reply.started": "2025-06-13T05:02:32.907768Z"
    },
    "tags": []
   },
   "outputs": [
    {
     "name": "stdout",
     "output_type": "stream",
     "text": [
      "680\n"
     ]
    }
   ],
   "source": [
    "numh5list = len(h5list)\n",
    "print(numh5list)"
   ]
  },
  {
   "cell_type": "code",
   "execution_count": 11,
   "metadata": {
    "execution": {
     "iopub.execute_input": "2025-06-13T05:02:35.923395Z",
     "iopub.status.busy": "2025-06-13T05:02:35.923157Z",
     "iopub.status.idle": "2025-06-13T05:02:35.935297Z",
     "shell.execute_reply": "2025-06-13T05:02:35.934898Z",
     "shell.execute_reply.started": "2025-06-13T05:02:35.923376Z"
    },
    "tags": []
   },
   "outputs": [
    {
     "data": {
      "text/plain": [
       "True"
      ]
     },
     "execution_count": 11,
     "metadata": {},
     "output_type": "execute_result"
    }
   ],
   "source": [
    "h5py.is_hdf5(h5list[0])"
   ]
  },
  {
   "cell_type": "code",
   "execution_count": 12,
   "metadata": {
    "execution": {
     "iopub.execute_input": "2025-06-13T05:02:39.562474Z",
     "iopub.status.busy": "2025-06-13T05:02:39.562177Z",
     "iopub.status.idle": "2025-06-13T05:02:39.565479Z",
     "shell.execute_reply": "2025-06-13T05:02:39.564823Z",
     "shell.execute_reply.started": "2025-06-13T05:02:39.562448Z"
    },
    "tags": []
   },
   "outputs": [],
   "source": [
    "inh5file = h5list[0]"
   ]
  },
  {
   "cell_type": "code",
   "execution_count": 13,
   "metadata": {
    "execution": {
     "iopub.execute_input": "2025-06-13T05:02:40.259933Z",
     "iopub.status.busy": "2025-06-13T05:02:40.259639Z",
     "iopub.status.idle": "2025-06-13T05:02:40.273637Z",
     "shell.execute_reply": "2025-06-13T05:02:40.273063Z",
     "shell.execute_reply.started": "2025-06-13T05:02:40.259909Z"
    },
    "tags": []
   },
   "outputs": [],
   "source": [
    "try:\n",
    "    h5f = h5py.File(inh5file, \"r\")\n",
    "except IOError as e:\n",
    "    print(\"Error opening HDF5 file:\", str(e))\n",
    "# Don't forget f.close() when done! "
   ]
  },
  {
   "cell_type": "markdown",
   "metadata": {
    "tags": []
   },
   "source": [
    "## Explore the `h5`"
   ]
  },
  {
   "cell_type": "code",
   "execution_count": 14,
   "metadata": {
    "execution": {
     "iopub.execute_input": "2025-06-13T05:02:45.140109Z",
     "iopub.status.busy": "2025-06-13T05:02:45.139802Z",
     "iopub.status.idle": "2025-06-13T05:02:45.153163Z",
     "shell.execute_reply": "2025-06-13T05:02:45.152714Z",
     "shell.execute_reply.started": "2025-06-13T05:02:45.140083Z"
    },
    "tags": []
   },
   "outputs": [
    {
     "data": {
      "text/plain": [
       "<KeysViewHDF5 ['Config', 'Header', 'Parameters', 'PartType0', 'PartType1', 'PartType3', 'PartType4', 'PartType5']>"
      ]
     },
     "execution_count": 14,
     "metadata": {},
     "output_type": "execute_result"
    }
   ],
   "source": [
    "h5f.keys()"
   ]
  },
  {
   "cell_type": "code",
   "execution_count": 15,
   "metadata": {
    "execution": {
     "iopub.execute_input": "2025-06-13T05:02:58.882930Z",
     "iopub.status.busy": "2025-06-13T05:02:58.882690Z",
     "iopub.status.idle": "2025-06-13T05:02:58.887100Z",
     "shell.execute_reply": "2025-06-13T05:02:58.886783Z",
     "shell.execute_reply.started": "2025-06-13T05:02:58.882911Z"
    },
    "tags": []
   },
   "outputs": [
    {
     "name": "stdout",
     "output_type": "stream",
     "text": [
      "Group: Config\n",
      "Group: Header\n",
      "Group: Parameters\n",
      "Group: PartType0\n",
      "Group: PartType1\n",
      "Group: PartType3\n",
      "Group: PartType4\n",
      "Group: PartType5\n"
     ]
    }
   ],
   "source": [
    "for key in h5f.keys():\n",
    "    item = h5f[key]\n",
    "    \n",
    "    if isinstance(item, h5py.Group):  # Check if it's a group\n",
    "        print(f\"Group: {key}\")\n",
    "    elif isinstance(item, h5py.Dataset):  # Check if it's a dataset\n",
    "        print(f\"Dataset: {key}, dtype: {item.dtype}\")\n",
    "    else:\n",
    "        print(f\"Unknown item: {key}\")"
   ]
  },
  {
   "cell_type": "code",
   "execution_count": 16,
   "metadata": {
    "execution": {
     "iopub.execute_input": "2025-06-13T05:06:31.882500Z",
     "iopub.status.busy": "2025-06-13T05:06:31.882207Z",
     "iopub.status.idle": "2025-06-13T05:06:31.886742Z",
     "shell.execute_reply": "2025-06-13T05:06:31.886276Z",
     "shell.execute_reply.started": "2025-06-13T05:06:31.882475Z"
    },
    "tags": []
   },
   "outputs": [
    {
     "data": {
      "text/plain": [
       "<KeysViewHDF5 []>"
      ]
     },
     "execution_count": 16,
     "metadata": {},
     "output_type": "execute_result"
    }
   ],
   "source": [
    "h5f['Config'].keys()"
   ]
  },
  {
   "cell_type": "code",
   "execution_count": 17,
   "metadata": {
    "execution": {
     "iopub.execute_input": "2025-06-13T05:06:35.755946Z",
     "iopub.status.busy": "2025-06-13T05:06:35.755697Z",
     "iopub.status.idle": "2025-06-13T05:06:35.759585Z",
     "shell.execute_reply": "2025-06-13T05:06:35.759143Z",
     "shell.execute_reply.started": "2025-06-13T05:06:35.755925Z"
    },
    "tags": []
   },
   "outputs": [
    {
     "data": {
      "text/plain": [
       "<KeysViewHDF5 []>"
      ]
     },
     "execution_count": 17,
     "metadata": {},
     "output_type": "execute_result"
    }
   ],
   "source": [
    "h5f['Header'].keys()"
   ]
  },
  {
   "cell_type": "code",
   "execution_count": 18,
   "metadata": {
    "execution": {
     "iopub.execute_input": "2025-06-13T05:06:37.413392Z",
     "iopub.status.busy": "2025-06-13T05:06:37.413093Z",
     "iopub.status.idle": "2025-06-13T05:06:37.417864Z",
     "shell.execute_reply": "2025-06-13T05:06:37.417342Z",
     "shell.execute_reply.started": "2025-06-13T05:06:37.413367Z"
    },
    "tags": []
   },
   "outputs": [
    {
     "data": {
      "text/plain": [
       "<KeysViewHDF5 []>"
      ]
     },
     "execution_count": 18,
     "metadata": {},
     "output_type": "execute_result"
    }
   ],
   "source": [
    "h5f['Parameters'].keys()"
   ]
  },
  {
   "cell_type": "code",
   "execution_count": 19,
   "metadata": {
    "execution": {
     "iopub.execute_input": "2025-06-13T05:06:56.436090Z",
     "iopub.status.busy": "2025-06-13T05:06:56.435803Z",
     "iopub.status.idle": "2025-06-13T05:06:56.484225Z",
     "shell.execute_reply": "2025-06-13T05:06:56.483796Z",
     "shell.execute_reply.started": "2025-06-13T05:06:56.436067Z"
    },
    "tags": []
   },
   "outputs": [
    {
     "data": {
      "text/plain": [
       "<KeysViewHDF5 ['CenterOfMass', 'Coordinates', 'Density', 'ElectronAbundance', 'EnergyDissipation', 'GFM_AGNRadiation', 'GFM_CoolingRate', 'GFM_Metallicity', 'GFM_Metals', 'GFM_MetalsTagged', 'GFM_WindDMVelDisp', 'GFM_WindHostHaloMass', 'InternalEnergy', 'InternalEnergyOld', 'Machnumber', 'MagneticField', 'MagneticFieldDivergence', 'Masses', 'NeutralHydrogenAbundance', 'ParticleIDs', 'Potential', 'StarFormationRate', 'SubfindDMDensity', 'SubfindDensity', 'SubfindHsml', 'SubfindVelDisp', 'Velocities']>"
      ]
     },
     "execution_count": 19,
     "metadata": {},
     "output_type": "execute_result"
    }
   ],
   "source": [
    "h5f['PartType0'].keys()"
   ]
  },
  {
   "cell_type": "code",
   "execution_count": 20,
   "metadata": {
    "execution": {
     "iopub.execute_input": "2025-06-13T05:07:20.555747Z",
     "iopub.status.busy": "2025-06-13T05:07:20.555448Z",
     "iopub.status.idle": "2025-06-13T05:07:20.593706Z",
     "shell.execute_reply": "2025-06-13T05:07:20.593385Z",
     "shell.execute_reply.started": "2025-06-13T05:07:20.555722Z"
    },
    "tags": []
   },
   "outputs": [
    {
     "data": {
      "text/plain": [
       "<KeysViewHDF5 ['Coordinates', 'ParticleIDs', 'Potential', 'SubfindDMDensity', 'SubfindDensity', 'SubfindHsml', 'SubfindVelDisp', 'Velocities']>"
      ]
     },
     "execution_count": 20,
     "metadata": {},
     "output_type": "execute_result"
    }
   ],
   "source": [
    "h5f['PartType1'].keys()"
   ]
  },
  {
   "cell_type": "code",
   "execution_count": 21,
   "metadata": {
    "execution": {
     "iopub.execute_input": "2025-06-13T05:07:32.136794Z",
     "iopub.status.busy": "2025-06-13T05:07:32.136502Z",
     "iopub.status.idle": "2025-06-13T05:07:32.163641Z",
     "shell.execute_reply": "2025-06-13T05:07:32.163107Z",
     "shell.execute_reply.started": "2025-06-13T05:07:32.136769Z"
    },
    "tags": []
   },
   "outputs": [
    {
     "data": {
      "text/plain": [
       "<KeysViewHDF5 ['ParentID', 'TracerID']>"
      ]
     },
     "execution_count": 21,
     "metadata": {},
     "output_type": "execute_result"
    }
   ],
   "source": [
    "h5f['PartType3'].keys()"
   ]
  },
  {
   "cell_type": "code",
   "execution_count": 22,
   "metadata": {
    "execution": {
     "iopub.execute_input": "2025-06-13T05:07:38.802590Z",
     "iopub.status.busy": "2025-06-13T05:07:38.802305Z",
     "iopub.status.idle": "2025-06-13T05:07:38.820121Z",
     "shell.execute_reply": "2025-06-13T05:07:38.819586Z",
     "shell.execute_reply.started": "2025-06-13T05:07:38.802566Z"
    },
    "tags": []
   },
   "outputs": [
    {
     "data": {
      "text/plain": [
       "<KeysViewHDF5 ['BirthPos', 'BirthVel', 'Coordinates', 'GFM_InitialMass', 'GFM_Metallicity', 'GFM_Metals', 'GFM_MetalsTagged', 'GFM_StellarFormationTime', 'GFM_StellarPhotometrics', 'Masses', 'ParticleIDs', 'Potential', 'StellarHsml', 'SubfindDMDensity', 'SubfindDensity', 'SubfindHsml', 'SubfindVelDisp', 'Velocities']>"
      ]
     },
     "execution_count": 22,
     "metadata": {},
     "output_type": "execute_result"
    }
   ],
   "source": [
    "h5f['PartType4'].keys()"
   ]
  },
  {
   "cell_type": "code",
   "execution_count": 23,
   "metadata": {
    "execution": {
     "iopub.execute_input": "2025-06-13T05:07:45.421100Z",
     "iopub.status.busy": "2025-06-13T05:07:45.420814Z",
     "iopub.status.idle": "2025-06-13T05:07:45.462981Z",
     "shell.execute_reply": "2025-06-13T05:07:45.462690Z",
     "shell.execute_reply.started": "2025-06-13T05:07:45.421077Z"
    },
    "tags": []
   },
   "outputs": [
    {
     "data": {
      "text/plain": [
       "<KeysViewHDF5 ['BH_BPressure', 'BH_CumEgyInjection_QM', 'BH_CumEgyInjection_RM', 'BH_CumMassGrowth_QM', 'BH_CumMassGrowth_RM', 'BH_Density', 'BH_HostHaloMass', 'BH_Hsml', 'BH_Mass', 'BH_Mdot', 'BH_MdotBondi', 'BH_MdotEddington', 'BH_Pressure', 'BH_Progs', 'BH_U', 'Coordinates', 'Masses', 'ParticleIDs', 'Potential', 'SubfindDMDensity', 'SubfindDensity', 'SubfindHsml', 'SubfindVelDisp', 'Velocities']>"
      ]
     },
     "execution_count": 23,
     "metadata": {},
     "output_type": "execute_result"
    }
   ],
   "source": [
    "h5f['PartType5'].keys()"
   ]
  },
  {
   "cell_type": "markdown",
   "metadata": {},
   "source": [
    "#### My Guesses What each Particle Type Means \n",
    "\n",
    "- PartType0 : Gas?? Particle\n",
    "- PartType1 : DM? Particle\n",
    "- PartType3 : Dummy\n",
    "- PartType4 : Star? Particle\n",
    "- PartType5 : Black Hole Particle"
   ]
  },
  {
   "cell_type": "markdown",
   "metadata": {},
   "source": [
    "## Target Hadoop Paths"
   ]
  },
  {
   "cell_type": "code",
   "execution_count": 29,
   "metadata": {
    "execution": {
     "iopub.execute_input": "2025-06-13T05:19:12.879144Z",
     "iopub.status.busy": "2025-06-13T05:19:12.878841Z",
     "iopub.status.idle": "2025-06-13T05:19:13.986251Z",
     "shell.execute_reply": "2025-06-13T05:19:13.985418Z",
     "shell.execute_reply.started": "2025-06-13T05:19:12.879117Z"
    },
    "tags": []
   },
   "outputs": [
    {
     "name": "stdout",
     "output_type": "stream",
     "text": [
      "Found 4 items\n",
      "drwxr-xr-x   - shong supergroup          0 2025-06-13 14:14 /common/data/illustris/tng50/snapshot84/bh\n",
      "drwxr-xr-x   - shong supergroup          0 2025-06-13 14:14 /common/data/illustris/tng50/snapshot84/dm\n",
      "drwxr-xr-x   - shong supergroup          0 2025-06-13 14:14 /common/data/illustris/tng50/snapshot84/gas\n",
      "drwxr-xr-x   - shong supergroup          0 2025-06-13 14:14 /common/data/illustris/tng50/snapshot84/star\n"
     ]
    }
   ],
   "source": [
    "!hdfs dfs -ls /common/data/illustris/tng50/snapshot84/"
   ]
  },
  {
   "cell_type": "markdown",
   "metadata": {},
   "source": [
    "```\n",
    "/common/data/illustris/tng50/snapshot84/gas\n",
    "/common/data/illustris/tng50/snapshot84/dm\n",
    "/common/data/illustris/tng50/snapshot84/star\n",
    "/common/data/illustris/tng50/snapshot84/bh\n",
    "```"
   ]
  },
  {
   "cell_type": "code",
   "execution_count": 30,
   "metadata": {
    "execution": {
     "iopub.execute_input": "2025-06-13T05:20:31.748918Z",
     "iopub.status.busy": "2025-06-13T05:20:31.748609Z",
     "iopub.status.idle": "2025-06-13T05:20:31.752094Z",
     "shell.execute_reply": "2025-06-13T05:20:31.751513Z",
     "shell.execute_reply.started": "2025-06-13T05:20:31.748891Z"
    },
    "tags": []
   },
   "outputs": [],
   "source": [
    "hdfsgaspath = '/common/data/illustris/tng50/snapshot84/gas/'\n",
    "hdfsdmpath = '/common/data/illustris/tng50/snapshot84/dm/'\n",
    "hdfsstarpath = '/common/data/illustris/tng50/snapshot84/star/'\n",
    "hdfsbhpath = '/common/data/illustris/tng50/snapshot84/bh/'"
   ]
  },
  {
   "cell_type": "markdown",
   "metadata": {},
   "source": [
    "# Explore each `Group`"
   ]
  },
  {
   "cell_type": "markdown",
   "metadata": {},
   "source": [
    "## `Gas` Particles"
   ]
  },
  {
   "cell_type": "code",
   "execution_count": 31,
   "metadata": {
    "execution": {
     "iopub.execute_input": "2025-06-13T05:33:48.728738Z",
     "iopub.status.busy": "2025-06-13T05:33:48.728436Z",
     "iopub.status.idle": "2025-06-13T05:33:48.936665Z",
     "shell.execute_reply": "2025-06-13T05:33:48.936071Z",
     "shell.execute_reply.started": "2025-06-13T05:33:48.728714Z"
    },
    "tags": []
   },
   "outputs": [
    {
     "name": "stdout",
     "output_type": "stream",
     "text": [
      "Dataset: CenterOfMass, dtype: float32, shape: (12740556, 3)\n",
      "Dataset: Coordinates, dtype: float64, shape: (12740556, 3)\n",
      "Dataset: Density, dtype: float32, shape: (12740556,)\n",
      "Dataset: ElectronAbundance, dtype: float32, shape: (12740556,)\n",
      "Dataset: EnergyDissipation, dtype: float32, shape: (12740556,)\n",
      "Dataset: GFM_AGNRadiation, dtype: float32, shape: (12740556,)\n",
      "Dataset: GFM_CoolingRate, dtype: float32, shape: (12740556,)\n",
      "Dataset: GFM_Metallicity, dtype: float32, shape: (12740556,)\n",
      "Dataset: GFM_Metals, dtype: float32, shape: (12740556, 10)\n",
      "Dataset: GFM_MetalsTagged, dtype: float32, shape: (12740556, 6)\n",
      "Dataset: GFM_WindDMVelDisp, dtype: float32, shape: (12740556,)\n",
      "Dataset: GFM_WindHostHaloMass, dtype: float32, shape: (12740556,)\n",
      "Dataset: InternalEnergy, dtype: float32, shape: (12740556,)\n",
      "Dataset: InternalEnergyOld, dtype: float32, shape: (12740556,)\n",
      "Dataset: Machnumber, dtype: float32, shape: (12740556,)\n",
      "Dataset: MagneticField, dtype: float32, shape: (12740556, 3)\n",
      "Dataset: MagneticFieldDivergence, dtype: float32, shape: (12740556,)\n",
      "Dataset: Masses, dtype: float32, shape: (12740556,)\n",
      "Dataset: NeutralHydrogenAbundance, dtype: float32, shape: (12740556,)\n",
      "Dataset: ParticleIDs, dtype: uint64, shape: (12740556,)\n",
      "Dataset: Potential, dtype: float32, shape: (12740556,)\n",
      "Dataset: StarFormationRate, dtype: float32, shape: (12740556,)\n",
      "Dataset: SubfindDMDensity, dtype: float32, shape: (12740556,)\n",
      "Dataset: SubfindDensity, dtype: float32, shape: (12740556,)\n",
      "Dataset: SubfindHsml, dtype: float32, shape: (12740556,)\n",
      "Dataset: SubfindVelDisp, dtype: float32, shape: (12740556,)\n",
      "Dataset: Velocities, dtype: float32, shape: (12740556, 3)\n"
     ]
    }
   ],
   "source": [
    "for key in h5f['PartType0'].keys():\n",
    "    item = h5f['PartType0'][key]\n",
    "    \n",
    "    if isinstance(item, h5py.Group):  # Check if it's a group\n",
    "        print(f\"Group: {key}\")\n",
    "    elif isinstance(item, h5py.Dataset):  # Check if it's a dataset\n",
    "        print(f\"Dataset: {key}, dtype: {item.dtype}, shape: {item.shape}\")\n",
    "    else:\n",
    "        print(f\"Unknown item: {key}\")"
   ]
  },
  {
   "cell_type": "code",
   "execution_count": 36,
   "metadata": {
    "execution": {
     "iopub.execute_input": "2025-06-13T05:37:00.918679Z",
     "iopub.status.busy": "2025-06-13T05:37:00.918487Z",
     "iopub.status.idle": "2025-06-13T05:37:00.922681Z",
     "shell.execute_reply": "2025-06-13T05:37:00.922157Z",
     "shell.execute_reply.started": "2025-06-13T05:37:00.918664Z"
    },
    "tags": []
   },
   "outputs": [
    {
     "data": {
      "text/plain": [
       "array([0.0014777 , 0.00014894, 0.00011977, 0.00052269], dtype=float32)"
      ]
     },
     "execution_count": 36,
     "metadata": {},
     "output_type": "execute_result"
    }
   ],
   "source": [
    "h5f['PartType0/Density'][:4]"
   ]
  },
  {
   "cell_type": "code",
   "execution_count": 37,
   "metadata": {
    "execution": {
     "iopub.execute_input": "2025-06-13T05:37:03.921141Z",
     "iopub.status.busy": "2025-06-13T05:37:03.920840Z",
     "iopub.status.idle": "2025-06-13T05:37:03.926476Z",
     "shell.execute_reply": "2025-06-13T05:37:03.925790Z",
     "shell.execute_reply.started": "2025-06-13T05:37:03.921116Z"
    },
    "tags": []
   },
   "outputs": [
    {
     "data": {
      "text/plain": [
       "array([[0.00341575, 0.02955053, 0.03039325, 0.0113246 , 0.0018249 ,\n",
       "        0.00107294],\n",
       "       [0.00528119, 0.00395109, 0.06079636, 0.01422283, 0.00287897,\n",
       "        0.00014479],\n",
       "       [0.00523572, 0.00463134, 0.0593179 , 0.01603837, 0.00286632,\n",
       "        0.00017363],\n",
       "       [0.00412535, 0.01757455, 0.04118681, 0.01462806, 0.00224552,\n",
       "        0.00062448]], dtype=float32)"
      ]
     },
     "execution_count": 37,
     "metadata": {},
     "output_type": "execute_result"
    }
   ],
   "source": [
    "h5f['PartType0/GFM_MetalsTagged'][:4]"
   ]
  },
  {
   "cell_type": "code",
   "execution_count": 38,
   "metadata": {
    "execution": {
     "iopub.execute_input": "2025-06-13T05:37:27.439732Z",
     "iopub.status.busy": "2025-06-13T05:37:27.439435Z",
     "iopub.status.idle": "2025-06-13T05:37:27.444442Z",
     "shell.execute_reply": "2025-06-13T05:37:27.443938Z",
     "shell.execute_reply.started": "2025-06-13T05:37:27.439707Z"
    },
    "tags": []
   },
   "outputs": [
    {
     "data": {
      "text/plain": [
       "array([[ 7312.49536211, 24564.95299761, 21472.6966363 ],\n",
       "       [ 7311.74511646, 24565.17284081, 21472.77431082],\n",
       "       [ 7311.36912136, 24565.32323254, 21472.7139865 ],\n",
       "       [ 7311.85786465, 24564.66993331, 21472.51989424]])"
      ]
     },
     "execution_count": 38,
     "metadata": {},
     "output_type": "execute_result"
    }
   ],
   "source": [
    "h5f['PartType0/Coordinates'][:4]"
   ]
  },
  {
   "cell_type": "markdown",
   "metadata": {},
   "source": [
    "#### Parquet Format"
   ]
  },
  {
   "cell_type": "code",
   "execution_count": 39,
   "metadata": {
    "execution": {
     "iopub.execute_input": "2025-06-13T05:59:50.754030Z",
     "iopub.status.busy": "2025-06-13T05:59:50.753734Z",
     "iopub.status.idle": "2025-06-13T05:59:50.763411Z",
     "shell.execute_reply": "2025-06-13T05:59:50.763090Z",
     "shell.execute_reply.started": "2025-06-13T05:59:50.754005Z"
    },
    "tags": []
   },
   "outputs": [],
   "source": [
    "gas_schema = T.StructType([\n",
    "    T.StructField(\"CenterOfMass\", T.ArrayType(T.FloatType()), True),\n",
    "    T.StructField(\"Coordinates\", T.ArrayType(T.DoubleType()), True),\n",
    "    T.StructField(\"Density\", T.FloatType(), True),\n",
    "    T.StructField(\"ElectronAbundance\", T.FloatType(), True),\n",
    "    T.StructField(\"EnergyDissipation\", T.FloatType(), True),\n",
    "    T.StructField(\"GFM_AGNRadiation\", T.FloatType(), True),\n",
    "    T.StructField(\"GFM_CoolingRate\", T.FloatType(), True),\n",
    "    T.StructField(\"GFM_Metallicity\", T.FloatType(), True),\n",
    "    T.StructField(\"GFM_Metals\", T.ArrayType(T.FloatType()), True),\n",
    "    T.StructField(\"GFM_MetalsTagged\", T.ArrayType(T.FloatType()), True),\n",
    "    T.StructField(\"GFM_WindDMVelDisp\", T.FloatType(), True),\n",
    "    T.StructField(\"GFM_WindHostHaloMass\", T.FloatType(), True),\n",
    "    T.StructField(\"InternalEnergy\", T.FloatType(), True),\n",
    "    T.StructField(\"InternalEnergyOld\", T.FloatType(), True),\n",
    "    T.StructField(\"Machnumber\", T.FloatType(), True),\n",
    "    T.StructField(\"MagneticField\", T.ArrayType(T.FloatType()), True),\n",
    "    T.StructField(\"MagneticFieldDivergence\", T.FloatType(), True),\n",
    "    T.StructField(\"Masses\", T.FloatType(), True),\n",
    "    T.StructField(\"NeutralHydrogenAbundance\", T.FloatType(), True),\n",
    "    T.StructField(\"ParticleIDs\", T.LongType(), True),\n",
    "    T.StructField(\"Potential\", T.FloatType(), True),\n",
    "    T.StructField(\"StarFormationRate\", T.FloatType(), True),\n",
    "    T.StructField(\"SubfindDMDensity\", T.FloatType(), True),\n",
    "    T.StructField(\"SubfindDensity\", T.FloatType(), True),\n",
    "    T.StructField(\"SubfindHsml\", T.FloatType(), True),\n",
    "    T.StructField(\"SubfindVelDisp\", T.FloatType(), True),\n",
    "    T.StructField(\"Velocities\", T.ArrayType(T.FloatType()), True),\n",
    "])"
   ]
  },
  {
   "cell_type": "code",
   "execution_count": 42,
   "metadata": {
    "execution": {
     "iopub.execute_input": "2025-06-13T06:07:49.172245Z",
     "iopub.status.busy": "2025-06-13T06:07:49.171934Z",
     "iopub.status.idle": "2025-06-13T06:07:49.175491Z",
     "shell.execute_reply": "2025-06-13T06:07:49.174729Z",
     "shell.execute_reply.started": "2025-06-13T06:07:49.172218Z"
    },
    "tags": []
   },
   "outputs": [],
   "source": [
    "gas_group = h5f['PartType0']"
   ]
  },
  {
   "cell_type": "code",
   "execution_count": 43,
   "metadata": {
    "execution": {
     "iopub.execute_input": "2025-06-13T06:07:50.688375Z",
     "iopub.status.busy": "2025-06-13T06:07:50.688199Z",
     "iopub.status.idle": "2025-06-13T06:08:44.485887Z",
     "shell.execute_reply": "2025-06-13T06:08:44.485418Z",
     "shell.execute_reply.started": "2025-06-13T06:07:50.688359Z"
    },
    "tags": []
   },
   "outputs": [
    {
     "name": "stdout",
     "output_type": "stream",
     "text": [
      "CPU times: user 45.7 s, sys: 8.14 s, total: 53.9 s\n",
      "Wall time: 53.8 s\n"
     ]
    }
   ],
   "source": [
    "%%time\n",
    "# Convert datasets to dictionary of NumPy arrays: this causes some type errors. \n",
    "#Let's use `list`, not `np.array`\n",
    "# Extract and convert each dataset to a list\n",
    "gas_data = {\n",
    "    key: gas_group[key][:].tolist()\n",
    "    for key in gas_group.keys()\n",
    "}"
   ]
  },
  {
   "cell_type": "markdown",
   "metadata": {},
   "source": [
    "### EDA Code Blocks for `gas_data`"
   ]
  },
  {
   "cell_type": "markdown",
   "metadata": {},
   "source": [
    "- from `gas_data`, we can directly make and save the final parquet file to trigger lazy evaluation as all-in-one\n",
    "- the below is only for EDA testing purpose, with sluggish performances"
   ]
  },
  {
   "cell_type": "code",
   "execution_count": 44,
   "metadata": {
    "execution": {
     "iopub.execute_input": "2025-06-13T06:08:47.116256Z",
     "iopub.status.busy": "2025-06-13T06:08:47.115963Z",
     "iopub.status.idle": "2025-06-13T06:08:47.122569Z",
     "shell.execute_reply": "2025-06-13T06:08:47.122000Z",
     "shell.execute_reply.started": "2025-06-13T06:08:47.116231Z"
    },
    "tags": []
   },
   "outputs": [
    {
     "name": "stdout",
     "output_type": "stream",
     "text": [
      "CenterOfMass: type=<class 'list'>, shape=12740556\n",
      "Coordinates: type=<class 'list'>, shape=12740556\n",
      "Density: type=<class 'list'>, shape=12740556\n",
      "ElectronAbundance: type=<class 'list'>, shape=12740556\n",
      "EnergyDissipation: type=<class 'list'>, shape=12740556\n",
      "GFM_AGNRadiation: type=<class 'list'>, shape=12740556\n",
      "GFM_CoolingRate: type=<class 'list'>, shape=12740556\n",
      "GFM_Metallicity: type=<class 'list'>, shape=12740556\n",
      "GFM_Metals: type=<class 'list'>, shape=12740556\n",
      "GFM_MetalsTagged: type=<class 'list'>, shape=12740556\n",
      "GFM_WindDMVelDisp: type=<class 'list'>, shape=12740556\n",
      "GFM_WindHostHaloMass: type=<class 'list'>, shape=12740556\n",
      "InternalEnergy: type=<class 'list'>, shape=12740556\n",
      "InternalEnergyOld: type=<class 'list'>, shape=12740556\n",
      "Machnumber: type=<class 'list'>, shape=12740556\n",
      "MagneticField: type=<class 'list'>, shape=12740556\n",
      "MagneticFieldDivergence: type=<class 'list'>, shape=12740556\n",
      "Masses: type=<class 'list'>, shape=12740556\n",
      "NeutralHydrogenAbundance: type=<class 'list'>, shape=12740556\n",
      "ParticleIDs: type=<class 'list'>, shape=12740556\n",
      "Potential: type=<class 'list'>, shape=12740556\n",
      "StarFormationRate: type=<class 'list'>, shape=12740556\n",
      "SubfindDMDensity: type=<class 'list'>, shape=12740556\n",
      "SubfindDensity: type=<class 'list'>, shape=12740556\n",
      "SubfindHsml: type=<class 'list'>, shape=12740556\n",
      "SubfindVelDisp: type=<class 'list'>, shape=12740556\n",
      "Velocities: type=<class 'list'>, shape=12740556\n"
     ]
    }
   ],
   "source": [
    "# Optional: Confirm structure\n",
    "for key, value in gas_data.items():\n",
    "    print(f\"{key}: type={type(value)}, shape={len(value)}\")"
   ]
  },
  {
   "cell_type": "code",
   "execution_count": 46,
   "metadata": {
    "execution": {
     "iopub.execute_input": "2025-06-13T06:10:35.375013Z",
     "iopub.status.busy": "2025-06-13T06:10:35.374712Z",
     "iopub.status.idle": "2025-06-13T06:10:57.949335Z",
     "shell.execute_reply": "2025-06-13T06:10:57.948829Z",
     "shell.execute_reply.started": "2025-06-13T06:10:35.374987Z"
    },
    "tags": []
   },
   "outputs": [
    {
     "name": "stdout",
     "output_type": "stream",
     "text": [
      "CPU times: user 21.4 s, sys: 1.2 s, total: 22.6 s\n",
      "Wall time: 22.6 s\n"
     ]
    }
   ],
   "source": [
    "%%time\n",
    "# Turn the dictionary into row-wise tuples\n",
    "data_tuples = list(zip(*gas_data.values()))"
   ]
  },
  {
   "cell_type": "code",
   "execution_count": 48,
   "metadata": {
    "execution": {
     "iopub.execute_input": "2025-06-13T06:14:44.173087Z",
     "iopub.status.busy": "2025-06-13T06:14:44.172785Z",
     "iopub.status.idle": "2025-06-13T06:18:07.367246Z",
     "shell.execute_reply": "2025-06-13T06:18:07.366886Z",
     "shell.execute_reply.started": "2025-06-13T06:14:44.173062Z"
    },
    "tags": []
   },
   "outputs": [
    {
     "name": "stdout",
     "output_type": "stream",
     "text": [
      "CPU times: user 3min 18s, sys: 2.73 s, total: 3min 21s\n",
      "Wall time: 3min 23s\n"
     ]
    }
   ],
   "source": [
    "%%time\n",
    "gasdf = spark.createDataFrame(data_tuples, schema=gas_schema)"
   ]
  },
  {
   "cell_type": "code",
   "execution_count": 49,
   "metadata": {
    "execution": {
     "iopub.execute_input": "2025-06-13T06:19:22.893759Z",
     "iopub.status.busy": "2025-06-13T06:19:22.893458Z",
     "iopub.status.idle": "2025-06-13T06:19:22.911603Z",
     "shell.execute_reply": "2025-06-13T06:19:22.911131Z",
     "shell.execute_reply.started": "2025-06-13T06:19:22.893734Z"
    },
    "tags": []
   },
   "outputs": [
    {
     "name": "stdout",
     "output_type": "stream",
     "text": [
      "root\n",
      " |-- CenterOfMass: array (nullable = true)\n",
      " |    |-- element: float (containsNull = true)\n",
      " |-- Coordinates: array (nullable = true)\n",
      " |    |-- element: double (containsNull = true)\n",
      " |-- Density: float (nullable = true)\n",
      " |-- ElectronAbundance: float (nullable = true)\n",
      " |-- EnergyDissipation: float (nullable = true)\n",
      " |-- GFM_AGNRadiation: float (nullable = true)\n",
      " |-- GFM_CoolingRate: float (nullable = true)\n",
      " |-- GFM_Metallicity: float (nullable = true)\n",
      " |-- GFM_Metals: array (nullable = true)\n",
      " |    |-- element: float (containsNull = true)\n",
      " |-- GFM_MetalsTagged: array (nullable = true)\n",
      " |    |-- element: float (containsNull = true)\n",
      " |-- GFM_WindDMVelDisp: float (nullable = true)\n",
      " |-- GFM_WindHostHaloMass: float (nullable = true)\n",
      " |-- InternalEnergy: float (nullable = true)\n",
      " |-- InternalEnergyOld: float (nullable = true)\n",
      " |-- Machnumber: float (nullable = true)\n",
      " |-- MagneticField: array (nullable = true)\n",
      " |    |-- element: float (containsNull = true)\n",
      " |-- MagneticFieldDivergence: float (nullable = true)\n",
      " |-- Masses: float (nullable = true)\n",
      " |-- NeutralHydrogenAbundance: float (nullable = true)\n",
      " |-- ParticleIDs: long (nullable = true)\n",
      " |-- Potential: float (nullable = true)\n",
      " |-- StarFormationRate: float (nullable = true)\n",
      " |-- SubfindDMDensity: float (nullable = true)\n",
      " |-- SubfindDensity: float (nullable = true)\n",
      " |-- SubfindHsml: float (nullable = true)\n",
      " |-- SubfindVelDisp: float (nullable = true)\n",
      " |-- Velocities: array (nullable = true)\n",
      " |    |-- element: float (containsNull = true)\n",
      "\n"
     ]
    }
   ],
   "source": [
    "gasdf.printSchema()"
   ]
  },
  {
   "cell_type": "code",
   "execution_count": 51,
   "metadata": {
    "execution": {
     "iopub.execute_input": "2025-06-13T06:20:44.622594Z",
     "iopub.status.busy": "2025-06-13T06:20:44.622288Z",
     "iopub.status.idle": "2025-06-13T06:20:44.625764Z",
     "shell.execute_reply": "2025-06-13T06:20:44.625016Z",
     "shell.execute_reply.started": "2025-06-13T06:20:44.622569Z"
    },
    "tags": []
   },
   "outputs": [],
   "source": [
    "cols = gasdf.columns"
   ]
  },
  {
   "cell_type": "code",
   "execution_count": 56,
   "metadata": {
    "execution": {
     "iopub.execute_input": "2025-06-13T06:22:05.653538Z",
     "iopub.status.busy": "2025-06-13T06:22:05.653238Z",
     "iopub.status.idle": "2025-06-13T06:22:05.657248Z",
     "shell.execute_reply": "2025-06-13T06:22:05.656739Z",
     "shell.execute_reply.started": "2025-06-13T06:22:05.653513Z"
    },
    "tags": []
   },
   "outputs": [
    {
     "data": {
      "text/plain": [
       "27"
      ]
     },
     "execution_count": 56,
     "metadata": {},
     "output_type": "execute_result"
    }
   ],
   "source": [
    "len(cols)"
   ]
  },
  {
   "cell_type": "markdown",
   "metadata": {},
   "source": [
    "#### Show some rows\n",
    "\n",
    "> instead of `gasdf.show(5,truncate=True)`, do some works to display the row values better"
   ]
  },
  {
   "cell_type": "code",
   "execution_count": 65,
   "metadata": {
    "execution": {
     "iopub.execute_input": "2025-06-13T06:27:42.717929Z",
     "iopub.status.busy": "2025-06-13T06:27:42.717625Z",
     "iopub.status.idle": "2025-06-13T06:27:47.471125Z",
     "shell.execute_reply": "2025-06-13T06:27:47.470751Z",
     "shell.execute_reply.started": "2025-06-13T06:27:42.717904Z"
    },
    "tags": []
   },
   "outputs": [
    {
     "name": "stdout",
     "output_type": "stream",
     "text": [
      "                                                                      Row_0  \\\n",
      "CenterOfMass               [7312.419921875, 24565.0078125, 21472.666015625]   \n",
      "Coordinates               [7312.495362107541, 24564.95299761482, 21472.6...   \n",
      "Density                                                            0.001478   \n",
      "ElectronAbundance                                                  1.233613   \n",
      "EnergyDissipation                                                       0.0   \n",
      "GFM_AGNRadiation                                                   0.000028   \n",
      "GFM_CoolingRate                                                        -0.0   \n",
      "GFM_Metallicity                                                     0.06336   \n",
      "GFM_Metals                [0.6383745670318604, 0.29826587438583374, 0.00...   \n",
      "GFM_MetalsTagged          [0.0034157498739659786, 0.02955053374171257, 0...   \n",
      "GFM_WindDMVelDisp                                               1201.722412   \n",
      "GFM_WindHostHaloMass                                            1201.722412   \n",
      "InternalEnergy                                                 81216.992188   \n",
      "InternalEnergyOld                                              81216.992188   \n",
      "Machnumber                                                              0.0   \n",
      "MagneticField             [-3.874845266342163, -0.45630064606666565, 0.5...   \n",
      "MagneticFieldDivergence                                           -0.891639   \n",
      "Masses                                                              0.00001   \n",
      "NeutralHydrogenAbundance                                                0.0   \n",
      "ParticleIDs                                                    150569272610   \n",
      "Potential                                                        -4239935.0   \n",
      "StarFormationRate                                                       0.0   \n",
      "SubfindDMDensity                                                   0.032615   \n",
      "SubfindDensity                                                     1.248916   \n",
      "SubfindHsml                                                        0.199647   \n",
      "SubfindVelDisp                                                  1312.894409   \n",
      "Velocities                [230.91220092773438, 486.83441162109375, -45.0...   \n",
      "\n",
      "                                                                      Row_1  \\\n",
      "CenterOfMass              [7311.80126953125, 24565.271484375, 21472.6640...   \n",
      "Coordinates               [7311.745116457382, 24565.172840813095, 21472....   \n",
      "Density                                                            0.000149   \n",
      "ElectronAbundance                                                  1.244102   \n",
      "EnergyDissipation                                                       0.0   \n",
      "GFM_AGNRadiation                                                   0.000028   \n",
      "GFM_CoolingRate                                                        -0.0   \n",
      "GFM_Metallicity                                                    0.070029   \n",
      "GFM_Metals                [0.6248953342437744, 0.30507606267929077, 0.00...   \n",
      "GFM_MetalsTagged          [0.0052811927162110806, 0.003951091784983873, ...   \n",
      "GFM_WindDMVelDisp                                               1191.033691   \n",
      "GFM_WindHostHaloMass                                            1191.033691   \n",
      "InternalEnergy                                                  937218.6875   \n",
      "InternalEnergyOld                                               937218.6875   \n",
      "Machnumber                                                              0.0   \n",
      "MagneticField             [-0.7308244109153748, 0.7098976373672485, -1.3...   \n",
      "MagneticFieldDivergence                                           -1.084734   \n",
      "Masses                                                             0.000008   \n",
      "NeutralHydrogenAbundance                                                0.0   \n",
      "ParticleIDs                                                    150567448363   \n",
      "Potential                                                        -4859893.0   \n",
      "StarFormationRate                                                       0.0   \n",
      "SubfindDMDensity                                                   0.182211   \n",
      "SubfindDensity                                                    24.373447   \n",
      "SubfindHsml                                                        0.136746   \n",
      "SubfindVelDisp                                                  1469.235474   \n",
      "Velocities                [295.5502014160156, -421.8604736328125, 52.186...   \n",
      "\n",
      "                                                                      Row_2  \\\n",
      "CenterOfMass                [7311.39599609375, 24565.40625, 21472.65234375]   \n",
      "Coordinates               [7311.369121362113, 24565.323232542258, 21472....   \n",
      "Density                                                             0.00012   \n",
      "ElectronAbundance                                                  1.242972   \n",
      "EnergyDissipation                                               9806.145508   \n",
      "GFM_AGNRadiation                                                   0.000028   \n",
      "GFM_CoolingRate                                                        -0.0   \n",
      "GFM_Metallicity                                                    0.069185   \n",
      "GFM_Metals                [0.6264129281044006, 0.30440211296081543, 0.00...   \n",
      "GFM_MetalsTagged          [0.005235722754150629, 0.004631336312741041, 0...   \n",
      "GFM_WindDMVelDisp                                               1137.866455   \n",
      "GFM_WindHostHaloMass                                            1137.866455   \n",
      "InternalEnergy                                                    554627.75   \n",
      "InternalEnergyOld                                                 554627.75   \n",
      "Machnumber                                                         2.539958   \n",
      "MagneticField             [0.809209942817688, -0.8075810074806213, 0.718...   \n",
      "MagneticFieldDivergence                                           -0.448922   \n",
      "Masses                                                             0.000011   \n",
      "NeutralHydrogenAbundance                                                0.0   \n",
      "ParticleIDs                                                    150554060607   \n",
      "Potential                                                        -4687837.5   \n",
      "StarFormationRate                                                       0.0   \n",
      "SubfindDMDensity                                                   0.110188   \n",
      "SubfindDensity                                                    22.078245   \n",
      "SubfindHsml                                                        0.150503   \n",
      "SubfindVelDisp                                                  1420.862671   \n",
      "Velocities                [409.16259765625, -763.0289916992188, 25.26906...   \n",
      "\n",
      "                                                                      Row_3  \\\n",
      "CenterOfMass              [7311.82421875, 24564.724609375, 21472.513671875]   \n",
      "Coordinates               [7311.857864654516, 24564.669933313864, 21472....   \n",
      "Density                                                            0.000523   \n",
      "ElectronAbundance                                                  1.233333   \n",
      "EnergyDissipation                                                       0.0   \n",
      "GFM_AGNRadiation                                                   0.000028   \n",
      "GFM_CoolingRate                                                        -0.0   \n",
      "GFM_Metallicity                                                    0.062887   \n",
      "GFM_Metals                [0.6389410495758057, 0.2981722354888916, 0.006...   \n",
      "GFM_MetalsTagged          [0.004125353414565325, 0.017574554309248924, 0...   \n",
      "GFM_WindDMVelDisp                                               1099.221436   \n",
      "GFM_WindHostHaloMass                                            1099.221436   \n",
      "InternalEnergy                                                 169000.46875   \n",
      "InternalEnergyOld                                              169000.46875   \n",
      "Machnumber                                                              0.0   \n",
      "MagneticField             [-5.897432327270508, 0.8970555663108826, -3.97...   \n",
      "MagneticFieldDivergence                                            0.019298   \n",
      "Masses                                                              0.00001   \n",
      "NeutralHydrogenAbundance                                                0.0   \n",
      "ParticleIDs                                                    150558607266   \n",
      "Potential                                                        -4329678.5   \n",
      "StarFormationRate                                                       0.0   \n",
      "SubfindDMDensity                                                   0.077675   \n",
      "SubfindDensity                                                     6.471635   \n",
      "SubfindHsml                                                         0.17846   \n",
      "SubfindVelDisp                                                  1386.814209   \n",
      "Velocities                [677.9370727539062, -212.0658721923828, 214.13...   \n",
      "\n",
      "                                                                      Row_4  \n",
      "CenterOfMass                 [7312.3994140625, 24564.96875, 21472.80859375]  \n",
      "Coordinates               [7312.475070684939, 24564.923338423465, 21472....  \n",
      "Density                                                            0.001095  \n",
      "ElectronAbundance                                                   1.23006  \n",
      "EnergyDissipation                                                       0.0  \n",
      "GFM_AGNRadiation                                                   0.000028  \n",
      "GFM_CoolingRate                                                        -0.0  \n",
      "GFM_Metallicity                                                    0.060775  \n",
      "GFM_Metals                [0.6432515978813171, 0.29597294330596924, 0.00...  \n",
      "GFM_MetalsTagged          [0.0035968481097370386, 0.02368689328432083, 0...  \n",
      "GFM_WindDMVelDisp                                               1149.162842  \n",
      "GFM_WindHostHaloMass                                            1149.162842  \n",
      "InternalEnergy                                                195672.265625  \n",
      "InternalEnergyOld                                             195672.265625  \n",
      "Machnumber                                                              0.0  \n",
      "MagneticField             [-2.61348295211792, -3.0335757732391357, -4.78...  \n",
      "MagneticFieldDivergence                                            6.322909  \n",
      "Masses                                                             0.000008  \n",
      "NeutralHydrogenAbundance                                                0.0  \n",
      "ParticleIDs                                                    150558339073  \n",
      "Potential                                                        -4256602.0  \n",
      "StarFormationRate                                                       0.0  \n",
      "SubfindDMDensity                                                   0.044844  \n",
      "SubfindDensity                                                     1.987229  \n",
      "SubfindHsml                                                        0.194738  \n",
      "SubfindVelDisp                                                  1360.013184  \n",
      "Velocities                [368.9975280761719, 322.0564270019531, -1.5349...  \n",
      "CPU times: user 13.2 ms, sys: 0 ns, total: 13.2 ms\n",
      "Wall time: 4.75 s\n"
     ]
    }
   ],
   "source": [
    "%%time\n",
    "rows = gasdf.take(5)  # Returns list of Row objects\n",
    "rows_dict = [row.asDict() for row in rows]\n",
    "df = pd.DataFrame(rows_dict)\n",
    "\n",
    "# Transpose and label\n",
    "df_transposed = df.transpose()\n",
    "df_transposed.columns = [f\"Row_{i}\" for i in range(len(rows))]\n",
    "print(df_transposed)"
   ]
  },
  {
   "cell_type": "markdown",
   "metadata": {},
   "source": [
    "### All-in-one Code Block for `gas_data`"
   ]
  },
  {
   "cell_type": "markdown",
   "metadata": {},
   "source": [
    "#### Hadoop Path"
   ]
  },
  {
   "cell_type": "code",
   "execution_count": 68,
   "metadata": {
    "execution": {
     "iopub.execute_input": "2025-06-13T06:31:37.340808Z",
     "iopub.status.busy": "2025-06-13T06:31:37.340499Z",
     "iopub.status.idle": "2025-06-13T06:31:37.343716Z",
     "shell.execute_reply": "2025-06-13T06:31:37.343154Z",
     "shell.execute_reply.started": "2025-06-13T06:31:37.340782Z"
    },
    "tags": []
   },
   "outputs": [],
   "source": [
    "hdfsheader = 'hdfs://spark00:54310'"
   ]
  },
  {
   "cell_type": "code",
   "execution_count": 69,
   "metadata": {
    "execution": {
     "iopub.execute_input": "2025-06-13T06:31:37.771340Z",
     "iopub.status.busy": "2025-06-13T06:31:37.771040Z",
     "iopub.status.idle": "2025-06-13T06:31:37.774966Z",
     "shell.execute_reply": "2025-06-13T06:31:37.774510Z",
     "shell.execute_reply.started": "2025-06-13T06:31:37.771315Z"
    },
    "tags": []
   },
   "outputs": [
    {
     "data": {
      "text/plain": [
       "'hdfs://spark00:54310/common/data/illustris/tng50/snapshot84/gas/'"
      ]
     },
     "execution_count": 69,
     "metadata": {},
     "output_type": "execute_result"
    }
   ],
   "source": [
    "hdfsheader + hdfsgaspath"
   ]
  },
  {
   "cell_type": "markdown",
   "metadata": {},
   "source": [
    "#### Parsing File Name"
   ]
  },
  {
   "cell_type": "code",
   "execution_count": 70,
   "metadata": {
    "execution": {
     "iopub.execute_input": "2025-06-13T06:32:22.091740Z",
     "iopub.status.busy": "2025-06-13T06:32:22.091432Z",
     "iopub.status.idle": "2025-06-13T06:32:22.095317Z",
     "shell.execute_reply": "2025-06-13T06:32:22.094805Z",
     "shell.execute_reply.started": "2025-06-13T06:32:22.091714Z"
    },
    "tags": []
   },
   "outputs": [
    {
     "data": {
      "text/plain": [
       "'/mnt/data/shong/tempdata/tng50snap84/raw/snap_084.0.hdf5'"
      ]
     },
     "execution_count": 70,
     "metadata": {},
     "output_type": "execute_result"
    }
   ],
   "source": [
    "inh5file"
   ]
  },
  {
   "cell_type": "code",
   "execution_count": 73,
   "metadata": {
    "execution": {
     "iopub.execute_input": "2025-06-13T06:37:08.789220Z",
     "iopub.status.busy": "2025-06-13T06:37:08.788922Z",
     "iopub.status.idle": "2025-06-13T06:37:08.793317Z",
     "shell.execute_reply": "2025-06-13T06:37:08.792585Z",
     "shell.execute_reply.started": "2025-06-13T06:37:08.789195Z"
    },
    "tags": []
   },
   "outputs": [
    {
     "name": "stdout",
     "output_type": "stream",
     "text": [
      "snap_084.0\n"
     ]
    }
   ],
   "source": [
    "parsedname = inh5file.split(\"/\")[-1].replace(\".hdf5\", \"\")\n",
    "print(parsedname)"
   ]
  },
  {
   "cell_type": "code",
   "execution_count": 74,
   "metadata": {
    "execution": {
     "iopub.execute_input": "2025-06-13T06:37:09.812794Z",
     "iopub.status.busy": "2025-06-13T06:37:09.812477Z",
     "iopub.status.idle": "2025-06-13T06:37:09.816169Z",
     "shell.execute_reply": "2025-06-13T06:37:09.815226Z",
     "shell.execute_reply.started": "2025-06-13T06:37:09.812768Z"
    },
    "tags": []
   },
   "outputs": [],
   "source": [
    "nametail = '_gas.parquet.snappy'"
   ]
  },
  {
   "cell_type": "code",
   "execution_count": 76,
   "metadata": {
    "execution": {
     "iopub.execute_input": "2025-06-13T06:41:06.495694Z",
     "iopub.status.busy": "2025-06-13T06:41:06.495393Z",
     "iopub.status.idle": "2025-06-13T06:41:06.499804Z",
     "shell.execute_reply": "2025-06-13T06:41:06.499039Z",
     "shell.execute_reply.started": "2025-06-13T06:41:06.495668Z"
    },
    "tags": []
   },
   "outputs": [
    {
     "name": "stdout",
     "output_type": "stream",
     "text": [
      "hdfs://spark00:54310/common/data/illustris/tng50/snapshot84/gas/snap_084.0_gas.parquet.snappy\n"
     ]
    }
   ],
   "source": [
    "outgasname = hdfsheader + hdfsgaspath + parsedname + nametail\n",
    "print(outgasname)"
   ]
  },
  {
   "cell_type": "markdown",
   "metadata": {},
   "source": [
    "#### Save with overwrite"
   ]
  },
  {
   "cell_type": "code",
   "execution_count": 77,
   "metadata": {
    "execution": {
     "iopub.execute_input": "2025-06-13T06:41:23.663635Z",
     "iopub.status.busy": "2025-06-13T06:41:23.663338Z",
     "iopub.status.idle": "2025-06-13T06:42:47.404287Z",
     "shell.execute_reply": "2025-06-13T06:42:47.403783Z",
     "shell.execute_reply.started": "2025-06-13T06:41:23.663610Z"
    },
    "tags": []
   },
   "outputs": [
    {
     "name": "stdout",
     "output_type": "stream",
     "text": [
      "CPU times: user 21.9 ms, sys: 52 µs, total: 21.9 ms\n",
      "Wall time: 1min 23s\n"
     ]
    }
   ],
   "source": [
    "%%time\n",
    "gasdf.write.option(\"compression\", \"snappy\") \\\n",
    "    .mode(\"overwrite\") \\\n",
    "    .save(outgasname)"
   ]
  },
  {
   "cell_type": "markdown",
   "metadata": {},
   "source": [
    "## `DM` Particles"
   ]
  },
  {
   "cell_type": "code",
   "execution_count": 78,
   "metadata": {
    "execution": {
     "iopub.execute_input": "2025-06-13T07:05:27.939666Z",
     "iopub.status.busy": "2025-06-13T07:05:27.939371Z",
     "iopub.status.idle": "2025-06-13T07:05:27.948170Z",
     "shell.execute_reply": "2025-06-13T07:05:27.947675Z",
     "shell.execute_reply.started": "2025-06-13T07:05:27.939640Z"
    },
    "tags": []
   },
   "outputs": [
    {
     "name": "stdout",
     "output_type": "stream",
     "text": [
      "Dataset: Coordinates, dtype: float64, shape: (15072481, 3)\n",
      "Dataset: ParticleIDs, dtype: uint64, shape: (15072481,)\n",
      "Dataset: Potential, dtype: float32, shape: (15072481,)\n",
      "Dataset: SubfindDMDensity, dtype: float32, shape: (15072481,)\n",
      "Dataset: SubfindDensity, dtype: float32, shape: (15072481,)\n",
      "Dataset: SubfindHsml, dtype: float32, shape: (15072481,)\n",
      "Dataset: SubfindVelDisp, dtype: float32, shape: (15072481,)\n",
      "Dataset: Velocities, dtype: float32, shape: (15072481, 3)\n"
     ]
    }
   ],
   "source": [
    "for key in h5f['PartType1'].keys():\n",
    "    item = h5f['PartType1'][key]\n",
    "    \n",
    "    if isinstance(item, h5py.Group):  # Check if it's a group\n",
    "        print(f\"Group: {key}\")\n",
    "    elif isinstance(item, h5py.Dataset):  # Check if it's a dataset\n",
    "        print(f\"Dataset: {key}, dtype: {item.dtype}, shape: {item.shape}\")\n",
    "    else:\n",
    "        print(f\"Unknown item: {key}\")"
   ]
  },
  {
   "cell_type": "code",
   "execution_count": 79,
   "metadata": {
    "execution": {
     "iopub.execute_input": "2025-06-13T07:07:23.743139Z",
     "iopub.status.busy": "2025-06-13T07:07:23.742827Z",
     "iopub.status.idle": "2025-06-13T07:07:23.747726Z",
     "shell.execute_reply": "2025-06-13T07:07:23.747175Z",
     "shell.execute_reply.started": "2025-06-13T07:07:23.743105Z"
    },
    "tags": []
   },
   "outputs": [],
   "source": [
    "dm_schema = T.StructType([\n",
    "    T.StructField(\"Coordinates\", T.ArrayType(T.DoubleType()), True),\n",
    "    T.StructField(\"ParticleIDs\", T.LongType(), True),\n",
    "    T.StructField(\"Potential\", T.FloatType(), True),\n",
    "    T.StructField(\"SubfindDMDensity\", T.FloatType(), True),\n",
    "    T.StructField(\"SubfindDensity\", T.FloatType(), True),\n",
    "    T.StructField(\"SubfindHsml\", T.FloatType(), True),\n",
    "    T.StructField(\"SubfindVelDisp\", T.FloatType(), True),\n",
    "    T.StructField(\"Velocities\", T.ArrayType(T.FloatType()), True),\n",
    "])"
   ]
  },
  {
   "cell_type": "code",
   "execution_count": 80,
   "metadata": {
    "execution": {
     "iopub.execute_input": "2025-06-13T07:07:38.564015Z",
     "iopub.status.busy": "2025-06-13T07:07:38.563715Z",
     "iopub.status.idle": "2025-06-13T07:07:38.567068Z",
     "shell.execute_reply": "2025-06-13T07:07:38.566437Z",
     "shell.execute_reply.started": "2025-06-13T07:07:38.563989Z"
    },
    "tags": []
   },
   "outputs": [],
   "source": [
    "dm_group = h5f['PartType1']"
   ]
  },
  {
   "cell_type": "code",
   "execution_count": 81,
   "metadata": {
    "execution": {
     "iopub.execute_input": "2025-06-13T07:08:03.289612Z",
     "iopub.status.busy": "2025-06-13T07:08:03.289310Z",
     "iopub.status.idle": "2025-06-13T07:08:26.671262Z",
     "shell.execute_reply": "2025-06-13T07:08:26.670868Z",
     "shell.execute_reply.started": "2025-06-13T07:08:03.289587Z"
    },
    "tags": []
   },
   "outputs": [
    {
     "name": "stdout",
     "output_type": "stream",
     "text": [
      "CPU times: user 16.7 s, sys: 1.97 s, total: 18.7 s\n",
      "Wall time: 23.4 s\n"
     ]
    }
   ],
   "source": [
    "%%time\n",
    "# Convert datasets to dictionary of NumPy arrays: this causes some type errors. \n",
    "#Let's use `list`, not `np.array`\n",
    "# Extract and convert each dataset to a list\n",
    "dm_data = {\n",
    "    key: dm_group[key][:].tolist()\n",
    "    for key in dm_group.keys()\n",
    "}"
   ]
  },
  {
   "cell_type": "markdown",
   "metadata": {},
   "source": [
    "### EDA Code Blocks for `dm_data`"
   ]
  },
  {
   "cell_type": "code",
   "execution_count": 82,
   "metadata": {
    "execution": {
     "iopub.execute_input": "2025-06-13T07:08:54.996663Z",
     "iopub.status.busy": "2025-06-13T07:08:54.996342Z",
     "iopub.status.idle": "2025-06-13T07:08:55.000805Z",
     "shell.execute_reply": "2025-06-13T07:08:55.000207Z",
     "shell.execute_reply.started": "2025-06-13T07:08:54.996637Z"
    },
    "tags": []
   },
   "outputs": [
    {
     "name": "stdout",
     "output_type": "stream",
     "text": [
      "Coordinates: type=<class 'list'>, shape=15072481\n",
      "ParticleIDs: type=<class 'list'>, shape=15072481\n",
      "Potential: type=<class 'list'>, shape=15072481\n",
      "SubfindDMDensity: type=<class 'list'>, shape=15072481\n",
      "SubfindDensity: type=<class 'list'>, shape=15072481\n",
      "SubfindHsml: type=<class 'list'>, shape=15072481\n",
      "SubfindVelDisp: type=<class 'list'>, shape=15072481\n",
      "Velocities: type=<class 'list'>, shape=15072481\n"
     ]
    }
   ],
   "source": [
    "# Optional: Confirm structure\n",
    "for key, value in dm_data.items():\n",
    "    print(f\"{key}: type={type(value)}, shape={len(value)}\")"
   ]
  },
  {
   "cell_type": "code",
   "execution_count": 83,
   "metadata": {
    "execution": {
     "iopub.execute_input": "2025-06-13T07:09:22.988660Z",
     "iopub.status.busy": "2025-06-13T07:09:22.988333Z",
     "iopub.status.idle": "2025-06-13T07:09:40.306533Z",
     "shell.execute_reply": "2025-06-13T07:09:40.306132Z",
     "shell.execute_reply.started": "2025-06-13T07:09:22.988625Z"
    },
    "tags": []
   },
   "outputs": [
    {
     "name": "stdout",
     "output_type": "stream",
     "text": [
      "CPU times: user 16.9 s, sys: 459 ms, total: 17.4 s\n",
      "Wall time: 17.3 s\n"
     ]
    }
   ],
   "source": [
    "%%time\n",
    "# Turn the dictionary into row-wise tuples\n",
    "dm_data_tuples = list(zip(*dm_data.values()))"
   ]
  },
  {
   "cell_type": "code",
   "execution_count": 84,
   "metadata": {
    "execution": {
     "iopub.execute_input": "2025-06-13T07:10:02.500692Z",
     "iopub.status.busy": "2025-06-13T07:10:02.500367Z",
     "iopub.status.idle": "2025-06-13T07:11:07.057714Z",
     "shell.execute_reply": "2025-06-13T07:11:07.057314Z",
     "shell.execute_reply.started": "2025-06-13T07:10:02.500661Z"
    },
    "tags": []
   },
   "outputs": [
    {
     "name": "stdout",
     "output_type": "stream",
     "text": [
      "CPU times: user 1min 3s, sys: 808 ms, total: 1min 4s\n",
      "Wall time: 1min 4s\n"
     ]
    }
   ],
   "source": [
    "%%time\n",
    "dmdf = spark.createDataFrame(dm_data_tuples, schema=dm_schema)"
   ]
  },
  {
   "cell_type": "code",
   "execution_count": 85,
   "metadata": {
    "execution": {
     "iopub.execute_input": "2025-06-13T07:11:23.284992Z",
     "iopub.status.busy": "2025-06-13T07:11:23.284691Z",
     "iopub.status.idle": "2025-06-13T07:11:23.289131Z",
     "shell.execute_reply": "2025-06-13T07:11:23.288487Z",
     "shell.execute_reply.started": "2025-06-13T07:11:23.284965Z"
    },
    "tags": []
   },
   "outputs": [
    {
     "name": "stdout",
     "output_type": "stream",
     "text": [
      "root\n",
      " |-- Coordinates: array (nullable = true)\n",
      " |    |-- element: double (containsNull = true)\n",
      " |-- ParticleIDs: long (nullable = true)\n",
      " |-- Potential: float (nullable = true)\n",
      " |-- SubfindDMDensity: float (nullable = true)\n",
      " |-- SubfindDensity: float (nullable = true)\n",
      " |-- SubfindHsml: float (nullable = true)\n",
      " |-- SubfindVelDisp: float (nullable = true)\n",
      " |-- Velocities: array (nullable = true)\n",
      " |    |-- element: float (containsNull = true)\n",
      "\n"
     ]
    }
   ],
   "source": [
    "dmdf.printSchema()"
   ]
  },
  {
   "cell_type": "markdown",
   "metadata": {},
   "source": [
    "#### Show some rows"
   ]
  },
  {
   "cell_type": "code",
   "execution_count": 86,
   "metadata": {
    "execution": {
     "iopub.execute_input": "2025-06-13T07:12:09.428228Z",
     "iopub.status.busy": "2025-06-13T07:12:09.427925Z",
     "iopub.status.idle": "2025-06-13T07:12:09.615746Z",
     "shell.execute_reply": "2025-06-13T07:12:09.615440Z",
     "shell.execute_reply.started": "2025-06-13T07:12:09.428202Z"
    },
    "tags": []
   },
   "outputs": [
    {
     "name": "stdout",
     "output_type": "stream",
     "text": [
      "                                                              Row_0  \\\n",
      "Coordinates       [7311.789333827647, 24565.490091139818, 21473....   \n",
      "ParticleIDs                                              1700917146   \n",
      "Potential                                                -4935796.0   \n",
      "SubfindDMDensity                                           0.251378   \n",
      "SubfindDensity                                            24.844238   \n",
      "SubfindHsml                                                0.141662   \n",
      "SubfindVelDisp                                          1535.332275   \n",
      "Velocities        [141.73175048828125, 611.8182373046875, -339.2...   \n",
      "\n",
      "                                                              Row_1  \\\n",
      "Coordinates       [7311.830562580984, 24565.235081401832, 21472....   \n",
      "ParticleIDs                                              1454880154   \n",
      "Potential                                                -4842780.0   \n",
      "SubfindDMDensity                                           0.157524   \n",
      "SubfindDensity                                            27.453302   \n",
      "SubfindHsml                                                0.136771   \n",
      "SubfindVelDisp                                          1532.399536   \n",
      "Velocities        [192.53057861328125, 412.2011413574219, 133.31...   \n",
      "\n",
      "                                                              Row_2  \\\n",
      "Coordinates       [7311.565490756849, 24565.682788276077, 21472....   \n",
      "ParticleIDs                                              2419114666   \n",
      "Potential                                                -4823761.5   \n",
      "SubfindDMDensity                                           0.154011   \n",
      "SubfindDensity                                            21.042099   \n",
      "SubfindHsml                                                 0.15054   \n",
      "SubfindVelDisp                                          1453.193115   \n",
      "Velocities        [24.495758056640625, 89.36463165283203, 440.24...   \n",
      "\n",
      "                                                              Row_3  \\\n",
      "Coordinates       [7311.79716981812, 24565.747261970606, 21472.9...   \n",
      "ParticleIDs                                              2415485354   \n",
      "Potential                                                -4916410.0   \n",
      "SubfindDMDensity                                           0.294535   \n",
      "SubfindDensity                                            59.872063   \n",
      "SubfindHsml                                                0.134172   \n",
      "SubfindVelDisp                                          1601.454102   \n",
      "Velocities        [-627.6690063476562, 95.61431121826172, 289.15...   \n",
      "\n",
      "                                                              Row_4  \n",
      "Coordinates       [7311.486113755786, 24565.245339292942, 21472....  \n",
      "ParticleIDs                                              1447770778  \n",
      "Potential                                                -4776827.5  \n",
      "SubfindDMDensity                                           0.147049  \n",
      "SubfindDensity                                             14.33396  \n",
      "SubfindHsml                                                0.150512  \n",
      "SubfindVelDisp                                          1437.062866  \n",
      "Velocities        [-118.64083862304688, -424.4708557128906, -189...  \n",
      "CPU times: user 8.26 ms, sys: 0 ns, total: 8.26 ms\n",
      "Wall time: 184 ms\n"
     ]
    }
   ],
   "source": [
    "%%time\n",
    "rows = dmdf.take(5)  # Returns list of Row objects\n",
    "rows_dict = [row.asDict() for row in rows]\n",
    "df = pd.DataFrame(rows_dict)\n",
    "\n",
    "# Transpose and label\n",
    "df_transposed = df.transpose()\n",
    "df_transposed.columns = [f\"Row_{i}\" for i in range(len(rows))]\n",
    "print(df_transposed)"
   ]
  },
  {
   "cell_type": "markdown",
   "metadata": {},
   "source": [
    "### All-in-one Code Block for `dm_data`"
   ]
  },
  {
   "cell_type": "code",
   "execution_count": 87,
   "metadata": {
    "execution": {
     "iopub.execute_input": "2025-06-13T07:13:17.876813Z",
     "iopub.status.busy": "2025-06-13T07:13:17.876498Z",
     "iopub.status.idle": "2025-06-13T07:13:17.880518Z",
     "shell.execute_reply": "2025-06-13T07:13:17.879940Z",
     "shell.execute_reply.started": "2025-06-13T07:13:17.876787Z"
    },
    "tags": []
   },
   "outputs": [
    {
     "data": {
      "text/plain": [
       "'hdfs://spark00:54310/common/data/illustris/tng50/snapshot84/dm/'"
      ]
     },
     "execution_count": 87,
     "metadata": {},
     "output_type": "execute_result"
    }
   ],
   "source": [
    "hdfsheader + hdfsdmpath"
   ]
  },
  {
   "cell_type": "code",
   "execution_count": 88,
   "metadata": {
    "execution": {
     "iopub.execute_input": "2025-06-13T07:13:45.572297Z",
     "iopub.status.busy": "2025-06-13T07:13:45.572000Z",
     "iopub.status.idle": "2025-06-13T07:13:45.575187Z",
     "shell.execute_reply": "2025-06-13T07:13:45.574641Z",
     "shell.execute_reply.started": "2025-06-13T07:13:45.572271Z"
    },
    "tags": []
   },
   "outputs": [],
   "source": [
    "dmnametail = '_dm.parquet.snappy'"
   ]
  },
  {
   "cell_type": "code",
   "execution_count": 89,
   "metadata": {
    "execution": {
     "iopub.execute_input": "2025-06-13T07:14:08.814002Z",
     "iopub.status.busy": "2025-06-13T07:14:08.813703Z",
     "iopub.status.idle": "2025-06-13T07:14:08.817551Z",
     "shell.execute_reply": "2025-06-13T07:14:08.816858Z",
     "shell.execute_reply.started": "2025-06-13T07:14:08.813976Z"
    },
    "tags": []
   },
   "outputs": [
    {
     "name": "stdout",
     "output_type": "stream",
     "text": [
      "hdfs://spark00:54310/common/data/illustris/tng50/snapshot84/dm/snap_084.0_dm.parquet.snappy\n"
     ]
    }
   ],
   "source": [
    "outdmname = hdfsheader + hdfsdmpath + parsedname + dmnametail\n",
    "print(outdmname)"
   ]
  },
  {
   "cell_type": "code",
   "execution_count": 90,
   "metadata": {
    "execution": {
     "iopub.execute_input": "2025-06-13T07:14:46.117069Z",
     "iopub.status.busy": "2025-06-13T07:14:46.116777Z",
     "iopub.status.idle": "2025-06-13T07:15:19.082261Z",
     "shell.execute_reply": "2025-06-13T07:15:19.081572Z",
     "shell.execute_reply.started": "2025-06-13T07:14:46.117043Z"
    },
    "tags": []
   },
   "outputs": [
    {
     "name": "stdout",
     "output_type": "stream",
     "text": [
      "CPU times: user 7.76 ms, sys: 7.99 ms, total: 15.7 ms\n",
      "Wall time: 33 s\n"
     ]
    }
   ],
   "source": [
    "%%time\n",
    "dmdf.write.option(\"compression\", \"snappy\") \\\n",
    "    .mode(\"overwrite\") \\\n",
    "    .save(outdmname)"
   ]
  },
  {
   "cell_type": "markdown",
   "metadata": {},
   "source": [
    "## `Star` Particle"
   ]
  },
  {
   "cell_type": "code",
   "execution_count": 91,
   "metadata": {
    "execution": {
     "iopub.execute_input": "2025-06-13T07:20:56.639664Z",
     "iopub.status.busy": "2025-06-13T07:20:56.639366Z",
     "iopub.status.idle": "2025-06-13T07:20:56.648616Z",
     "shell.execute_reply": "2025-06-13T07:20:56.648327Z",
     "shell.execute_reply.started": "2025-06-13T07:20:56.639639Z"
    },
    "tags": []
   },
   "outputs": [
    {
     "name": "stdout",
     "output_type": "stream",
     "text": [
      "Dataset: BirthPos, dtype: float32, shape: (1865063, 3)\n",
      "Dataset: BirthVel, dtype: float32, shape: (1865063, 3)\n",
      "Dataset: Coordinates, dtype: float64, shape: (1865063, 3)\n",
      "Dataset: GFM_InitialMass, dtype: float32, shape: (1865063,)\n",
      "Dataset: GFM_Metallicity, dtype: float32, shape: (1865063,)\n",
      "Dataset: GFM_Metals, dtype: float32, shape: (1865063, 10)\n",
      "Dataset: GFM_MetalsTagged, dtype: float32, shape: (1865063, 6)\n",
      "Dataset: GFM_StellarFormationTime, dtype: float32, shape: (1865063,)\n",
      "Dataset: GFM_StellarPhotometrics, dtype: float32, shape: (1865063, 8)\n",
      "Dataset: Masses, dtype: float32, shape: (1865063,)\n",
      "Dataset: ParticleIDs, dtype: uint64, shape: (1865063,)\n",
      "Dataset: Potential, dtype: float32, shape: (1865063,)\n",
      "Dataset: StellarHsml, dtype: float32, shape: (1865063,)\n",
      "Dataset: SubfindDMDensity, dtype: float32, shape: (1865063,)\n",
      "Dataset: SubfindDensity, dtype: float32, shape: (1865063,)\n",
      "Dataset: SubfindHsml, dtype: float32, shape: (1865063,)\n",
      "Dataset: SubfindVelDisp, dtype: float32, shape: (1865063,)\n",
      "Dataset: Velocities, dtype: float32, shape: (1865063, 3)\n"
     ]
    }
   ],
   "source": [
    "for key in h5f['PartType4'].keys():\n",
    "    item = h5f['PartType4'][key]\n",
    "    \n",
    "    if isinstance(item, h5py.Group):  # Check if it's a group\n",
    "        print(f\"Group: {key}\")\n",
    "    elif isinstance(item, h5py.Dataset):  # Check if it's a dataset\n",
    "        print(f\"Dataset: {key}, dtype: {item.dtype}, shape: {item.shape}\")\n",
    "    else:\n",
    "        print(f\"Unknown item: {key}\")"
   ]
  },
  {
   "cell_type": "code",
   "execution_count": 92,
   "metadata": {
    "execution": {
     "iopub.execute_input": "2025-06-13T07:21:52.312563Z",
     "iopub.status.busy": "2025-06-13T07:21:52.312241Z",
     "iopub.status.idle": "2025-06-13T07:21:52.320439Z",
     "shell.execute_reply": "2025-06-13T07:21:52.319880Z",
     "shell.execute_reply.started": "2025-06-13T07:21:52.312536Z"
    },
    "tags": []
   },
   "outputs": [],
   "source": [
    "star_schema = T.StructType([\n",
    "    T.StructField(\"BirthPos\", T.ArrayType(T.FloatType()), True),\n",
    "    T.StructField(\"BirthVel\", T.ArrayType(T.FloatType()), True),\n",
    "    T.StructField(\"Coordinates\", T.ArrayType(T.DoubleType()), True),\n",
    "    T.StructField(\"GFM_InitialMass\", T.FloatType(), True),\n",
    "    T.StructField(\"GFM_Metallicity\", T.FloatType(), True),\n",
    "    T.StructField(\"GFM_Metals\", T.ArrayType(T.FloatType()), True),\n",
    "    T.StructField(\"GFM_MetalsTagged\", T.ArrayType(T.FloatType()), True),\n",
    "    T.StructField(\"GFM_StellarFormationTime\", T.FloatType(), True),\n",
    "    T.StructField(\"GFM_StellarPhotometrics\", T.ArrayType(T.FloatType()), True),\n",
    "    T.StructField(\"Masses\", T.FloatType(), True),\n",
    "    T.StructField(\"ParticleIDs\", T.LongType(), True),\n",
    "    T.StructField(\"Potential\", T.FloatType(), True),\n",
    "    T.StructField(\"StellarHsml\", T.FloatType(), True),\n",
    "    T.StructField(\"SubfindDMDensity\", T.FloatType(), True),\n",
    "    T.StructField(\"SubfindDensity\", T.FloatType(), True),\n",
    "    T.StructField(\"SubfindHsml\", T.FloatType(), True),\n",
    "    T.StructField(\"SubfindVelDisp\", T.FloatType(), True),\n",
    "    T.StructField(\"Velocities\", T.ArrayType(T.FloatType()), True),\n",
    "])"
   ]
  },
  {
   "cell_type": "code",
   "execution_count": 93,
   "metadata": {
    "execution": {
     "iopub.execute_input": "2025-06-13T07:22:14.304340Z",
     "iopub.status.busy": "2025-06-13T07:22:14.304096Z",
     "iopub.status.idle": "2025-06-13T07:22:14.307224Z",
     "shell.execute_reply": "2025-06-13T07:22:14.306669Z",
     "shell.execute_reply.started": "2025-06-13T07:22:14.304320Z"
    },
    "tags": []
   },
   "outputs": [],
   "source": [
    "star_group = h5f['PartType4']"
   ]
  },
  {
   "cell_type": "code",
   "execution_count": 94,
   "metadata": {
    "execution": {
     "iopub.execute_input": "2025-06-13T07:22:32.262906Z",
     "iopub.status.busy": "2025-06-13T07:22:32.262604Z",
     "iopub.status.idle": "2025-06-13T07:22:36.611672Z",
     "shell.execute_reply": "2025-06-13T07:22:36.611198Z",
     "shell.execute_reply.started": "2025-06-13T07:22:32.262880Z"
    },
    "tags": []
   },
   "outputs": [
    {
     "name": "stdout",
     "output_type": "stream",
     "text": [
      "CPU times: user 1.64 s, sys: 879 ms, total: 2.52 s\n",
      "Wall time: 4.35 s\n"
     ]
    }
   ],
   "source": [
    "%%time\n",
    "# Convert datasets to dictionary of NumPy arrays: this causes some type errors. \n",
    "#Let's use `list`, not `np.array`\n",
    "# Extract and convert each dataset to a list\n",
    "star_data = {\n",
    "    key: star_group[key][:].tolist()\n",
    "    for key in star_group.keys()\n",
    "}"
   ]
  },
  {
   "cell_type": "markdown",
   "metadata": {},
   "source": [
    "### EDA Code Blocks for `star_data`"
   ]
  },
  {
   "cell_type": "code",
   "execution_count": 95,
   "metadata": {
    "execution": {
     "iopub.execute_input": "2025-06-13T07:23:39.123249Z",
     "iopub.status.busy": "2025-06-13T07:23:39.122952Z",
     "iopub.status.idle": "2025-06-13T07:23:39.128351Z",
     "shell.execute_reply": "2025-06-13T07:23:39.127789Z",
     "shell.execute_reply.started": "2025-06-13T07:23:39.123223Z"
    },
    "tags": []
   },
   "outputs": [
    {
     "name": "stdout",
     "output_type": "stream",
     "text": [
      "BirthPos: type=<class 'list'>, shape=1865063\n",
      "BirthVel: type=<class 'list'>, shape=1865063\n",
      "Coordinates: type=<class 'list'>, shape=1865063\n",
      "GFM_InitialMass: type=<class 'list'>, shape=1865063\n",
      "GFM_Metallicity: type=<class 'list'>, shape=1865063\n",
      "GFM_Metals: type=<class 'list'>, shape=1865063\n",
      "GFM_MetalsTagged: type=<class 'list'>, shape=1865063\n",
      "GFM_StellarFormationTime: type=<class 'list'>, shape=1865063\n",
      "GFM_StellarPhotometrics: type=<class 'list'>, shape=1865063\n",
      "Masses: type=<class 'list'>, shape=1865063\n",
      "ParticleIDs: type=<class 'list'>, shape=1865063\n",
      "Potential: type=<class 'list'>, shape=1865063\n",
      "StellarHsml: type=<class 'list'>, shape=1865063\n",
      "SubfindDMDensity: type=<class 'list'>, shape=1865063\n",
      "SubfindDensity: type=<class 'list'>, shape=1865063\n",
      "SubfindHsml: type=<class 'list'>, shape=1865063\n",
      "SubfindVelDisp: type=<class 'list'>, shape=1865063\n",
      "Velocities: type=<class 'list'>, shape=1865063\n"
     ]
    }
   ],
   "source": [
    "# Optional: Confirm structure\n",
    "for key, value in star_data.items():\n",
    "    print(f\"{key}: type={type(value)}, shape={len(value)}\")"
   ]
  },
  {
   "cell_type": "code",
   "execution_count": 96,
   "metadata": {
    "execution": {
     "iopub.execute_input": "2025-06-13T07:23:57.232125Z",
     "iopub.status.busy": "2025-06-13T07:23:57.231825Z",
     "iopub.status.idle": "2025-06-13T07:23:58.082910Z",
     "shell.execute_reply": "2025-06-13T07:23:58.082586Z",
     "shell.execute_reply.started": "2025-06-13T07:23:57.232100Z"
    },
    "tags": []
   },
   "outputs": [
    {
     "name": "stdout",
     "output_type": "stream",
     "text": [
      "CPU times: user 749 ms, sys: 100 ms, total: 849 ms\n",
      "Wall time: 848 ms\n"
     ]
    }
   ],
   "source": [
    "%%time\n",
    "# Turn the dictionary into row-wise tuples\n",
    "star_data_tuples = list(zip(*star_data.values()))"
   ]
  },
  {
   "cell_type": "code",
   "execution_count": 97,
   "metadata": {
    "execution": {
     "iopub.execute_input": "2025-06-13T07:24:28.523837Z",
     "iopub.status.busy": "2025-06-13T07:24:28.523541Z",
     "iopub.status.idle": "2025-06-13T07:24:56.956789Z",
     "shell.execute_reply": "2025-06-13T07:24:56.956320Z",
     "shell.execute_reply.started": "2025-06-13T07:24:28.523812Z"
    },
    "tags": []
   },
   "outputs": [
    {
     "name": "stdout",
     "output_type": "stream",
     "text": [
      "CPU times: user 27.9 s, sys: 356 ms, total: 28.3 s\n",
      "Wall time: 28.4 s\n"
     ]
    }
   ],
   "source": [
    "%%time\n",
    "stardf = spark.createDataFrame(star_data_tuples, schema=star_schema)"
   ]
  },
  {
   "cell_type": "code",
   "execution_count": 98,
   "metadata": {
    "execution": {
     "iopub.execute_input": "2025-06-13T07:25:02.924933Z",
     "iopub.status.busy": "2025-06-13T07:25:02.924632Z",
     "iopub.status.idle": "2025-06-13T07:25:02.928616Z",
     "shell.execute_reply": "2025-06-13T07:25:02.928004Z",
     "shell.execute_reply.started": "2025-06-13T07:25:02.924907Z"
    },
    "tags": []
   },
   "outputs": [
    {
     "name": "stdout",
     "output_type": "stream",
     "text": [
      "root\n",
      " |-- BirthPos: array (nullable = true)\n",
      " |    |-- element: float (containsNull = true)\n",
      " |-- BirthVel: array (nullable = true)\n",
      " |    |-- element: float (containsNull = true)\n",
      " |-- Coordinates: array (nullable = true)\n",
      " |    |-- element: double (containsNull = true)\n",
      " |-- GFM_InitialMass: float (nullable = true)\n",
      " |-- GFM_Metallicity: float (nullable = true)\n",
      " |-- GFM_Metals: array (nullable = true)\n",
      " |    |-- element: float (containsNull = true)\n",
      " |-- GFM_MetalsTagged: array (nullable = true)\n",
      " |    |-- element: float (containsNull = true)\n",
      " |-- GFM_StellarFormationTime: float (nullable = true)\n",
      " |-- GFM_StellarPhotometrics: array (nullable = true)\n",
      " |    |-- element: float (containsNull = true)\n",
      " |-- Masses: float (nullable = true)\n",
      " |-- ParticleIDs: long (nullable = true)\n",
      " |-- Potential: float (nullable = true)\n",
      " |-- StellarHsml: float (nullable = true)\n",
      " |-- SubfindDMDensity: float (nullable = true)\n",
      " |-- SubfindDensity: float (nullable = true)\n",
      " |-- SubfindHsml: float (nullable = true)\n",
      " |-- SubfindVelDisp: float (nullable = true)\n",
      " |-- Velocities: array (nullable = true)\n",
      " |    |-- element: float (containsNull = true)\n",
      "\n"
     ]
    }
   ],
   "source": [
    "stardf.printSchema()"
   ]
  },
  {
   "cell_type": "code",
   "execution_count": 99,
   "metadata": {
    "execution": {
     "iopub.execute_input": "2025-06-13T07:25:38.126390Z",
     "iopub.status.busy": "2025-06-13T07:25:38.126090Z",
     "iopub.status.idle": "2025-06-13T07:25:38.579977Z",
     "shell.execute_reply": "2025-06-13T07:25:38.579671Z",
     "shell.execute_reply.started": "2025-06-13T07:25:38.126364Z"
    },
    "tags": []
   },
   "outputs": [
    {
     "name": "stdout",
     "output_type": "stream",
     "text": [
      "                                                                      Row_0  \\\n",
      "BirthPos                    [7212.537109375, 24320.583984375, 21248.703125]   \n",
      "BirthVel                  [0.8936818838119507, 535.03564453125, 459.4967...   \n",
      "Coordinates               [7311.795642166191, 24565.493451227343, 21472....   \n",
      "GFM_InitialMass                                                    0.000007   \n",
      "GFM_Metallicity                                                    0.031656   \n",
      "GFM_Metals                [0.697553813457489, 0.27079033851623535, 0.003...   \n",
      "GFM_MetalsTagged          [0.001445992267690599, 0.023036668077111244, 0...   \n",
      "GFM_StellarFormationTime                                           0.732088   \n",
      "GFM_StellarPhotometrics   [-6.187445163726807, -6.531508445739746, -7.29...   \n",
      "Masses                                                             0.000005   \n",
      "ParticleIDs                                                    147599195192   \n",
      "Potential                                                        -5009806.5   \n",
      "StellarHsml                                                         0.00711   \n",
      "SubfindDMDensity                                                   0.146282   \n",
      "SubfindDensity                                                   287.352112   \n",
      "SubfindHsml                                                         0.14164   \n",
      "SubfindVelDisp                                                  1623.518799   \n",
      "Velocities                [23.203147888183594, -10.76630973815918, -80.9...   \n",
      "\n",
      "                                                                      Row_1  \\\n",
      "BirthPos                  [7173.23486328125, 24461.173828125, 21382.7578...   \n",
      "BirthVel                  [335.9574279785156, -61.731109619140625, 384.3...   \n",
      "Coordinates               [7311.7392564583615, 24565.491983484088, 21472...   \n",
      "GFM_InitialMass                                                    0.000007   \n",
      "GFM_Metallicity                                                    0.129774   \n",
      "GFM_Metals                [0.5267928838729858, 0.34343263506889343, 0.01...   \n",
      "GFM_MetalsTagged          [0.0027863418217748404, 0.10072875767946243, 0...   \n",
      "GFM_StellarFormationTime                                           0.762171   \n",
      "GFM_StellarPhotometrics   [-7.041128635406494, -7.327481746673584, -7.99...   \n",
      "Masses                                                             0.000005   \n",
      "ParticleIDs                                                    148585372157   \n",
      "Potential                                                        -5010200.5   \n",
      "StellarHsml                                                        0.006548   \n",
      "SubfindDMDensity                                                   0.151883   \n",
      "SubfindDensity                                                   241.113708   \n",
      "SubfindHsml                                                        0.141635   \n",
      "SubfindVelDisp                                                  1640.352783   \n",
      "Velocities                [110.8862533569336, -34.35214614868164, -30.50...   \n",
      "\n",
      "                                                                      Row_2  \\\n",
      "BirthPos                    [7301.6826171875, 24231.609375, 21129.64453125]   \n",
      "BirthVel                  [-293.2337646484375, -250.11236572265625, 71.5...   \n",
      "Coordinates               [7311.795766620518, 24565.479333754345, 21472....   \n",
      "GFM_InitialMass                                                    0.000007   \n",
      "GFM_Metallicity                                                    0.050774   \n",
      "GFM_Metals                [0.6630764007568359, 0.28614938259124756, 0.00...   \n",
      "GFM_MetalsTagged          [0.0012260697549208999, 0.04272766411304474, 0...   \n",
      "GFM_StellarFormationTime                                           0.680838   \n",
      "GFM_StellarPhotometrics   [-5.7916035652160645, -6.12381649017334, -6.91...   \n",
      "Masses                                                             0.000004   \n",
      "ParticleIDs                                                    145146617422   \n",
      "Potential                                                        -5009716.5   \n",
      "StellarHsml                                                        0.007984   \n",
      "SubfindDMDensity                                                   0.123589   \n",
      "SubfindDensity                                                   271.220428   \n",
      "SubfindHsml                                                        0.141635   \n",
      "SubfindVelDisp                                                  1644.731079   \n",
      "Velocities                [-12.707058906555176, -64.0886001586914, -175....   \n",
      "\n",
      "                                                                      Row_3  \\\n",
      "BirthPos                  [7199.63330078125, 24324.712890625, 21245.7382...   \n",
      "BirthVel                  [275.9696350097656, 73.12528228759766, 620.895...   \n",
      "Coordinates               [7311.780612122464, 24565.530554600035, 21472....   \n",
      "GFM_InitialMass                                                    0.000009   \n",
      "GFM_Metallicity                                                    0.081206   \n",
      "GFM_Metals                [0.6114253997802734, 0.30736809968948364, 0.01...   \n",
      "GFM_MetalsTagged          [0.003754175966605544, 0.045206960290670395, 0...   \n",
      "GFM_StellarFormationTime                                           0.735016   \n",
      "GFM_StellarPhotometrics   [-6.815382957458496, -7.074103355407715, -7.77...   \n",
      "Masses                                                             0.000006   \n",
      "ParticleIDs                                                    147647266498   \n",
      "Potential                                                        -5009807.0   \n",
      "StellarHsml                                                        0.008455   \n",
      "SubfindDMDensity                                                   0.202038   \n",
      "SubfindDensity                                                   247.868774   \n",
      "SubfindHsml                                                        0.141635   \n",
      "SubfindVelDisp                                                   1646.64978   \n",
      "Velocities                [146.1621551513672, 55.02280807495117, -64.754...   \n",
      "\n",
      "                                                                      Row_4  \n",
      "BirthPos                  [7176.51513671875, 24396.357421875, 21308.0058...  \n",
      "BirthVel                  [3.4876835346221924, -301.1095886230469, 354.3...  \n",
      "Coordinates               [7311.725834311267, 24565.50914101621, 21472.8...  \n",
      "GFM_InitialMass                                                    0.000007  \n",
      "GFM_Metallicity                                                    0.066987  \n",
      "GFM_Metals                [0.6334735751152039, 0.29953962564468384, 0.00...  \n",
      "GFM_MetalsTagged          [0.0024230689741671085, 0.04694630950689316, 0...  \n",
      "GFM_StellarFormationTime                                           0.747715  \n",
      "GFM_StellarPhotometrics   [-6.663822650909424, -6.911202907562256, -7.58...  \n",
      "Masses                                                             0.000005  \n",
      "ParticleIDs                                                    147774080991  \n",
      "Potential                                                        -5005917.5  \n",
      "StellarHsml                                                        0.008039  \n",
      "SubfindDMDensity                                                   0.171096  \n",
      "SubfindDensity                                                   176.746353  \n",
      "SubfindHsml                                                        0.135041  \n",
      "SubfindVelDisp                                                  1642.902588  \n",
      "Velocities                [116.50733947753906, -16.60906219482422, -44.4...  \n",
      "CPU times: user 6.81 ms, sys: 3.76 ms, total: 10.6 ms\n",
      "Wall time: 450 ms\n"
     ]
    }
   ],
   "source": [
    "%%time\n",
    "rows = stardf.take(5)  # Returns list of Row objects\n",
    "rows_dict = [row.asDict() for row in rows]\n",
    "df = pd.DataFrame(rows_dict)\n",
    "\n",
    "# Transpose and label\n",
    "df_transposed = df.transpose()\n",
    "df_transposed.columns = [f\"Row_{i}\" for i in range(len(rows))]\n",
    "print(df_transposed)"
   ]
  },
  {
   "cell_type": "markdown",
   "metadata": {},
   "source": [
    "### All-in-one Code Block for `star_data`"
   ]
  },
  {
   "cell_type": "code",
   "execution_count": 100,
   "metadata": {
    "execution": {
     "iopub.execute_input": "2025-06-13T07:26:35.138329Z",
     "iopub.status.busy": "2025-06-13T07:26:35.138033Z",
     "iopub.status.idle": "2025-06-13T07:26:35.142184Z",
     "shell.execute_reply": "2025-06-13T07:26:35.141629Z",
     "shell.execute_reply.started": "2025-06-13T07:26:35.138304Z"
    },
    "tags": []
   },
   "outputs": [
    {
     "data": {
      "text/plain": [
       "'hdfs://spark00:54310/common/data/illustris/tng50/snapshot84/star/'"
      ]
     },
     "execution_count": 100,
     "metadata": {},
     "output_type": "execute_result"
    }
   ],
   "source": [
    "hdfsheader + hdfsstarpath"
   ]
  },
  {
   "cell_type": "code",
   "execution_count": 101,
   "metadata": {
    "execution": {
     "iopub.execute_input": "2025-06-13T07:26:48.946104Z",
     "iopub.status.busy": "2025-06-13T07:26:48.945808Z",
     "iopub.status.idle": "2025-06-13T07:26:48.948895Z",
     "shell.execute_reply": "2025-06-13T07:26:48.948341Z",
     "shell.execute_reply.started": "2025-06-13T07:26:48.946079Z"
    },
    "tags": []
   },
   "outputs": [],
   "source": [
    "starnametail = '_star.parquet.snappy'"
   ]
  },
  {
   "cell_type": "code",
   "execution_count": 103,
   "metadata": {
    "execution": {
     "iopub.execute_input": "2025-06-13T07:27:10.629926Z",
     "iopub.status.busy": "2025-06-13T07:27:10.629627Z",
     "iopub.status.idle": "2025-06-13T07:27:10.633295Z",
     "shell.execute_reply": "2025-06-13T07:27:10.632740Z",
     "shell.execute_reply.started": "2025-06-13T07:27:10.629899Z"
    },
    "tags": []
   },
   "outputs": [
    {
     "name": "stdout",
     "output_type": "stream",
     "text": [
      "hdfs://spark00:54310/common/data/illustris/tng50/snapshot84/star/snap_084.0_star.parquet.snappy\n"
     ]
    }
   ],
   "source": [
    "outstarname = hdfsheader + hdfsstarpath + parsedname + starnametail\n",
    "print(outstarname)"
   ]
  },
  {
   "cell_type": "code",
   "execution_count": 104,
   "metadata": {
    "execution": {
     "iopub.execute_input": "2025-06-13T07:27:47.899532Z",
     "iopub.status.busy": "2025-06-13T07:27:47.899240Z",
     "iopub.status.idle": "2025-06-13T07:28:06.094386Z",
     "shell.execute_reply": "2025-06-13T07:28:06.093767Z",
     "shell.execute_reply.started": "2025-06-13T07:27:47.899507Z"
    },
    "tags": []
   },
   "outputs": [
    {
     "name": "stdout",
     "output_type": "stream",
     "text": [
      "CPU times: user 7.05 ms, sys: 4.15 ms, total: 11.2 ms\n",
      "Wall time: 18.2 s\n"
     ]
    }
   ],
   "source": [
    "%%time\n",
    "stardf.write.option(\"compression\", \"snappy\") \\\n",
    "    .mode(\"overwrite\") \\\n",
    "    .save(outstarname)"
   ]
  },
  {
   "cell_type": "markdown",
   "metadata": {},
   "source": [
    "## `BH` Particles"
   ]
  },
  {
   "cell_type": "code",
   "execution_count": 105,
   "metadata": {
    "execution": {
     "iopub.execute_input": "2025-06-13T07:28:58.689362Z",
     "iopub.status.busy": "2025-06-13T07:28:58.689055Z",
     "iopub.status.idle": "2025-06-13T07:28:58.699896Z",
     "shell.execute_reply": "2025-06-13T07:28:58.699613Z",
     "shell.execute_reply.started": "2025-06-13T07:28:58.689334Z"
    },
    "tags": []
   },
   "outputs": [
    {
     "name": "stdout",
     "output_type": "stream",
     "text": [
      "Dataset: BH_BPressure, dtype: float32, shape: (8,)\n",
      "Dataset: BH_CumEgyInjection_QM, dtype: float32, shape: (8,)\n",
      "Dataset: BH_CumEgyInjection_RM, dtype: float32, shape: (8,)\n",
      "Dataset: BH_CumMassGrowth_QM, dtype: float32, shape: (8,)\n",
      "Dataset: BH_CumMassGrowth_RM, dtype: float32, shape: (8,)\n",
      "Dataset: BH_Density, dtype: float32, shape: (8,)\n",
      "Dataset: BH_HostHaloMass, dtype: float32, shape: (8,)\n",
      "Dataset: BH_Hsml, dtype: float32, shape: (8,)\n",
      "Dataset: BH_Mass, dtype: float32, shape: (8,)\n",
      "Dataset: BH_Mdot, dtype: float32, shape: (8,)\n",
      "Dataset: BH_MdotBondi, dtype: float32, shape: (8,)\n",
      "Dataset: BH_MdotEddington, dtype: float32, shape: (8,)\n",
      "Dataset: BH_Pressure, dtype: float32, shape: (8,)\n",
      "Dataset: BH_Progs, dtype: uint32, shape: (8,)\n",
      "Dataset: BH_U, dtype: float32, shape: (8,)\n",
      "Dataset: Coordinates, dtype: float64, shape: (8, 3)\n",
      "Dataset: Masses, dtype: float32, shape: (8,)\n",
      "Dataset: ParticleIDs, dtype: uint64, shape: (8,)\n",
      "Dataset: Potential, dtype: float32, shape: (8,)\n",
      "Dataset: SubfindDMDensity, dtype: float32, shape: (8,)\n",
      "Dataset: SubfindDensity, dtype: float32, shape: (8,)\n",
      "Dataset: SubfindHsml, dtype: float32, shape: (8,)\n",
      "Dataset: SubfindVelDisp, dtype: float32, shape: (8,)\n",
      "Dataset: Velocities, dtype: float32, shape: (8, 3)\n"
     ]
    }
   ],
   "source": [
    "for key in h5f['PartType5'].keys():\n",
    "    item = h5f['PartType5'][key]\n",
    "    \n",
    "    if isinstance(item, h5py.Group):  # Check if it's a group\n",
    "        print(f\"Group: {key}\")\n",
    "    elif isinstance(item, h5py.Dataset):  # Check if it's a dataset\n",
    "        print(f\"Dataset: {key}, dtype: {item.dtype}, shape: {item.shape}\")\n",
    "    else:\n",
    "        print(f\"Unknown item: {key}\")"
   ]
  },
  {
   "cell_type": "code",
   "execution_count": 106,
   "metadata": {
    "execution": {
     "iopub.execute_input": "2025-06-13T07:29:44.886244Z",
     "iopub.status.busy": "2025-06-13T07:29:44.885945Z",
     "iopub.status.idle": "2025-06-13T07:29:44.894880Z",
     "shell.execute_reply": "2025-06-13T07:29:44.894606Z",
     "shell.execute_reply.started": "2025-06-13T07:29:44.886217Z"
    },
    "tags": []
   },
   "outputs": [],
   "source": [
    "bh_schema = T.StructType([\n",
    "    T.StructField(\"BH_BPressure\", T.FloatType(), True),\n",
    "    T.StructField(\"BH_CumEgyInjection_QM\", T.FloatType(), True),\n",
    "    T.StructField(\"BH_CumEgyInjection_RM\", T.FloatType(), True),\n",
    "    T.StructField(\"BH_CumMassGrowth_QM\", T.FloatType(), True),\n",
    "    T.StructField(\"BH_CumMassGrowth_RM\", T.FloatType(), True),\n",
    "    T.StructField(\"BH_Density\", T.FloatType(), True),\n",
    "    T.StructField(\"BH_HostHaloMass\", T.FloatType(), True),\n",
    "    T.StructField(\"BH_Hsml\", T.FloatType(), True),\n",
    "    T.StructField(\"BH_Mass\", T.FloatType(), True),\n",
    "    T.StructField(\"BH_Mdot\", T.FloatType(), True),\n",
    "    T.StructField(\"BH_MdotBondi\", T.FloatType(), True),\n",
    "    T.StructField(\"BH_MdotEddington\", T.FloatType(), True),\n",
    "    T.StructField(\"BH_Pressure\", T.FloatType(), True),\n",
    "    T.StructField(\"BH_Progs\", T.IntegerType(), True),  # uint32 → safe mapping to IntegerType\n",
    "    T.StructField(\"BH_U\", T.FloatType(), True),\n",
    "    T.StructField(\"Coordinates\", T.ArrayType(T.DoubleType()), True),\n",
    "    T.StructField(\"Masses\", T.FloatType(), True),\n",
    "    T.StructField(\"ParticleIDs\", T.LongType(), True),\n",
    "    T.StructField(\"Potential\", T.FloatType(), True),\n",
    "    T.StructField(\"SubfindDMDensity\", T.FloatType(), True),\n",
    "    T.StructField(\"SubfindDensity\", T.FloatType(), True),\n",
    "    T.StructField(\"SubfindHsml\", T.FloatType(), True),\n",
    "    T.StructField(\"SubfindVelDisp\", T.FloatType(), True),\n",
    "    T.StructField(\"Velocities\", T.ArrayType(T.FloatType()), True),\n",
    "])"
   ]
  },
  {
   "cell_type": "code",
   "execution_count": 107,
   "metadata": {
    "execution": {
     "iopub.execute_input": "2025-06-13T07:30:02.046576Z",
     "iopub.status.busy": "2025-06-13T07:30:02.046293Z",
     "iopub.status.idle": "2025-06-13T07:30:02.049370Z",
     "shell.execute_reply": "2025-06-13T07:30:02.048840Z",
     "shell.execute_reply.started": "2025-06-13T07:30:02.046552Z"
    },
    "tags": []
   },
   "outputs": [],
   "source": [
    "bh_group = h5f['PartType5']"
   ]
  },
  {
   "cell_type": "code",
   "execution_count": 108,
   "metadata": {
    "execution": {
     "iopub.execute_input": "2025-06-13T07:30:16.852811Z",
     "iopub.status.busy": "2025-06-13T07:30:16.852493Z",
     "iopub.status.idle": "2025-06-13T07:30:16.861067Z",
     "shell.execute_reply": "2025-06-13T07:30:16.860419Z",
     "shell.execute_reply.started": "2025-06-13T07:30:16.852786Z"
    },
    "tags": []
   },
   "outputs": [
    {
     "name": "stdout",
     "output_type": "stream",
     "text": [
      "CPU times: user 1.71 ms, sys: 3.37 ms, total: 5.08 ms\n",
      "Wall time: 4.54 ms\n"
     ]
    }
   ],
   "source": [
    "%%time\n",
    "# Convert datasets to dictionary of NumPy arrays: this causes some type errors. \n",
    "#Let's use `list`, not `np.array`\n",
    "# Extract and convert each dataset to a list\n",
    "bh_data = {\n",
    "    key: bh_group[key][:].tolist()\n",
    "    for key in bh_group.keys()\n",
    "}"
   ]
  },
  {
   "cell_type": "markdown",
   "metadata": {
    "execution": {
     "iopub.execute_input": "2025-06-13T07:30:36.585349Z",
     "iopub.status.busy": "2025-06-13T07:30:36.585051Z",
     "iopub.status.idle": "2025-06-13T07:30:36.587975Z",
     "shell.execute_reply": "2025-06-13T07:30:36.587375Z",
     "shell.execute_reply.started": "2025-06-13T07:30:36.585323Z"
    },
    "tags": []
   },
   "source": [
    "### EDA Code Blocks for `bh_data`"
   ]
  },
  {
   "cell_type": "code",
   "execution_count": 110,
   "metadata": {
    "execution": {
     "iopub.execute_input": "2025-06-13T07:30:55.340288Z",
     "iopub.status.busy": "2025-06-13T07:30:55.339987Z",
     "iopub.status.idle": "2025-06-13T07:30:55.345880Z",
     "shell.execute_reply": "2025-06-13T07:30:55.345275Z",
     "shell.execute_reply.started": "2025-06-13T07:30:55.340263Z"
    },
    "tags": []
   },
   "outputs": [
    {
     "name": "stdout",
     "output_type": "stream",
     "text": [
      "BH_BPressure: type=<class 'list'>, shape=8\n",
      "BH_CumEgyInjection_QM: type=<class 'list'>, shape=8\n",
      "BH_CumEgyInjection_RM: type=<class 'list'>, shape=8\n",
      "BH_CumMassGrowth_QM: type=<class 'list'>, shape=8\n",
      "BH_CumMassGrowth_RM: type=<class 'list'>, shape=8\n",
      "BH_Density: type=<class 'list'>, shape=8\n",
      "BH_HostHaloMass: type=<class 'list'>, shape=8\n",
      "BH_Hsml: type=<class 'list'>, shape=8\n",
      "BH_Mass: type=<class 'list'>, shape=8\n",
      "BH_Mdot: type=<class 'list'>, shape=8\n",
      "BH_MdotBondi: type=<class 'list'>, shape=8\n",
      "BH_MdotEddington: type=<class 'list'>, shape=8\n",
      "BH_Pressure: type=<class 'list'>, shape=8\n",
      "BH_Progs: type=<class 'list'>, shape=8\n",
      "BH_U: type=<class 'list'>, shape=8\n",
      "Coordinates: type=<class 'list'>, shape=8\n",
      "Masses: type=<class 'list'>, shape=8\n",
      "ParticleIDs: type=<class 'list'>, shape=8\n",
      "Potential: type=<class 'list'>, shape=8\n",
      "SubfindDMDensity: type=<class 'list'>, shape=8\n",
      "SubfindDensity: type=<class 'list'>, shape=8\n",
      "SubfindHsml: type=<class 'list'>, shape=8\n",
      "SubfindVelDisp: type=<class 'list'>, shape=8\n",
      "Velocities: type=<class 'list'>, shape=8\n"
     ]
    }
   ],
   "source": [
    "# Optional: Confirm structure\n",
    "for key, value in bh_data.items():\n",
    "    print(f\"{key}: type={type(value)}, shape={len(value)}\")"
   ]
  },
  {
   "cell_type": "code",
   "execution_count": 111,
   "metadata": {
    "execution": {
     "iopub.execute_input": "2025-06-13T07:31:10.399760Z",
     "iopub.status.busy": "2025-06-13T07:31:10.399472Z",
     "iopub.status.idle": "2025-06-13T07:31:10.403308Z",
     "shell.execute_reply": "2025-06-13T07:31:10.402796Z",
     "shell.execute_reply.started": "2025-06-13T07:31:10.399735Z"
    },
    "tags": []
   },
   "outputs": [
    {
     "name": "stdout",
     "output_type": "stream",
     "text": [
      "CPU times: user 13 µs, sys: 0 ns, total: 13 µs\n",
      "Wall time: 15 µs\n"
     ]
    }
   ],
   "source": [
    "%%time\n",
    "# Turn the dictionary into row-wise tuples\n",
    "bh_data_tuples = list(zip(*bh_data.values()))"
   ]
  },
  {
   "cell_type": "code",
   "execution_count": 112,
   "metadata": {
    "execution": {
     "iopub.execute_input": "2025-06-13T07:31:26.597017Z",
     "iopub.status.busy": "2025-06-13T07:31:26.596720Z",
     "iopub.status.idle": "2025-06-13T07:31:26.612811Z",
     "shell.execute_reply": "2025-06-13T07:31:26.612337Z",
     "shell.execute_reply.started": "2025-06-13T07:31:26.596992Z"
    },
    "tags": []
   },
   "outputs": [
    {
     "name": "stdout",
     "output_type": "stream",
     "text": [
      "CPU times: user 3.8 ms, sys: 0 ns, total: 3.8 ms\n",
      "Wall time: 12.5 ms\n"
     ]
    }
   ],
   "source": [
    "%%time\n",
    "bhdf = spark.createDataFrame(bh_data_tuples, schema=bh_schema)"
   ]
  },
  {
   "cell_type": "code",
   "execution_count": 113,
   "metadata": {
    "execution": {
     "iopub.execute_input": "2025-06-13T07:31:36.605656Z",
     "iopub.status.busy": "2025-06-13T07:31:36.605352Z",
     "iopub.status.idle": "2025-06-13T07:31:36.609411Z",
     "shell.execute_reply": "2025-06-13T07:31:36.608821Z",
     "shell.execute_reply.started": "2025-06-13T07:31:36.605629Z"
    },
    "tags": []
   },
   "outputs": [
    {
     "name": "stdout",
     "output_type": "stream",
     "text": [
      "root\n",
      " |-- BH_BPressure: float (nullable = true)\n",
      " |-- BH_CumEgyInjection_QM: float (nullable = true)\n",
      " |-- BH_CumEgyInjection_RM: float (nullable = true)\n",
      " |-- BH_CumMassGrowth_QM: float (nullable = true)\n",
      " |-- BH_CumMassGrowth_RM: float (nullable = true)\n",
      " |-- BH_Density: float (nullable = true)\n",
      " |-- BH_HostHaloMass: float (nullable = true)\n",
      " |-- BH_Hsml: float (nullable = true)\n",
      " |-- BH_Mass: float (nullable = true)\n",
      " |-- BH_Mdot: float (nullable = true)\n",
      " |-- BH_MdotBondi: float (nullable = true)\n",
      " |-- BH_MdotEddington: float (nullable = true)\n",
      " |-- BH_Pressure: float (nullable = true)\n",
      " |-- BH_Progs: integer (nullable = true)\n",
      " |-- BH_U: float (nullable = true)\n",
      " |-- Coordinates: array (nullable = true)\n",
      " |    |-- element: double (containsNull = true)\n",
      " |-- Masses: float (nullable = true)\n",
      " |-- ParticleIDs: long (nullable = true)\n",
      " |-- Potential: float (nullable = true)\n",
      " |-- SubfindDMDensity: float (nullable = true)\n",
      " |-- SubfindDensity: float (nullable = true)\n",
      " |-- SubfindHsml: float (nullable = true)\n",
      " |-- SubfindVelDisp: float (nullable = true)\n",
      " |-- Velocities: array (nullable = true)\n",
      " |    |-- element: float (containsNull = true)\n",
      "\n"
     ]
    }
   ],
   "source": [
    "bhdf.printSchema()"
   ]
  },
  {
   "cell_type": "code",
   "execution_count": 114,
   "metadata": {
    "execution": {
     "iopub.execute_input": "2025-06-13T07:31:48.634016Z",
     "iopub.status.busy": "2025-06-13T07:31:48.633698Z",
     "iopub.status.idle": "2025-06-13T07:31:49.160770Z",
     "shell.execute_reply": "2025-06-13T07:31:49.160372Z",
     "shell.execute_reply.started": "2025-06-13T07:31:48.633990Z"
    },
    "tags": []
   },
   "outputs": [
    {
     "name": "stdout",
     "output_type": "stream",
     "text": [
      "                                                                   Row_0  \\\n",
      "BH_BPressure                                                    0.625054   \n",
      "BH_CumEgyInjection_QM                                        560238592.0   \n",
      "BH_CumEgyInjection_RM                                        412865024.0   \n",
      "BH_CumMassGrowth_QM                                              0.24934   \n",
      "BH_CumMassGrowth_RM                                             0.018375   \n",
      "BH_Density                                                      0.000151   \n",
      "BH_HostHaloMass                                             14599.547852   \n",
      "BH_Hsml                                                         1.789572   \n",
      "BH_Mass                                                         0.277315   \n",
      "BH_Mdot                                                         0.001269   \n",
      "BH_MdotBondi                                                    0.001269   \n",
      "BH_MdotEddington                                                4.442489   \n",
      "BH_Pressure                                                    45.366047   \n",
      "BH_Progs                                                             120   \n",
      "BH_U                                                        450839.09375   \n",
      "Coordinates            [7311.775543401514, 24565.49626794, 21472.8556...   \n",
      "Masses                                                          0.277315   \n",
      "ParticleIDs                                                 143261867783   \n",
      "Potential                                                     -3609010.0   \n",
      "SubfindDMDensity                                                0.135845   \n",
      "SubfindDensity                                                343.677521   \n",
      "SubfindHsml                                                     0.136737   \n",
      "SubfindVelDisp                                                 1627.2052   \n",
      "Velocities             [-119.18175506591797, -181.9625244140625, -332...   \n",
      "\n",
      "                                                                   Row_1  \\\n",
      "BH_BPressure                                                    0.287012   \n",
      "BH_CumEgyInjection_QM                                        535311744.0   \n",
      "BH_CumEgyInjection_RM                                        340860288.0   \n",
      "BH_CumMassGrowth_QM                                             0.238246   \n",
      "BH_CumMassGrowth_RM                                              0.01517   \n",
      "BH_Density                                                      0.000134   \n",
      "BH_HostHaloMass                                             14599.547852   \n",
      "BH_Hsml                                                         1.845266   \n",
      "BH_Mass                                                         0.261976   \n",
      "BH_Mdot                                                         0.000215   \n",
      "BH_MdotBondi                                                    0.000215   \n",
      "BH_MdotEddington                                                 4.19677   \n",
      "BH_Pressure                                                   113.792465   \n",
      "BH_Progs                                                             107   \n",
      "BH_U                                                         1277582.625   \n",
      "Coordinates            [7267.652414051824, 24416.800348824076, 21295....   \n",
      "Masses                                                          0.261976   \n",
      "ParticleIDs                                                 145256674542   \n",
      "Potential                                                    -3533330.25   \n",
      "SubfindDMDensity                                                0.386637   \n",
      "SubfindDensity                                                862.721436   \n",
      "SubfindHsml                                                     0.092111   \n",
      "SubfindVelDisp                                               1236.339478   \n",
      "Velocities             [245.171142578125, 349.23101806640625, 261.929...   \n",
      "\n",
      "                                                                   Row_2  \\\n",
      "BH_BPressure                                                    0.045182   \n",
      "BH_CumEgyInjection_QM                                        114405168.0   \n",
      "BH_CumEgyInjection_RM                                         34791216.0   \n",
      "BH_CumMassGrowth_QM                                             0.050917   \n",
      "BH_CumMassGrowth_RM                                             0.001548   \n",
      "BH_Density                                                      0.000018   \n",
      "BH_HostHaloMass                                             14599.547852   \n",
      "BH_Hsml                                                         3.546919   \n",
      "BH_Mass                                                         0.053586   \n",
      "BH_Mdot                                                         0.000033   \n",
      "BH_MdotBondi                                                    0.000033   \n",
      "BH_MdotEddington                                                0.858423   \n",
      "BH_Pressure                                                     1.580432   \n",
      "BH_Progs                                                              14   \n",
      "BH_U                                                        134905.84375   \n",
      "Coordinates            [6857.889524307357, 25037.43448197164, 21662.1...   \n",
      "Masses                                                          0.053586   \n",
      "ParticleIDs                                                 113665205790   \n",
      "Potential                                                   -1651027.125   \n",
      "SubfindDMDensity                                                0.364423   \n",
      "SubfindDensity                                                102.093872   \n",
      "SubfindHsml                                                     0.112409   \n",
      "SubfindVelDisp                                                 812.45343   \n",
      "Velocities             [-738.4325561523438, 461.02630615234375, -295....   \n",
      "\n",
      "                                                                   Row_3  \\\n",
      "BH_BPressure                                                    0.002791   \n",
      "BH_CumEgyInjection_QM                                         44038812.0   \n",
      "BH_CumEgyInjection_RM                                          3761952.5   \n",
      "BH_CumMassGrowth_QM                                               0.0196   \n",
      "BH_CumMassGrowth_RM                                             0.000167   \n",
      "BH_Density                                                      0.000002   \n",
      "BH_HostHaloMass                                             14599.547852   \n",
      "BH_Hsml                                                         7.965199   \n",
      "BH_Mass                                                         0.020087   \n",
      "BH_Mdot                                                              0.0   \n",
      "BH_MdotBondi                                                         0.0   \n",
      "BH_MdotEddington                                                0.321793   \n",
      "BH_Pressure                                                       0.7125   \n",
      "BH_Progs                                                               4   \n",
      "BH_U                                                           623754.25   \n",
      "Coordinates            [7495.846088152184, 24910.358595728754, 21666....   \n",
      "Masses                                                          0.020087   \n",
      "ParticleIDs                                                 113289550800   \n",
      "Potential                                                   -1557955.875   \n",
      "SubfindDMDensity                                                0.267443   \n",
      "SubfindDensity                                                 28.686211   \n",
      "SubfindHsml                                                     0.131487   \n",
      "SubfindVelDisp                                                563.358276   \n",
      "Velocities             [369.6689147949219, 1120.5093994140625, -769.4...   \n",
      "\n",
      "                                                                   Row_4  \n",
      "BH_BPressure                                                    0.010143  \n",
      "BH_CumEgyInjection_QM                                         49100920.0  \n",
      "BH_CumEgyInjection_RM                                          5384107.0  \n",
      "BH_CumMassGrowth_QM                                             0.021853  \n",
      "BH_CumMassGrowth_RM                                              0.00024  \n",
      "BH_Density                                                      0.000004  \n",
      "BH_HostHaloMass                                             14599.547852  \n",
      "BH_Hsml                                                         6.004218  \n",
      "BH_Mass                                                         0.022332  \n",
      "BH_Mdot                                                              0.0  \n",
      "BH_MdotBondi                                                         0.0  \n",
      "BH_MdotEddington                                                0.357759  \n",
      "BH_Pressure                                                     1.755788  \n",
      "BH_Progs                                                               3  \n",
      "BH_U                                                          658903.875  \n",
      "Coordinates            [7270.118542777386, 24616.470662132477, 21684....  \n",
      "Masses                                                          0.022332  \n",
      "ParticleIDs                                                 112185433175  \n",
      "Potential                                                   -1878363.125  \n",
      "SubfindDMDensity                                                0.143597  \n",
      "SubfindDensity                                                 24.301052  \n",
      "SubfindHsml                                                     0.144711  \n",
      "SubfindVelDisp                                                649.577454  \n",
      "Velocities             [438.8935852050781, 183.19271850585938, -910.0...  \n",
      "CPU times: user 11.4 ms, sys: 335 µs, total: 11.7 ms\n",
      "Wall time: 523 ms\n"
     ]
    }
   ],
   "source": [
    "%%time\n",
    "rows = bhdf.take(5)  # Returns list of Row objects\n",
    "rows_dict = [row.asDict() for row in rows]\n",
    "df = pd.DataFrame(rows_dict)\n",
    "\n",
    "# Transpose and label\n",
    "df_transposed = df.transpose()\n",
    "df_transposed.columns = [f\"Row_{i}\" for i in range(len(rows))]\n",
    "print(df_transposed)"
   ]
  },
  {
   "cell_type": "markdown",
   "metadata": {},
   "source": [
    "### All-in-one Code Block for `bh_data`"
   ]
  },
  {
   "cell_type": "code",
   "execution_count": 115,
   "metadata": {
    "execution": {
     "iopub.execute_input": "2025-06-13T07:32:56.708215Z",
     "iopub.status.busy": "2025-06-13T07:32:56.707919Z",
     "iopub.status.idle": "2025-06-13T07:32:56.712046Z",
     "shell.execute_reply": "2025-06-13T07:32:56.711468Z",
     "shell.execute_reply.started": "2025-06-13T07:32:56.708190Z"
    },
    "tags": []
   },
   "outputs": [
    {
     "data": {
      "text/plain": [
       "'hdfs://spark00:54310/common/data/illustris/tng50/snapshot84/bh/'"
      ]
     },
     "execution_count": 115,
     "metadata": {},
     "output_type": "execute_result"
    }
   ],
   "source": [
    "hdfsheader + hdfsbhpath"
   ]
  },
  {
   "cell_type": "code",
   "execution_count": 116,
   "metadata": {
    "execution": {
     "iopub.execute_input": "2025-06-13T07:33:09.393418Z",
     "iopub.status.busy": "2025-06-13T07:33:09.393124Z",
     "iopub.status.idle": "2025-06-13T07:33:09.396221Z",
     "shell.execute_reply": "2025-06-13T07:33:09.395653Z",
     "shell.execute_reply.started": "2025-06-13T07:33:09.393393Z"
    },
    "tags": []
   },
   "outputs": [],
   "source": [
    "bhnametail = '_bh.parquet.snappy'"
   ]
  },
  {
   "cell_type": "code",
   "execution_count": 117,
   "metadata": {
    "execution": {
     "iopub.execute_input": "2025-06-13T07:33:30.518298Z",
     "iopub.status.busy": "2025-06-13T07:33:30.518012Z",
     "iopub.status.idle": "2025-06-13T07:33:30.521725Z",
     "shell.execute_reply": "2025-06-13T07:33:30.521182Z",
     "shell.execute_reply.started": "2025-06-13T07:33:30.518274Z"
    },
    "tags": []
   },
   "outputs": [
    {
     "name": "stdout",
     "output_type": "stream",
     "text": [
      "hdfs://spark00:54310/common/data/illustris/tng50/snapshot84/bh/snap_084.0_bh.parquet.snappy\n"
     ]
    }
   ],
   "source": [
    "outbhname = hdfsheader + hdfsbhpath + parsedname + bhnametail\n",
    "print(outbhname)"
   ]
  },
  {
   "cell_type": "code",
   "execution_count": 118,
   "metadata": {
    "execution": {
     "iopub.execute_input": "2025-06-13T07:33:52.258183Z",
     "iopub.status.busy": "2025-06-13T07:33:52.257901Z",
     "iopub.status.idle": "2025-06-13T07:33:53.472336Z",
     "shell.execute_reply": "2025-06-13T07:33:53.471646Z",
     "shell.execute_reply.started": "2025-06-13T07:33:52.258159Z"
    },
    "tags": []
   },
   "outputs": [
    {
     "name": "stdout",
     "output_type": "stream",
     "text": [
      "CPU times: user 0 ns, sys: 7.38 ms, total: 7.38 ms\n",
      "Wall time: 1.21 s\n"
     ]
    }
   ],
   "source": [
    "%%time\n",
    "bhdf.write.option(\"compression\", \"snappy\") \\\n",
    "    .mode(\"overwrite\") \\\n",
    "    .save(outbhname)"
   ]
  },
  {
   "cell_type": "markdown",
   "metadata": {},
   "source": [
    "# Let's see HDFS files"
   ]
  },
  {
   "cell_type": "code",
   "execution_count": 125,
   "metadata": {
    "execution": {
     "iopub.execute_input": "2025-06-13T07:37:20.554671Z",
     "iopub.status.busy": "2025-06-13T07:37:20.554360Z",
     "iopub.status.idle": "2025-06-13T07:37:23.028433Z",
     "shell.execute_reply": "2025-06-13T07:37:23.027610Z",
     "shell.execute_reply.started": "2025-06-13T07:37:20.554644Z"
    },
    "tags": []
   },
   "outputs": [
    {
     "name": "stdout",
     "output_type": "stream",
     "text": [
      "857.4 M  2.5 G  /common/data/illustris/tng50/snapshot84/dm/snap_084.0_dm.parquet.snappy\n"
     ]
    }
   ],
   "source": [
    "!hdfs dfs -du -s -h /common/data/illustris/tng50/snapshot84/dm/*"
   ]
  },
  {
   "cell_type": "code",
   "execution_count": 126,
   "metadata": {
    "execution": {
     "iopub.execute_input": "2025-06-13T07:37:41.524222Z",
     "iopub.status.busy": "2025-06-13T07:37:41.523912Z",
     "iopub.status.idle": "2025-06-13T07:37:43.966205Z",
     "shell.execute_reply": "2025-06-13T07:37:43.965367Z",
     "shell.execute_reply.started": "2025-06-13T07:37:41.524194Z"
    },
    "tags": []
   },
   "outputs": [
    {
     "name": "stdout",
     "output_type": "stream",
     "text": [
      "353.9 M  1.0 G  /common/data/illustris/tng50/snapshot84/star/snap_084.0_star.parquet.snappy\n"
     ]
    }
   ],
   "source": [
    "!hdfs dfs -du -s -h /common/data/illustris/tng50/snapshot84/star/*"
   ]
  },
  {
   "cell_type": "code",
   "execution_count": 127,
   "metadata": {
    "execution": {
     "iopub.execute_input": "2025-06-13T07:37:50.539866Z",
     "iopub.status.busy": "2025-06-13T07:37:50.539558Z",
     "iopub.status.idle": "2025-06-13T07:37:52.988825Z",
     "shell.execute_reply": "2025-06-13T07:37:52.987980Z",
     "shell.execute_reply.started": "2025-06-13T07:37:50.539838Z"
    },
    "tags": []
   },
   "outputs": [
    {
     "name": "stdout",
     "output_type": "stream",
     "text": [
      "2.3 G  7.0 G  /common/data/illustris/tng50/snapshot84/gas/snap_084.0_gas.parquet.snappy\n"
     ]
    }
   ],
   "source": [
    "!hdfs dfs -du -s -h /common/data/illustris/tng50/snapshot84/gas/*"
   ]
  },
  {
   "cell_type": "code",
   "execution_count": 128,
   "metadata": {
    "execution": {
     "iopub.execute_input": "2025-06-13T07:38:00.632685Z",
     "iopub.status.busy": "2025-06-13T07:38:00.632367Z",
     "iopub.status.idle": "2025-06-13T07:38:03.099705Z",
     "shell.execute_reply": "2025-06-13T07:38:03.098906Z",
     "shell.execute_reply.started": "2025-06-13T07:38:00.632658Z"
    },
    "tags": []
   },
   "outputs": [
    {
     "name": "stdout",
     "output_type": "stream",
     "text": [
      "52.8 K  158.3 K  /common/data/illustris/tng50/snapshot84/bh/snap_084.0_bh.parquet.snappy\n"
     ]
    }
   ],
   "source": [
    "!hdfs dfs -du -s -h /common/data/illustris/tng50/snapshot84/bh/*"
   ]
  },
  {
   "cell_type": "code",
   "execution_count": null,
   "metadata": {},
   "outputs": [],
   "source": []
  }
 ],
 "metadata": {
  "kernelspec": {
   "display_name": "Python 3",
   "language": "python",
   "name": "python3"
  },
  "language_info": {
   "codemirror_mode": {
    "name": "ipython",
    "version": 3
   },
   "file_extension": ".py",
   "mimetype": "text/x-python",
   "name": "python",
   "nbconvert_exporter": "python",
   "pygments_lexer": "ipython3",
   "version": "3.8.10"
  }
 },
 "nbformat": 4,
 "nbformat_minor": 4
}
