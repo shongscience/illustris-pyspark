{
 "cells": [
  {
   "cell_type": "markdown",
   "metadata": {},
   "source": [
    "# Read a file-list and generate shell script commands\n",
    "\n",
    "- The `runing script` does not have the input of output dir (it was hard-wired in the script) \n",
    "- Check the script to see the details about the hard-wired locations\n"
   ]
  },
  {
   "cell_type": "code",
   "execution_count": 9,
   "metadata": {
    "execution": {
     "iopub.execute_input": "2025-06-16T06:38:33.006356Z",
     "iopub.status.busy": "2025-06-16T06:38:33.006141Z",
     "iopub.status.idle": "2025-06-16T06:38:33.008767Z",
     "shell.execute_reply": "2025-06-16T06:38:33.008367Z",
     "shell.execute_reply.started": "2025-06-16T06:38:33.006338Z"
    },
    "tags": []
   },
   "outputs": [],
   "source": [
    "# basic packages\n",
    "import sys\n",
    "import numpy as np\n",
    "import pandas as pd\n",
    "import matplotlib.pyplot as plt\n",
    "from scipy.spatial import cKDTree\n",
    "\n",
    "import glob\n",
    "#import databricks.koalas as ks\n",
    "\n",
    "# the default `sequence` option merges all partitions into a single catastrophic one : what?\n",
    "#ks.set_option('compute.default_index_type', 'distributed') \n"
   ]
  },
  {
   "cell_type": "markdown",
   "metadata": {},
   "source": [
    "## Read data "
   ]
  },
  {
   "cell_type": "code",
   "execution_count": 10,
   "metadata": {
    "execution": {
     "iopub.execute_input": "2025-06-16T06:38:35.018904Z",
     "iopub.status.busy": "2025-06-16T06:38:35.018694Z",
     "iopub.status.idle": "2025-06-16T06:38:35.026669Z",
     "shell.execute_reply": "2025-06-16T06:38:35.026274Z",
     "shell.execute_reply.started": "2025-06-16T06:38:35.018886Z"
    },
    "tags": []
   },
   "outputs": [
    {
     "name": "stdout",
     "output_type": "stream",
     "text": [
      "/home/shong/work/illustris/script/snapshot\n"
     ]
    }
   ],
   "source": [
    "workdir = !pwd\n",
    "print(workdir[0])"
   ]
  },
  {
   "cell_type": "code",
   "execution_count": 11,
   "metadata": {
    "execution": {
     "iopub.execute_input": "2025-06-16T06:38:35.683562Z",
     "iopub.status.busy": "2025-06-16T06:38:35.683352Z",
     "iopub.status.idle": "2025-06-16T06:38:35.685682Z",
     "shell.execute_reply": "2025-06-16T06:38:35.685306Z",
     "shell.execute_reply.started": "2025-06-16T06:38:35.683544Z"
    },
    "tags": []
   },
   "outputs": [],
   "source": [
    "h5dir = '/mnt/data/shong/tempdata/tng50snap84/raw/'"
   ]
  },
  {
   "cell_type": "code",
   "execution_count": 12,
   "metadata": {
    "execution": {
     "iopub.execute_input": "2025-06-16T06:38:36.216069Z",
     "iopub.status.busy": "2025-06-16T06:38:36.215863Z",
     "iopub.status.idle": "2025-06-16T06:38:36.219245Z",
     "shell.execute_reply": "2025-06-16T06:38:36.218870Z",
     "shell.execute_reply.started": "2025-06-16T06:38:36.216052Z"
    },
    "tags": []
   },
   "outputs": [],
   "source": [
    "h5list = sorted(glob.glob(h5dir+'snap*.hdf5'))"
   ]
  },
  {
   "cell_type": "code",
   "execution_count": 13,
   "metadata": {
    "execution": {
     "iopub.execute_input": "2025-06-16T06:38:36.600487Z",
     "iopub.status.busy": "2025-06-16T06:38:36.600276Z",
     "iopub.status.idle": "2025-06-16T06:38:36.602771Z",
     "shell.execute_reply": "2025-06-16T06:38:36.602439Z",
     "shell.execute_reply.started": "2025-06-16T06:38:36.600470Z"
    },
    "tags": []
   },
   "outputs": [
    {
     "name": "stdout",
     "output_type": "stream",
     "text": [
      "680\n"
     ]
    }
   ],
   "source": [
    "numh5list = len(h5list)\n",
    "print(numh5list)"
   ]
  },
  {
   "cell_type": "code",
   "execution_count": 14,
   "metadata": {
    "execution": {
     "iopub.execute_input": "2025-06-16T06:38:37.268128Z",
     "iopub.status.busy": "2025-06-16T06:38:37.267918Z",
     "iopub.status.idle": "2025-06-16T06:38:37.270858Z",
     "shell.execute_reply": "2025-06-16T06:38:37.270538Z",
     "shell.execute_reply.started": "2025-06-16T06:38:37.268107Z"
    },
    "tags": []
   },
   "outputs": [
    {
     "data": {
      "text/plain": [
       "['/mnt/data/shong/tempdata/tng50snap84/raw/snap_084.0.hdf5',\n",
       " '/mnt/data/shong/tempdata/tng50snap84/raw/snap_084.1.hdf5',\n",
       " '/mnt/data/shong/tempdata/tng50snap84/raw/snap_084.10.hdf5',\n",
       " '/mnt/data/shong/tempdata/tng50snap84/raw/snap_084.100.hdf5',\n",
       " '/mnt/data/shong/tempdata/tng50snap84/raw/snap_084.101.hdf5']"
      ]
     },
     "execution_count": 14,
     "metadata": {},
     "output_type": "execute_result"
    }
   ],
   "source": [
    "h5list[:5]"
   ]
  },
  {
   "cell_type": "code",
   "execution_count": 15,
   "metadata": {
    "execution": {
     "iopub.execute_input": "2025-06-16T06:38:37.972955Z",
     "iopub.status.busy": "2025-06-16T06:38:37.972748Z",
     "iopub.status.idle": "2025-06-16T06:38:37.975597Z",
     "shell.execute_reply": "2025-06-16T06:38:37.975281Z",
     "shell.execute_reply.started": "2025-06-16T06:38:37.972935Z"
    },
    "tags": []
   },
   "outputs": [
    {
     "data": {
      "text/plain": [
       "['/mnt/data/shong/tempdata/tng50snap84/raw/snap_084.95.hdf5',\n",
       " '/mnt/data/shong/tempdata/tng50snap84/raw/snap_084.96.hdf5',\n",
       " '/mnt/data/shong/tempdata/tng50snap84/raw/snap_084.97.hdf5',\n",
       " '/mnt/data/shong/tempdata/tng50snap84/raw/snap_084.98.hdf5',\n",
       " '/mnt/data/shong/tempdata/tng50snap84/raw/snap_084.99.hdf5']"
      ]
     },
     "execution_count": 15,
     "metadata": {},
     "output_type": "execute_result"
    }
   ],
   "source": [
    "h5list[-5:]"
   ]
  },
  {
   "cell_type": "code",
   "execution_count": 48,
   "metadata": {
    "execution": {
     "iopub.execute_input": "2025-06-16T07:29:35.559824Z",
     "iopub.status.busy": "2025-06-16T07:29:35.559492Z",
     "iopub.status.idle": "2025-06-16T07:29:35.562755Z",
     "shell.execute_reply": "2025-06-16T07:29:35.562269Z",
     "shell.execute_reply.started": "2025-06-16T07:29:35.559787Z"
    },
    "tags": []
   },
   "outputs": [],
   "source": [
    "logfile = 'log-convert-part3.log'"
   ]
  },
  {
   "cell_type": "markdown",
   "metadata": {},
   "source": [
    "## Generate the script commands"
   ]
  },
  {
   "cell_type": "markdown",
   "metadata": {},
   "source": [
    "### Making shell script"
   ]
  },
  {
   "cell_type": "code",
   "execution_count": 49,
   "metadata": {
    "execution": {
     "iopub.execute_input": "2025-06-16T07:29:37.008767Z",
     "iopub.status.busy": "2025-06-16T07:29:37.008431Z",
     "iopub.status.idle": "2025-06-16T07:29:37.011467Z",
     "shell.execute_reply": "2025-06-16T07:29:37.010842Z",
     "shell.execute_reply.started": "2025-06-16T07:29:37.008740Z"
    },
    "tags": []
   },
   "outputs": [],
   "source": [
    "#!jupyter notebook --NotebookApp.iopub_data_rate_limit=10000000"
   ]
  },
  {
   "cell_type": "code",
   "execution_count": 50,
   "metadata": {
    "execution": {
     "iopub.execute_input": "2025-06-16T07:29:55.874617Z",
     "iopub.status.busy": "2025-06-16T07:29:55.874310Z",
     "iopub.status.idle": "2025-06-16T07:29:55.878855Z",
     "shell.execute_reply": "2025-06-16T07:29:55.878379Z",
     "shell.execute_reply.started": "2025-06-16T07:29:55.874586Z"
    },
    "tags": []
   },
   "outputs": [],
   "source": [
    "# write down each command to a shell script \n",
    "finalstr = ''\n",
    "idx=400\n",
    "#outdir = 'hdfs://spark00:54310/user/shong/data/parquet/oco2/'\n",
    "\n",
    "while idx < numh5list:\n",
    "#while idx < 400:\n",
    "    \n",
    "    input_filename = h5list[idx]\n",
    "    #print(input_filename)\n",
    "    \n",
    "    ## 여기 수정해야함 !!!!!!!!!\n",
    "    header = 'python3 snap84-h5-to-parquet-v2-with-log.py '\n",
    "    \n",
    "    #body = hdfspath+coldfilename+' '+hdfspath+hotfilename+' '+outpath+outname(coldfilename,headstr='L2nocap',tmodestr='',tailstr='.pkl')\n",
    "    body =  input_filename+' '+logfile\n",
    "    finalstr = finalstr+header+body+'\\n'  \n",
    "    #print(finalstr)\n",
    "    idx=idx+1\n",
    "    #print(idx)"
   ]
  },
  {
   "cell_type": "code",
   "execution_count": 51,
   "metadata": {
    "execution": {
     "iopub.execute_input": "2025-06-16T07:29:56.954842Z",
     "iopub.status.busy": "2025-06-16T07:29:56.954550Z",
     "iopub.status.idle": "2025-06-16T07:29:56.958153Z",
     "shell.execute_reply": "2025-06-16T07:29:56.957572Z",
     "shell.execute_reply.started": "2025-06-16T07:29:56.954817Z"
    },
    "scrolled": true,
    "tags": []
   },
   "outputs": [
    {
     "name": "stdout",
     "output_type": "stream",
     "text": [
      "python3 snap84-h5-to-parquet-v2-with-log.py /mnt/data/shong/tempdata/tng50snap84/raw/snap_084.459.hdf5 log-convert-part3.log\n",
      "python3 snap84-h5-to-parquet-v2-with-log.py /mnt/data/shong/tempdata/tng50snap84/raw/snap_084.46.hdf5 log-convert-part3.log\n",
      "python3 snap84-h5-to-parquet-v2-with-log.py /mnt/data/shong/tempdata/tng50snap84/raw/snap_084.460.hdf5 log-convert-part3.log\n",
      "python3 snap84-h5-to-parquet-v2-with-log.py /mnt/data/shong/tempdata/tng50snap84/raw/snap_084.461.hdf5 log-convert-part3.log\n",
      "p\n"
     ]
    }
   ],
   "source": [
    "print(finalstr[:500])"
   ]
  },
  {
   "cell_type": "code",
   "execution_count": 52,
   "metadata": {
    "execution": {
     "iopub.execute_input": "2025-06-16T07:30:00.408671Z",
     "iopub.status.busy": "2025-06-16T07:30:00.408344Z",
     "iopub.status.idle": "2025-06-16T07:30:00.411841Z",
     "shell.execute_reply": "2025-06-16T07:30:00.411290Z",
     "shell.execute_reply.started": "2025-06-16T07:30:00.408644Z"
    },
    "tags": []
   },
   "outputs": [],
   "source": [
    "with open(\"convert-log-part3.sh\", \"w\") as script_file:\n",
    "    script_file.write(finalstr)"
   ]
  },
  {
   "cell_type": "code",
   "execution_count": 53,
   "metadata": {
    "execution": {
     "iopub.execute_input": "2025-06-16T07:30:01.771491Z",
     "iopub.status.busy": "2025-06-16T07:30:01.771192Z",
     "iopub.status.idle": "2025-06-16T07:30:01.883563Z",
     "shell.execute_reply": "2025-06-16T07:30:01.882898Z",
     "shell.execute_reply.started": "2025-06-16T07:30:01.771466Z"
    },
    "tags": []
   },
   "outputs": [
    {
     "name": "stdout",
     "output_type": "stream",
     "text": [
      "all-convert-log.sh\n",
      "convert-log-part1.sh\n",
      "convert-log-part2.sh\n",
      "convert-log-part3.sh\n",
      "gen-script-snap84-convert-v2-with-log.ipynb\n",
      "snap84-h5-to-parquet-v1.py\n",
      "snap84-h5-to-parquet-v2-with-log.py\n",
      "sparkmonitor_kernelextension.log\n",
      "test-convert-log-v1.sh\n"
     ]
    }
   ],
   "source": [
    "%ls"
   ]
  },
  {
   "cell_type": "code",
   "execution_count": 54,
   "metadata": {
    "execution": {
     "iopub.execute_input": "2025-06-16T07:30:02.251176Z",
     "iopub.status.busy": "2025-06-16T07:30:02.250874Z",
     "iopub.status.idle": "2025-06-16T07:30:02.287248Z",
     "shell.execute_reply": "2025-06-16T07:30:02.286958Z",
     "shell.execute_reply.started": "2025-06-16T07:30:02.251148Z"
    },
    "tags": []
   },
   "outputs": [
    {
     "data": {
      "text/plain": [
       "0"
      ]
     },
     "execution_count": 54,
     "metadata": {},
     "output_type": "execute_result"
    }
   ],
   "source": [
    "import gc \n",
    "gc.collect()"
   ]
  },
  {
   "cell_type": "code",
   "execution_count": null,
   "metadata": {},
   "outputs": [],
   "source": []
  }
 ],
 "metadata": {
  "kernelspec": {
   "display_name": "Python 3",
   "language": "python",
   "name": "python3"
  },
  "language_info": {
   "codemirror_mode": {
    "name": "ipython",
    "version": 3
   },
   "file_extension": ".py",
   "mimetype": "text/x-python",
   "name": "python",
   "nbconvert_exporter": "python",
   "pygments_lexer": "ipython3",
   "version": "3.8.10"
  }
 },
 "nbformat": 4,
 "nbformat_minor": 4
}
