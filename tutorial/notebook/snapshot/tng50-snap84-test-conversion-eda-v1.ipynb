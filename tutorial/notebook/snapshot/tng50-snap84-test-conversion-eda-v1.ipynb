{
 "cells": [
  {
   "cell_type": "markdown",
   "id": "23b0dc7f-1dd6-43bd-9c54-11f81012d61d",
   "metadata": {},
   "source": [
    "# Testing Converted HDFS parquet\n",
    "\n",
    "- DM particles?!? for sanity check?!?"
   ]
  },
  {
   "cell_type": "code",
   "execution_count": 1,
   "id": "73dda1a1-1921-4ed4-ada9-e8248f00df91",
   "metadata": {
    "execution": {
     "iopub.execute_input": "2025-07-04T06:49:32.920076Z",
     "iopub.status.busy": "2025-07-04T06:49:32.919768Z",
     "iopub.status.idle": "2025-07-04T06:49:33.305385Z",
     "shell.execute_reply": "2025-07-04T06:49:33.304946Z",
     "shell.execute_reply.started": "2025-07-04T06:49:32.920048Z"
    },
    "tags": []
   },
   "outputs": [],
   "source": [
    "import numpy as np\n",
    "import pandas as pd\n",
    "import glob\n",
    "import sys\n",
    "import h5py\n",
    "#from netCDF4 import Dataset\n",
    "from datetime import datetime\n",
    "from tqdm.notebook import tqdm\n",
    "import matplotlib.pyplot as plt\n",
    "from scipy.spatial import cKDTree\n",
    "\n",
    "import pyarrow as pa\n",
    "import pyarrow.parquet as pq\n",
    "\n",
    "from functools import reduce\n",
    "import operator\n",
    "import gc"
   ]
  },
  {
   "cell_type": "code",
   "execution_count": 2,
   "id": "d4a8aa97-1e9c-48a9-a5bc-001434e9fa19",
   "metadata": {
    "execution": {
     "iopub.execute_input": "2025-07-04T06:49:33.911801Z",
     "iopub.status.busy": "2025-07-04T06:49:33.911375Z",
     "iopub.status.idle": "2025-07-04T06:49:33.915567Z",
     "shell.execute_reply": "2025-07-04T06:49:33.914859Z",
     "shell.execute_reply.started": "2025-07-04T06:49:33.911771Z"
    },
    "tags": []
   },
   "outputs": [],
   "source": [
    "# plot settings\n",
    "plt.rc('font', family='serif') \n",
    "plt.rcParams.update({'font.size': 16})\n",
    "plt.rcParams['mathtext.fontset'] = 'stix'"
   ]
  },
  {
   "cell_type": "markdown",
   "id": "51e7fec1-588c-4191-8a01-e6021b17c27f",
   "metadata": {},
   "source": [
    "### Define SparkSession\n",
    "> 200 vCPU + 1.4 TB Memory"
   ]
  },
  {
   "cell_type": "code",
   "execution_count": 3,
   "id": "03a4aa9a-6754-43af-a28c-7040d420f175",
   "metadata": {
    "execution": {
     "iopub.execute_input": "2025-07-04T06:49:34.943290Z",
     "iopub.status.busy": "2025-07-04T06:49:34.942984Z",
     "iopub.status.idle": "2025-07-04T06:50:04.167253Z",
     "shell.execute_reply": "2025-07-04T06:50:04.166806Z",
     "shell.execute_reply.started": "2025-07-04T06:49:34.943261Z"
    },
    "tags": []
   },
   "outputs": [],
   "source": [
    "# PySpark packages\n",
    "from pyspark import SparkContext   \n",
    "from pyspark.sql import SparkSession\n",
    "\n",
    "import pyspark.sql.functions as F\n",
    "import pyspark.sql.types as T\n",
    "from pyspark import Row\n",
    "from pyspark.sql.window import Window as W\n",
    "\n",
    "\n",
    "spark = SparkSession.builder \\\n",
    "    .master(\"yarn\") \\\n",
    "    .appName(\"spark-shell\") \\\n",
    "    .config(\"spark.driver.maxResultSize\", \"32g\") \\\n",
    "    .config(\"spark.driver.memory\", \"32g\") \\\n",
    "    .config(\"spark.executor.memory\", \"7g\") \\\n",
    "    .config(\"spark.executor.cores\", \"1\") \\\n",
    "    .config(\"spark.executor.instances\", \"200\") \\\n",
    "    .getOrCreate()\n",
    "\n",
    "\n",
    "sc = spark.sparkContext\n",
    "sc.setCheckpointDir(\"hdfs://spark00:54310/tmp/checkpoints\")\n",
    "\n",
    "spark.conf.set(\"spark.sql.debug.maxToStringFields\", 500)\n",
    "spark.conf.set(\"spark.sql.execution.arrow.pyspark.enabled\", \"true\")"
   ]
  },
  {
   "cell_type": "code",
   "execution_count": 4,
   "id": "2b4840da-6536-4943-b8e6-88c13ec43774",
   "metadata": {
    "execution": {
     "iopub.execute_input": "2025-07-04T06:50:22.864718Z",
     "iopub.status.busy": "2025-07-04T06:50:22.864382Z",
     "iopub.status.idle": "2025-07-04T06:50:22.882367Z",
     "shell.execute_reply": "2025-07-04T06:50:22.882099Z",
     "shell.execute_reply.started": "2025-07-04T06:50:22.864689Z"
    },
    "tags": []
   },
   "outputs": [
    {
     "data": {
      "text/plain": [
       "[('spark.org.apache.hadoop.yarn.server.webproxy.amfilter.AmIpFilter.param.PROXY_URI_BASES',\n",
       "  'http://spark14:8088/proxy/application_1750653327224_0691'),\n",
       " ('spark.driver.memory', '32g'),\n",
       " ('spark.driver.appUIAddress', 'http://spark00:4040'),\n",
       " ('spark.driver.maxResultSize', '32g'),\n",
       " ('spark.app.id', 'application_1750653327224_0691'),\n",
       " ('spark.ui.proxyBase', '/proxy/application_1750653327224_0691'),\n",
       " ('spark.master', 'yarn'),\n",
       " ('spark.executor.id', 'driver'),\n",
       " ('spark.submit.deployMode', 'client'),\n",
       " ('spark.serializer.objectStreamReset', '100')]"
      ]
     },
     "execution_count": 4,
     "metadata": {},
     "output_type": "execute_result"
    }
   ],
   "source": [
    "sc.getConf().getAll()[:10]"
   ]
  },
  {
   "cell_type": "markdown",
   "id": "37fdcb4b-5721-409b-a36d-ecae64bca347",
   "metadata": {
    "execution": {
     "iopub.execute_input": "2025-07-04T05:34:17.571814Z",
     "iopub.status.busy": "2025-07-04T05:34:17.571520Z",
     "iopub.status.idle": "2025-07-04T05:34:17.574403Z",
     "shell.execute_reply": "2025-07-04T05:34:17.573846Z",
     "shell.execute_reply.started": "2025-07-04T05:34:17.571787Z"
    },
    "tags": []
   },
   "source": [
    "### Sanity Check for converted snapshot files "
   ]
  },
  {
   "cell_type": "code",
   "execution_count": 5,
   "id": "c5c1e175-279a-4990-9e2c-b3c8f7e5179f",
   "metadata": {
    "execution": {
     "iopub.execute_input": "2025-07-04T06:50:24.334499Z",
     "iopub.status.busy": "2025-07-04T06:50:24.334196Z",
     "iopub.status.idle": "2025-07-04T06:50:25.564417Z",
     "shell.execute_reply": "2025-07-04T06:50:25.563732Z",
     "shell.execute_reply.started": "2025-07-04T06:50:24.334471Z"
    },
    "tags": []
   },
   "outputs": [],
   "source": [
    "alldmfiles = !hdfs dfs -du -s -h /common/data/illustris/tng50/snapshot84/dm/*"
   ]
  },
  {
   "cell_type": "code",
   "execution_count": 6,
   "id": "4053ca9f-d276-4227-9e98-30ad5f276a68",
   "metadata": {
    "execution": {
     "iopub.execute_input": "2025-07-04T06:50:26.782996Z",
     "iopub.status.busy": "2025-07-04T06:50:26.782689Z",
     "iopub.status.idle": "2025-07-04T06:50:26.787711Z",
     "shell.execute_reply": "2025-07-04T06:50:26.787021Z",
     "shell.execute_reply.started": "2025-07-04T06:50:26.782966Z"
    },
    "tags": []
   },
   "outputs": [
    {
     "data": {
      "text/plain": [
       "['857.4 M  2.5 G  /common/data/illustris/tng50/snapshot84/dm/snap_084.0_dm.parquet.snappy',\n",
       " '837.9 M  2.5 G  /common/data/illustris/tng50/snapshot84/dm/snap_084.100_dm.parquet.snappy',\n",
       " '820.4 M  2.4 G  /common/data/illustris/tng50/snapshot84/dm/snap_084.101_dm.parquet.snappy',\n",
       " '862.6 M  2.5 G  /common/data/illustris/tng50/snapshot84/dm/snap_084.102_dm.parquet.snappy',\n",
       " '852.7 M  2.5 G  /common/data/illustris/tng50/snapshot84/dm/snap_084.103_dm.parquet.snappy']"
      ]
     },
     "execution_count": 6,
     "metadata": {},
     "output_type": "execute_result"
    }
   ],
   "source": [
    "alldmfiles[:5]"
   ]
  },
  {
   "cell_type": "code",
   "execution_count": 7,
   "id": "20ecf0e0-a190-4ac4-835b-138c6b9639fc",
   "metadata": {
    "execution": {
     "iopub.execute_input": "2025-07-04T06:50:27.351172Z",
     "iopub.status.busy": "2025-07-04T06:50:27.350974Z",
     "iopub.status.idle": "2025-07-04T06:50:27.353923Z",
     "shell.execute_reply": "2025-07-04T06:50:27.353516Z",
     "shell.execute_reply.started": "2025-07-04T06:50:27.351155Z"
    },
    "tags": []
   },
   "outputs": [
    {
     "data": {
      "text/plain": [
       "680"
      ]
     },
     "execution_count": 7,
     "metadata": {},
     "output_type": "execute_result"
    }
   ],
   "source": [
    "len(alldmfiles)"
   ]
  },
  {
   "cell_type": "markdown",
   "id": "eeef34d2-1def-4b81-811f-a06f4b6bbfb1",
   "metadata": {},
   "source": [
    "> Now, it seems ok."
   ]
  },
  {
   "cell_type": "markdown",
   "id": "d613e3e8-d5e2-451f-a5cd-428edaf2fcd0",
   "metadata": {},
   "source": [
    "### Read Snapshot Parquets "
   ]
  },
  {
   "cell_type": "code",
   "execution_count": 8,
   "id": "672bfb4a-9879-4e11-af91-7be14ca7ae2f",
   "metadata": {
    "execution": {
     "iopub.execute_input": "2025-07-04T06:50:28.725724Z",
     "iopub.status.busy": "2025-07-04T06:50:28.725419Z",
     "iopub.status.idle": "2025-07-04T06:50:28.728908Z",
     "shell.execute_reply": "2025-07-04T06:50:28.728142Z",
     "shell.execute_reply.started": "2025-07-04T06:50:28.725697Z"
    },
    "tags": []
   },
   "outputs": [],
   "source": [
    "dmpath = 'hdfs://spark00:54310/common/data/illustris/tng50/snapshot84/dm/'"
   ]
  },
  {
   "cell_type": "code",
   "execution_count": 9,
   "id": "8af99a50-a208-4640-8a98-523995dafb3b",
   "metadata": {
    "execution": {
     "iopub.execute_input": "2025-07-04T06:50:29.304013Z",
     "iopub.status.busy": "2025-07-04T06:50:29.303705Z",
     "iopub.status.idle": "2025-07-04T06:50:34.811790Z",
     "shell.execute_reply": "2025-07-04T06:50:34.811400Z",
     "shell.execute_reply.started": "2025-07-04T06:50:29.303986Z"
    },
    "tags": []
   },
   "outputs": [
    {
     "name": "stdout",
     "output_type": "stream",
     "text": [
      "CPU times: user 2.64 ms, sys: 0 ns, total: 2.64 ms\n",
      "Wall time: 5.5 s\n"
     ]
    }
   ],
   "source": [
    "%%time\n",
    "# Read all parquets in the directory\n",
    "dmdf = \\\n",
    "    spark.read.option(\"header\",\"true\") \\\n",
    "    .option(\"recursiveFileLookup\",\"true\").parquet(dmpath)"
   ]
  },
  {
   "cell_type": "code",
   "execution_count": 10,
   "id": "3d85e7c1-7187-49b5-99fa-29f112f23919",
   "metadata": {
    "execution": {
     "iopub.execute_input": "2025-07-04T06:50:36.975361Z",
     "iopub.status.busy": "2025-07-04T06:50:36.975055Z",
     "iopub.status.idle": "2025-07-04T06:50:36.991948Z",
     "shell.execute_reply": "2025-07-04T06:50:36.991570Z",
     "shell.execute_reply.started": "2025-07-04T06:50:36.975333Z"
    },
    "tags": []
   },
   "outputs": [
    {
     "name": "stdout",
     "output_type": "stream",
     "text": [
      "root\n",
      " |-- Coordinates: array (nullable = true)\n",
      " |    |-- element: double (containsNull = true)\n",
      " |-- ParticleIDs: long (nullable = true)\n",
      " |-- Potential: float (nullable = true)\n",
      " |-- SubfindDMDensity: float (nullable = true)\n",
      " |-- SubfindDensity: float (nullable = true)\n",
      " |-- SubfindHsml: float (nullable = true)\n",
      " |-- SubfindVelDisp: float (nullable = true)\n",
      " |-- Velocities: array (nullable = true)\n",
      " |    |-- element: float (containsNull = true)\n",
      "\n"
     ]
    }
   ],
   "source": [
    "dmdf.printSchema()"
   ]
  },
  {
   "cell_type": "code",
   "execution_count": 11,
   "id": "f677a86b-50a8-45c6-a8ea-6f65f1857b2a",
   "metadata": {
    "execution": {
     "iopub.execute_input": "2025-07-04T06:50:37.480674Z",
     "iopub.status.busy": "2025-07-04T06:50:37.480348Z",
     "iopub.status.idle": "2025-07-04T06:50:39.121514Z",
     "shell.execute_reply": "2025-07-04T06:50:39.121218Z",
     "shell.execute_reply.started": "2025-07-04T06:50:37.480646Z"
    },
    "tags": []
   },
   "outputs": [
    {
     "name": "stdout",
     "output_type": "stream",
     "text": [
      "                                                              Row_0  \\\n",
      "Coordinates       [23536.061986956738, 13258.062109017172, 14277...   \n",
      "ParticleIDs                                              6587293544   \n",
      "Potential                                            -116118.578125   \n",
      "SubfindDMDensity                                           0.000038   \n",
      "SubfindDensity                                             0.000038   \n",
      "SubfindHsml                                                2.408194   \n",
      "SubfindVelDisp                                           272.708282   \n",
      "Velocities        [366.7105407714844, -17.06654930114746, 377.21...   \n",
      "\n",
      "                                                              Row_1  \\\n",
      "Coordinates       [23527.317624073607, 13258.758814691157, 14276...   \n",
      "ParticleIDs                                              7027990360   \n",
      "Potential                                              -125185.4375   \n",
      "SubfindDMDensity                                           0.000087   \n",
      "SubfindDensity                                             0.000088   \n",
      "SubfindHsml                                                1.911385   \n",
      "SubfindVelDisp                                           249.199524   \n",
      "Velocities        [-336.0504150390625, -325.2702941894531, -106....   \n",
      "\n",
      "                                                              Row_2  \\\n",
      "Coordinates       [23224.914132506365, 13436.062260278217, 14235...   \n",
      "ParticleIDs                                              6678104935   \n",
      "Potential                                             -33882.332031   \n",
      "SubfindDMDensity                                           0.000001   \n",
      "SubfindDensity                                             0.000001   \n",
      "SubfindHsml                                                8.415005   \n",
      "SubfindVelDisp                                           184.769882   \n",
      "Velocities        [-80.2759780883789, 132.43869018554688, 115.01...   \n",
      "\n",
      "                                                              Row_3  \\\n",
      "Coordinates       [23507.134875390384, 13410.346054157297, 14207...   \n",
      "ParticleIDs                                              6722629463   \n",
      "Potential                                               -65922.6875   \n",
      "SubfindDMDensity                                           0.000008   \n",
      "SubfindDensity                                             0.000008   \n",
      "SubfindHsml                                                 3.82253   \n",
      "SubfindVelDisp                                           226.769333   \n",
      "Velocities        [29.365020751953125, -277.5749206542969, 129.2...   \n",
      "\n",
      "                                                              Row_4  \n",
      "Coordinates       [23574.505127696484, 13097.951707448725, 14215...  \n",
      "ParticleIDs                                              6422533207  \n",
      "Potential                                               -46502.1875  \n",
      "SubfindDMDensity                                           0.000002  \n",
      "SubfindDensity                                             0.000002  \n",
      "SubfindHsml                                                 6.98314  \n",
      "SubfindVelDisp                                           192.973221  \n",
      "Velocities        [164.79844665527344, -150.43028259277344, 66.3...  \n",
      "CPU times: user 6.17 ms, sys: 2.86 ms, total: 9.03 ms\n",
      "Wall time: 1.64 s\n"
     ]
    }
   ],
   "source": [
    "%%time\n",
    "rows = dmdf.take(5)  # Returns list of Row objects\n",
    "rows_dict = [row.asDict() for row in rows]\n",
    "df = pd.DataFrame(rows_dict)\n",
    "\n",
    "# Transpose and label\n",
    "df_transposed = df.transpose()\n",
    "df_transposed.columns = [f\"Row_{i}\" for i in range(len(rows))]\n",
    "print(df_transposed)"
   ]
  },
  {
   "cell_type": "code",
   "execution_count": 12,
   "id": "fda62e31-5f06-41e0-b06e-78fe1eb1f295",
   "metadata": {
    "execution": {
     "iopub.execute_input": "2025-07-04T06:50:42.878584Z",
     "iopub.status.busy": "2025-07-04T06:50:42.878276Z",
     "iopub.status.idle": "2025-07-04T06:51:23.088531Z",
     "shell.execute_reply": "2025-07-04T06:51:23.087926Z",
     "shell.execute_reply.started": "2025-07-04T06:50:42.878557Z"
    },
    "tags": []
   },
   "outputs": [
    {
     "name": "stdout",
     "output_type": "stream",
     "text": [
      "CPU times: user 2.45 ms, sys: 3.19 ms, total: 5.64 ms\n",
      "Wall time: 40.2 s\n"
     ]
    },
    {
     "data": {
      "text/plain": [
       "10077696000"
      ]
     },
     "execution_count": 12,
     "metadata": {},
     "output_type": "execute_result"
    }
   ],
   "source": [
    "%%time\n",
    "dmdf.count()"
   ]
  },
  {
   "cell_type": "markdown",
   "id": "6d4dd3e1-58a4-4861-9126-0eaa81d99115",
   "metadata": {},
   "source": [
    "- 2160**3 = 10077696000 \n",
    "- Okey.. it looks correct"
   ]
  },
  {
   "cell_type": "markdown",
   "id": "91ba78e8-f28b-4530-989e-fb164b9823d2",
   "metadata": {},
   "source": [
    "#### Optionally, the number of gas particles is .. "
   ]
  },
  {
   "cell_type": "code",
   "execution_count": 13,
   "id": "6d298f42-7106-4f1b-8f01-ef75e97e3885",
   "metadata": {
    "execution": {
     "iopub.execute_input": "2025-07-04T06:51:34.192644Z",
     "iopub.status.busy": "2025-07-04T06:51:34.192316Z",
     "iopub.status.idle": "2025-07-04T06:51:34.195552Z",
     "shell.execute_reply": "2025-07-04T06:51:34.194891Z",
     "shell.execute_reply.started": "2025-07-04T06:51:34.192610Z"
    },
    "tags": []
   },
   "outputs": [],
   "source": [
    "gaspath = 'hdfs://spark00:54310/common/data/illustris/tng50/snapshot84/gas/'"
   ]
  },
  {
   "cell_type": "code",
   "execution_count": 14,
   "id": "fdca57c7-22ae-40c0-9a9c-adc43c566207",
   "metadata": {
    "execution": {
     "iopub.execute_input": "2025-07-04T06:51:34.783644Z",
     "iopub.status.busy": "2025-07-04T06:51:34.783350Z",
     "iopub.status.idle": "2025-07-04T06:51:38.254655Z",
     "shell.execute_reply": "2025-07-04T06:51:38.254303Z",
     "shell.execute_reply.started": "2025-07-04T06:51:34.783617Z"
    },
    "tags": []
   },
   "outputs": [
    {
     "name": "stdout",
     "output_type": "stream",
     "text": [
      "CPU times: user 2.23 ms, sys: 0 ns, total: 2.23 ms\n",
      "Wall time: 3.47 s\n"
     ]
    }
   ],
   "source": [
    "%%time\n",
    "# Read all parquets in the directory\n",
    "gasdf = \\\n",
    "    spark.read.option(\"header\",\"true\") \\\n",
    "    .option(\"recursiveFileLookup\",\"true\").parquet(gaspath)"
   ]
  },
  {
   "cell_type": "code",
   "execution_count": 15,
   "id": "303421f0-2c49-43b7-a99b-5ca0dafb8dbc",
   "metadata": {
    "execution": {
     "iopub.execute_input": "2025-07-04T06:51:41.239678Z",
     "iopub.status.busy": "2025-07-04T06:51:41.239373Z",
     "iopub.status.idle": "2025-07-04T06:51:41.244088Z",
     "shell.execute_reply": "2025-07-04T06:51:41.243404Z",
     "shell.execute_reply.started": "2025-07-04T06:51:41.239651Z"
    },
    "tags": []
   },
   "outputs": [
    {
     "name": "stdout",
     "output_type": "stream",
     "text": [
      "root\n",
      " |-- CenterOfMass: array (nullable = true)\n",
      " |    |-- element: float (containsNull = true)\n",
      " |-- Coordinates: array (nullable = true)\n",
      " |    |-- element: double (containsNull = true)\n",
      " |-- Density: float (nullable = true)\n",
      " |-- ElectronAbundance: float (nullable = true)\n",
      " |-- EnergyDissipation: float (nullable = true)\n",
      " |-- GFM_AGNRadiation: float (nullable = true)\n",
      " |-- GFM_CoolingRate: float (nullable = true)\n",
      " |-- GFM_Metallicity: float (nullable = true)\n",
      " |-- GFM_Metals: array (nullable = true)\n",
      " |    |-- element: float (containsNull = true)\n",
      " |-- GFM_MetalsTagged: array (nullable = true)\n",
      " |    |-- element: float (containsNull = true)\n",
      " |-- GFM_WindDMVelDisp: float (nullable = true)\n",
      " |-- GFM_WindHostHaloMass: float (nullable = true)\n",
      " |-- InternalEnergy: float (nullable = true)\n",
      " |-- InternalEnergyOld: float (nullable = true)\n",
      " |-- Machnumber: float (nullable = true)\n",
      " |-- MagneticField: array (nullable = true)\n",
      " |    |-- element: float (containsNull = true)\n",
      " |-- MagneticFieldDivergence: float (nullable = true)\n",
      " |-- Masses: float (nullable = true)\n",
      " |-- NeutralHydrogenAbundance: float (nullable = true)\n",
      " |-- ParticleIDs: long (nullable = true)\n",
      " |-- Potential: float (nullable = true)\n",
      " |-- StarFormationRate: float (nullable = true)\n",
      " |-- SubfindDMDensity: float (nullable = true)\n",
      " |-- SubfindDensity: float (nullable = true)\n",
      " |-- SubfindHsml: float (nullable = true)\n",
      " |-- SubfindVelDisp: float (nullable = true)\n",
      " |-- Velocities: array (nullable = true)\n",
      " |    |-- element: float (containsNull = true)\n",
      "\n"
     ]
    }
   ],
   "source": [
    "gasdf.printSchema()"
   ]
  },
  {
   "cell_type": "code",
   "execution_count": 16,
   "id": "9b41e966-3ab2-44d7-9bda-90c97eca2830",
   "metadata": {
    "execution": {
     "iopub.execute_input": "2025-07-04T06:51:44.494821Z",
     "iopub.status.busy": "2025-07-04T06:51:44.494515Z",
     "iopub.status.idle": "2025-07-04T06:51:45.857614Z",
     "shell.execute_reply": "2025-07-04T06:51:45.857261Z",
     "shell.execute_reply.started": "2025-07-04T06:51:44.494794Z"
    },
    "tags": []
   },
   "outputs": [
    {
     "name": "stdout",
     "output_type": "stream",
     "text": [
      "                                                                      Row_0  \\\n",
      "CenterOfMass              [7509.58251953125, 9916.2880859375, 4669.45507...   \n",
      "Coordinates               [7509.683889474307, 9916.351981456668, 4669.41...   \n",
      "Density                                                            0.000002   \n",
      "ElectronAbundance                                                  1.175983   \n",
      "EnergyDissipation                                                       0.0   \n",
      "GFM_AGNRadiation                                                        0.0   \n",
      "GFM_CoolingRate                                                        -0.0   \n",
      "GFM_Metallicity                                                    0.015087   \n",
      "GFM_Metals                [0.7285040616989136, 0.2564089000225067, 0.001...   \n",
      "GFM_MetalsTagged          [0.0013146514538675547, 0.00808743666857481, 0...   \n",
      "GFM_WindDMVelDisp                                                256.340454   \n",
      "GFM_WindHostHaloMass                                             256.340454   \n",
      "InternalEnergy                                                 297571.40625   \n",
      "InternalEnergyOld                                              297571.40625   \n",
      "Machnumber                                                              0.0   \n",
      "MagneticField             [-0.42363935708999634, 0.059201013296842575, 0...   \n",
      "MagneticFieldDivergence                                             -0.1619   \n",
      "Masses                                                             0.000005   \n",
      "NeutralHydrogenAbundance                                                0.0   \n",
      "ParticleIDs                                                    150289277640   \n",
      "Potential                                                     -73372.859375   \n",
      "StarFormationRate                                                       0.0   \n",
      "SubfindDMDensity                                                    0.00023   \n",
      "SubfindDensity                                                     0.000244   \n",
      "SubfindHsml                                                        1.395262   \n",
      "SubfindVelDisp                                                   200.265686   \n",
      "Velocities                [35.60319900512695, -377.0171203613281, -618.0...   \n",
      "\n",
      "                                                                      Row_1  \\\n",
      "CenterOfMass              [7492.00537109375, 9927.880859375, 4689.526367...   \n",
      "Coordinates               [7492.132058316621, 9927.840704874803, 4689.27...   \n",
      "Density                                                                 0.0   \n",
      "ElectronAbundance                                                  1.176155   \n",
      "EnergyDissipation                                                       0.0   \n",
      "GFM_AGNRadiation                                                        0.0   \n",
      "GFM_CoolingRate                                                        -0.0   \n",
      "GFM_Metallicity                                                    0.016382   \n",
      "GFM_Metals                [0.7273449897766113, 0.256272554397583, 0.0018...   \n",
      "GFM_MetalsTagged          [0.001234075054526329, 0.010371822863817215, 0...   \n",
      "GFM_WindDMVelDisp                                                193.726151   \n",
      "GFM_WindHostHaloMass                                             193.726151   \n",
      "InternalEnergy                                                 12825.263672   \n",
      "InternalEnergyOld                                              12825.263672   \n",
      "Machnumber                                                              0.0   \n",
      "MagneticField             [0.20754782855510712, 0.008596653118729591, -0...   \n",
      "MagneticFieldDivergence                                            0.002782   \n",
      "Masses                                                             0.000008   \n",
      "NeutralHydrogenAbundance                                           0.000002   \n",
      "ParticleIDs                                                    150289277641   \n",
      "Potential                                                     -59570.042969   \n",
      "StarFormationRate                                                       0.0   \n",
      "SubfindDMDensity                                                   0.000053   \n",
      "SubfindDensity                                                     0.000055   \n",
      "SubfindHsml                                                        2.012064   \n",
      "SubfindVelDisp                                                   192.630005   \n",
      "Velocities                [-501.7733154296875, 41.75252151489258, -196.1...   \n",
      "\n",
      "                                                                      Row_2  \\\n",
      "CenterOfMass               [7514.962890625, 9917.6865234375, 4687.68359375]   \n",
      "Coordinates               [7514.784340179605, 9917.62391925332, 4687.709...   \n",
      "Density                                                            0.000027   \n",
      "ElectronAbundance                                                  1.176571   \n",
      "EnergyDissipation                                                       0.0   \n",
      "GFM_AGNRadiation                                                        0.0   \n",
      "GFM_CoolingRate                                                        -0.0   \n",
      "GFM_Metallicity                                                    0.016668   \n",
      "GFM_Metals                [0.7267019748687744, 0.25663039088249207, 0.00...   \n",
      "GFM_MetalsTagged          [0.0009100387105718255, 0.012643278576433659, ...   \n",
      "GFM_WindDMVelDisp                                                233.906204   \n",
      "GFM_WindHostHaloMass                                             233.906204   \n",
      "InternalEnergy                                                101527.953125   \n",
      "InternalEnergyOld                                             101527.953125   \n",
      "Machnumber                                                              0.0   \n",
      "MagneticField             [-0.12529346346855164, -0.34255674481391907, -...   \n",
      "MagneticFieldDivergence                                           -0.003162   \n",
      "Masses                                                             0.000005   \n",
      "NeutralHydrogenAbundance                                                0.0   \n",
      "ParticleIDs                                                    150289409012   \n",
      "Potential                                                     -92398.273438   \n",
      "StarFormationRate                                                       0.0   \n",
      "SubfindDMDensity                                                    0.00078   \n",
      "SubfindDensity                                                     0.000989   \n",
      "SubfindHsml                                                         0.83486   \n",
      "SubfindVelDisp                                                   237.473602   \n",
      "Velocities                [-106.74467468261719, 5.5247955322265625, 104....   \n",
      "\n",
      "                                                                      Row_3  \\\n",
      "CenterOfMass              [7466.27734375, 9930.833984375, 4705.71826171875]   \n",
      "Coordinates               [7466.471062461567, 9930.748152531543, 4705.81...   \n",
      "Density                                                                 0.0   \n",
      "ElectronAbundance                                                  1.170718   \n",
      "EnergyDissipation                                                       0.0   \n",
      "GFM_AGNRadiation                                                        0.0   \n",
      "GFM_CoolingRate                                                        -0.0   \n",
      "GFM_Metallicity                                                    0.008548   \n",
      "GFM_Metals                [0.7390928268432617, 0.25235888361930847, 0.00...   \n",
      "GFM_MetalsTagged          [0.00041550156311132014, 0.0067122322507202625...   \n",
      "GFM_WindDMVelDisp                                                171.755035   \n",
      "GFM_WindHostHaloMass                                             171.755035   \n",
      "InternalEnergy                                                 24994.845703   \n",
      "InternalEnergyOld                                              24994.845703   \n",
      "Machnumber                                                              0.0   \n",
      "MagneticField             [-0.015534941107034683, -0.01556081511080265, ...   \n",
      "MagneticFieldDivergence                                            -0.00142   \n",
      "Masses                                                             0.000005   \n",
      "NeutralHydrogenAbundance                                           0.000001   \n",
      "ParticleIDs                                                    150289413042   \n",
      "Potential                                                     -39580.195312   \n",
      "StarFormationRate                                                       0.0   \n",
      "SubfindDMDensity                                                   0.000009   \n",
      "SubfindDensity                                                      0.00001   \n",
      "SubfindHsml                                                        3.597304   \n",
      "SubfindVelDisp                                                   153.370438   \n",
      "Velocities                [-262.69659423828125, 22.651609420776367, -56....   \n",
      "\n",
      "                                                                      Row_4  \n",
      "CenterOfMass                 [7401.0625, 9932.2685546875, 4723.10693359375]  \n",
      "Coordinates               [7400.85182787544, 9932.337213578901, 4723.637...  \n",
      "Density                                                                 0.0  \n",
      "ElectronAbundance                                                  1.172069  \n",
      "EnergyDissipation                                                       0.0  \n",
      "GFM_AGNRadiation                                                        0.0  \n",
      "GFM_CoolingRate                                                        -0.0  \n",
      "GFM_Metallicity                                                    0.011348  \n",
      "GFM_Metals                [0.7354851961135864, 0.25316643714904785, 0.00...  \n",
      "GFM_MetalsTagged          [0.0005911362823098898, 0.00820345152169466, 0...  \n",
      "GFM_WindDMVelDisp                                                147.797226  \n",
      "GFM_WindHostHaloMass                                             147.797226  \n",
      "InternalEnergy                                                  8233.983398  \n",
      "InternalEnergyOld                                               8233.983398  \n",
      "Machnumber                                                              0.0  \n",
      "MagneticField             [-0.003329459810629487, 0.00179217045661062, 0...  \n",
      "MagneticFieldDivergence                                            0.000247  \n",
      "Masses                                                             0.000009  \n",
      "NeutralHydrogenAbundance                                           0.000003  \n",
      "ParticleIDs                                                    150289423026  \n",
      "Potential                                                     -23303.912109  \n",
      "StarFormationRate                                                       0.0  \n",
      "SubfindDMDensity                                                   0.000001  \n",
      "SubfindDensity                                                     0.000001  \n",
      "SubfindHsml                                                        8.049767  \n",
      "SubfindVelDisp                                                   136.966629  \n",
      "Velocities                [-172.25743103027344, -4.58042573928833, 15.35...  \n",
      "CPU times: user 8.27 ms, sys: 476 µs, total: 8.74 ms\n",
      "Wall time: 1.36 s\n"
     ]
    }
   ],
   "source": [
    "%%time\n",
    "rows = gasdf.take(5)  # Returns list of Row objects\n",
    "rows_dict = [row.asDict() for row in rows]\n",
    "df = pd.DataFrame(rows_dict)\n",
    "\n",
    "# Transpose and label\n",
    "df_transposed = df.transpose()\n",
    "df_transposed.columns = [f\"Row_{i}\" for i in range(len(rows))]\n",
    "print(df_transposed)"
   ]
  },
  {
   "cell_type": "code",
   "execution_count": 17,
   "id": "a94efdba-87ca-4ce1-9231-a39287187f07",
   "metadata": {
    "execution": {
     "iopub.execute_input": "2025-07-04T06:52:06.137702Z",
     "iopub.status.busy": "2025-07-04T06:52:06.137407Z",
     "iopub.status.idle": "2025-07-04T06:54:13.453657Z",
     "shell.execute_reply": "2025-07-04T06:54:13.452974Z",
     "shell.execute_reply.started": "2025-07-04T06:52:06.137675Z"
    },
    "tags": []
   },
   "outputs": [
    {
     "name": "stdout",
     "output_type": "stream",
     "text": [
      "CPU times: user 8.95 ms, sys: 6.3 ms, total: 15.2 ms\n",
      "Wall time: 2min 7s\n"
     ]
    },
    {
     "data": {
      "text/plain": [
       "8807829610"
      ]
     },
     "execution_count": 17,
     "metadata": {},
     "output_type": "execute_result"
    }
   ],
   "source": [
    "%%time\n",
    "gasdf.count()"
   ]
  },
  {
   "cell_type": "code",
   "execution_count": null,
   "id": "5872a640-85cf-45f6-812d-49eacbe35f79",
   "metadata": {},
   "outputs": [],
   "source": []
  }
 ],
 "metadata": {
  "kernelspec": {
   "display_name": "Python 3",
   "language": "python",
   "name": "python3"
  },
  "language_info": {
   "codemirror_mode": {
    "name": "ipython",
    "version": 3
   },
   "file_extension": ".py",
   "mimetype": "text/x-python",
   "name": "python",
   "nbconvert_exporter": "python",
   "pygments_lexer": "ipython3",
   "version": "3.8.10"
  }
 },
 "nbformat": 4,
 "nbformat_minor": 5
}
